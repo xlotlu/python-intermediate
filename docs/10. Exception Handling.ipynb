{
 "cells": [
  {
   "cell_type": "markdown",
   "metadata": {},
   "source": [
    "# 10. Exception Handling (`try` statement)\n",
    "\n",
    "Exception handling in Python is a way to deal with errors that might occur during the execution of your code. It allows you to gracefully handle these errors and prevent your program from crashing unexpectedly.\n",
    "\n",
    "\n",
    "### What is an exception?\n",
    "\n",
    "An exception is an error that occurs during the execution of a program. These can be caused by various reasons such as invalid input, file not found, division by zero, etc.\n",
    "\n",
    "### Why handle exceptions?\n",
    "\n",
    "Handling exceptions is important because it allows your program to continue running even when it encounters errors. Instead of crashing, you can catch these errors and take appropriate actions, such as displaying a user-friendly error message or trying an alternative approach.\n",
    "\n",
    "## 10.1 The `try` statement\n",
    "\n",
    "In Python, you handle exceptions using a try-except block. Here's the basic structure:\n",
    "\n",
    "```python\n",
    "try:\n",
    "    # Code that might raise an exception\n",
    "except ExceptionName:\n",
    "    # Code to handle the exception\n",
    "```\n",
    "\n",
    "Let's say you're trying to open a file. If the file doesn't exist, it will raise a `FileNotFoundError`. You can handle it like this:"
   ]
  },
  {
   "cell_type": "code",
   "execution_count": 1,
   "metadata": {},
   "outputs": [
    {
     "name": "stdout",
     "output_type": "stream",
     "text": [
      "File not found!\n"
     ]
    }
   ],
   "source": [
    "try:\n",
    "    file = open(\"myfile.txt\", \"r\")\n",
    "except FileNotFoundError:\n",
    "    print(\"File not found!\")"
   ]
  },
  {
   "cell_type": "markdown",
   "metadata": {},
   "source": [
    "You can handle different types of exceptions separately or together:\n",
    "\n",
    "```python\n",
    "try:\n",
    "    # Code that might raise an exception\n",
    "except (Exception1, Exception2):\n",
    "    # Code to handle Exception1 or Exception2\n",
    "except Exception3:\n",
    "    # Code to handle Exception3\n",
    "...\n"
   ]
  },
  {
   "cell_type": "code",
   "execution_count": 2,
   "metadata": {},
   "outputs": [
    {
     "name": "stdout",
     "output_type": "stream",
     "text": [
      "File not found!\n"
     ]
    }
   ],
   "source": [
    "try:\n",
    "    file = open(\"myfile.txt\", \"r\")\n",
    "except FileNotFoundError:\n",
    "    print(\"File not found!\")\n",
    "except PermissionError:\n",
    "    print(\"Permission denied.\")"
   ]
  },
  {
   "cell_type": "markdown",
   "metadata": {},
   "source": [
    "You can also use a finally block to execute code regardless of whether an exception was raised or not. It's useful for cleanup operations (like closing a file, closing a database connection):\n",
    "\n",
    "```python\n",
    "try:\n",
    "    # Code that might raise an exception\n",
    "except Exception:\n",
    "    # Code to handle the exception\n",
    "finally:\n",
    "    # Code that will always execute\n",
    "```\n",
    "\n",
    "## Exercises 10.1\n",
    "\n",
    "1. Write a program to read two numbers: `x` and `y` from standard input and print the result of `x / y`. If the user inputs invalid data (non-numeric input or `0` for `y`), display an error message and exit gracefully. \n",
    "1. Modify the previous program so that it asks the user to re-enter data until valid."
   ]
  },
  {
   "cell_type": "markdown",
   "metadata": {
    "editable": true,
    "slideshow": {
     "slide_type": ""
    },
    "tags": []
   },
   "source": [
    "## 10.2 Explicitly raising exceptions (`raise` statement)\n",
    "\n",
    "In Python, exceptions are raised when errors occur at runtime. We can also manually raise exceptions using the `raise` statement."
   ]
  },
  {
   "cell_type": "code",
   "execution_count": 3,
   "metadata": {
    "editable": true,
    "slideshow": {
     "slide_type": ""
    },
    "tags": [
     "raises-exception"
    ]
   },
   "outputs": [
    {
     "ename": "ValueError",
     "evalue": "",
     "output_type": "error",
     "traceback": [
      "\u001b[0;31m---------------------------------------------------------------------------\u001b[0m",
      "\u001b[0;31mValueError\u001b[0m                                Traceback (most recent call last)",
      "Cell \u001b[0;32mIn[3], line 1\u001b[0m\n\u001b[0;32m----> 1\u001b[0m \u001b[38;5;28;01mraise\u001b[39;00m \u001b[38;5;167;01mValueError\u001b[39;00m\n",
      "\u001b[0;31mValueError\u001b[0m: "
     ]
    }
   ],
   "source": [
    "raise ValueError"
   ]
  },
  {
   "cell_type": "markdown",
   "metadata": {},
   "source": [
    "We can optionally pass values to the exception to clarify why that exception was raised."
   ]
  },
  {
   "cell_type": "code",
   "execution_count": 4,
   "metadata": {
    "editable": true,
    "slideshow": {
     "slide_type": ""
    },
    "tags": [
     "raises-exception"
    ]
   },
   "outputs": [
    {
     "ename": "ValueError",
     "evalue": "Invalid value.",
     "output_type": "error",
     "traceback": [
      "\u001b[0;31m---------------------------------------------------------------------------\u001b[0m",
      "\u001b[0;31mValueError\u001b[0m                                Traceback (most recent call last)",
      "Cell \u001b[0;32mIn[4], line 1\u001b[0m\n\u001b[0;32m----> 1\u001b[0m \u001b[38;5;28;01mraise\u001b[39;00m \u001b[38;5;167;01mValueError\u001b[39;00m(\u001b[38;5;124m'\u001b[39m\u001b[38;5;124mInvalid value.\u001b[39m\u001b[38;5;124m'\u001b[39m)\n",
      "\u001b[0;31mValueError\u001b[0m: Invalid value."
     ]
    }
   ],
   "source": [
    "raise ValueError('Invalid value.')"
   ]
  },
  {
   "cell_type": "markdown",
   "metadata": {},
   "source": [
    "You will usually want to raise an exception when a certain business rule is violated:"
   ]
  },
  {
   "cell_type": "code",
   "execution_count": 5,
   "metadata": {
    "editable": true,
    "slideshow": {
     "slide_type": ""
    },
    "tags": []
   },
   "outputs": [],
   "source": [
    "def calculate_area(length, width):\n",
    "    if length <= 0 or width <= 0:\n",
    "        raise ValueError(\"Length and width must be positive numbers.\")\n",
    "    return length * width"
   ]
  },
  {
   "cell_type": "code",
   "execution_count": 6,
   "metadata": {
    "editable": true,
    "slideshow": {
     "slide_type": ""
    },
    "tags": [
     "raises-exception"
    ]
   },
   "outputs": [
    {
     "ename": "ValueError",
     "evalue": "Length and width must be positive numbers.",
     "output_type": "error",
     "traceback": [
      "\u001b[0;31m---------------------------------------------------------------------------\u001b[0m",
      "\u001b[0;31mValueError\u001b[0m                                Traceback (most recent call last)",
      "Cell \u001b[0;32mIn[6], line 1\u001b[0m\n\u001b[0;32m----> 1\u001b[0m \u001b[43mcalculate_area\u001b[49m\u001b[43m(\u001b[49m\u001b[38;5;241;43m10\u001b[39;49m\u001b[43m,\u001b[49m\u001b[43m \u001b[49m\u001b[38;5;241;43m0\u001b[39;49m\u001b[43m)\u001b[49m\n",
      "Cell \u001b[0;32mIn[5], line 3\u001b[0m, in \u001b[0;36mcalculate_area\u001b[0;34m(length, width)\u001b[0m\n\u001b[1;32m      1\u001b[0m \u001b[38;5;28;01mdef\u001b[39;00m \u001b[38;5;21mcalculate_area\u001b[39m(length, width):\n\u001b[1;32m      2\u001b[0m     \u001b[38;5;28;01mif\u001b[39;00m length \u001b[38;5;241m<\u001b[39m\u001b[38;5;241m=\u001b[39m \u001b[38;5;241m0\u001b[39m \u001b[38;5;129;01mor\u001b[39;00m width \u001b[38;5;241m<\u001b[39m\u001b[38;5;241m=\u001b[39m \u001b[38;5;241m0\u001b[39m:\n\u001b[0;32m----> 3\u001b[0m         \u001b[38;5;28;01mraise\u001b[39;00m \u001b[38;5;167;01mValueError\u001b[39;00m(\u001b[38;5;124m\"\u001b[39m\u001b[38;5;124mLength and width must be positive numbers.\u001b[39m\u001b[38;5;124m\"\u001b[39m)\n\u001b[1;32m      4\u001b[0m     \u001b[38;5;28;01mreturn\u001b[39;00m length \u001b[38;5;241m*\u001b[39m width\n",
      "\u001b[0;31mValueError\u001b[0m: Length and width must be positive numbers."
     ]
    }
   ],
   "source": [
    "calculate_area(10, 0)"
   ]
  },
  {
   "cell_type": "markdown",
   "metadata": {
    "editable": true,
    "slideshow": {
     "slide_type": ""
    },
    "tags": []
   },
   "source": [
    "## Exercises 10.2\n",
    "\n",
    "1. Write a function `convert_temperature(temp, scale)` that converts a temperature from one scale to another. The function should accept two arguments:\n",
    "\n",
    "- `temp`: The temperature value to be converted (a `float` or an `int`).\n",
    "- `scale`: The scale of the temperature, which can be either `\"C\"` for Celsius or `\"F\"` for Fahrenheit.\n",
    "\n",
    "The conversion formulas are as follows:\n",
    "```\n",
    "F = 9 / 5 * C + 32\n",
    "C = (F - 32) * 5 / 9\n",
    "```\n",
    "If the scale provided is neither `\"C\"` nor `\"F\"`, the function should raise a `ValueError` with an appropriate error message. "
   ]
  }
 ],
 "metadata": {
  "kernelspec": {
   "display_name": "Python 3 (ipykernel)",
   "language": "python",
   "name": "python3"
  },
  "language_info": {
   "codemirror_mode": {
    "name": "ipython",
    "version": 3
   },
   "file_extension": ".py",
   "mimetype": "text/x-python",
   "name": "python",
   "nbconvert_exporter": "python",
   "pygments_lexer": "ipython3",
   "version": "3.13.0"
  }
 },
 "nbformat": 4,
 "nbformat_minor": 4
}
