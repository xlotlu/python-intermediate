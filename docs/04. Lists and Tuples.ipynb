{
 "cells": [
  {
   "cell_type": "markdown",
   "id": "03e35686-d0d5-40d5-a972-b2029270d7b1",
   "metadata": {},
   "source": [
    "# 4. Lists and Tuples\n",
    "\n",
    "## 4.1. Lists\n",
    "\n",
    "A list is a data structure used to store a collection of items. List elements are objects of any type (think of numbers, strings, booleans, or even other lists). Items are usually homogeneous (i.e. they have the same behaviour) so that the same operation can pe applied to all of them, but this is not a requirement of the type. Lists are one of the most commonly used data structures in Python due to their flexibility and ease of use.\n",
    "\n",
    "### 4.1.1. Creating lists\n",
    "\n",
    "#### The empty list\n",
    "\n",
    "Using a pair of square brackets to denote the empty list:"
   ]
  },
  {
   "cell_type": "code",
   "execution_count": 1,
   "id": "03a1991b-467b-4222-951f-5c7aea6a8aef",
   "metadata": {},
   "outputs": [
    {
     "data": {
      "text/plain": [
       "list"
      ]
     },
     "execution_count": 1,
     "metadata": {},
     "output_type": "execute_result"
    }
   ],
   "source": [
    "my_list = []\n",
    "type(my_list)"
   ]
  },
  {
   "cell_type": "markdown",
   "id": "11ff6e6d-d9b9-4901-b655-e2ce47bd4383",
   "metadata": {},
   "source": [
    "Also, calling the `list` constructor without parameters will create an empty list:"
   ]
  },
  {
   "cell_type": "code",
   "execution_count": 2,
   "id": "be56f4ca-abed-435d-b13f-77fd31c48a15",
   "metadata": {},
   "outputs": [
    {
     "data": {
      "text/plain": [
       "True"
      ]
     },
     "execution_count": 2,
     "metadata": {},
     "output_type": "execute_result"
    }
   ],
   "source": [
    "my_other_list = list()\n",
    "my_list == my_other_list"
   ]
  },
  {
   "cell_type": "markdown",
   "id": "98d61aa6-bcbf-4a00-9553-03c967c542ab",
   "metadata": {},
   "source": [
    "#### Enumerating elements between square brackets\n",
    "\n",
    "The most common way to create a list is by enclosing comma-separated elements within square brackets."
   ]
  },
  {
   "cell_type": "code",
   "execution_count": 3,
   "id": "d6ba3330-9536-4660-8cdd-69da22d40ac0",
   "metadata": {},
   "outputs": [],
   "source": [
    "my_list = [6, 2, 8, 1]"
   ]
  },
  {
   "cell_type": "code",
   "execution_count": 4,
   "id": "5a2929b7-60f6-4d1b-a69e-da9f1064989a",
   "metadata": {},
   "outputs": [
    {
     "data": {
      "text/plain": [
       "[6, 2, 8, 1]"
      ]
     },
     "execution_count": 4,
     "metadata": {},
     "output_type": "execute_result"
    }
   ],
   "source": [
    "my_list"
   ]
  },
  {
   "cell_type": "code",
   "execution_count": 5,
   "id": "329b5356-9204-4f92-be76-e2aff832abd4",
   "metadata": {},
   "outputs": [
    {
     "data": {
      "text/plain": [
       "['hello']"
      ]
     },
     "execution_count": 5,
     "metadata": {},
     "output_type": "execute_result"
    }
   ],
   "source": [
    "my_list = [\"hello\"]  # one-element list\n",
    "my_list"
   ]
  },
  {
   "cell_type": "markdown",
   "id": "2e6249a6-5ef1-4847-9f7d-b148ff974559",
   "metadata": {},
   "source": [
    "#### Creating lists from other objects\n",
    "\n",
    "You can create a list by passing an iterable (such as a string, tuple, or another list) to the `list()` constructor."
   ]
  },
  {
   "cell_type": "code",
   "execution_count": 6,
   "id": "7d776fbc-7ea5-44bc-b81a-a449805a5f9a",
   "metadata": {},
   "outputs": [
    {
     "data": {
      "text/plain": [
       "['h', 'e', 'l', 'l', 'o']"
      ]
     },
     "execution_count": 6,
     "metadata": {},
     "output_type": "execute_result"
    }
   ],
   "source": [
    "my_list = list(\"hello\")\n",
    "my_list"
   ]
  },
  {
   "cell_type": "code",
   "execution_count": 7,
   "id": "bfd2d02c-3c37-462b-a713-f1d7cef4f839",
   "metadata": {},
   "outputs": [
    {
     "data": {
      "text/plain": [
       "[0, 1, 2, 3, 4, 5, 6, 7, 8, 9]"
      ]
     },
     "execution_count": 7,
     "metadata": {},
     "output_type": "execute_result"
    }
   ],
   "source": [
    "my_list = list(range(10))\n",
    "my_list"
   ]
  },
  {
   "cell_type": "markdown",
   "id": "fcb036f0-a415-45e5-af8b-45a162e98272",
   "metadata": {},
   "source": [
    "### Exercises 4.1.1\n",
    "\n",
    "1. Create a list containing elements of different types (`int`, `float`, `bool`, `str`). Print the list and its type.\n",
    "2. Create a list containing every second integer between 100 and 150.\n",
    "\n",
    "### 4.1.2. Manipulating lists\n",
    "\n",
    "Lists are sequences, i.e. ordered collections of items or elements. Strings are also sequences, so we'll see here some common operations which have a similar behavior for lists.\n",
    "\n",
    "#### Membership testing (`in` and `not in` operators)\n",
    "\n",
    "`in` and `not in` operators are used to check whether a value is a member of the list or not."
   ]
  },
  {
   "cell_type": "code",
   "execution_count": 8,
   "id": "e5da762d-184d-4b94-83a0-4f3a051e0f14",
   "metadata": {},
   "outputs": [
    {
     "data": {
      "text/plain": [
       "True"
      ]
     },
     "execution_count": 8,
     "metadata": {},
     "output_type": "execute_result"
    }
   ],
   "source": [
    "words = [\"good\", \"morning\", \"people\"]\n",
    "\"good\" in words"
   ]
  },
  {
   "cell_type": "code",
   "execution_count": 9,
   "id": "bbafafc1-35a8-4c12-b632-dbd95bfd43d8",
   "metadata": {},
   "outputs": [
    {
     "data": {
      "text/plain": [
       "True"
      ]
     },
     "execution_count": 9,
     "metadata": {},
     "output_type": "execute_result"
    }
   ],
   "source": [
    "\"hello\" not in words"
   ]
  },
  {
   "cell_type": "markdown",
   "id": "1a70bff4-5c0c-45aa-a24c-b09843402815",
   "metadata": {},
   "source": [
    "#### Concatenation (`+` and `+=` operators)\n",
    "\n",
    "We can add two lists together using `+`. The result will be a new list with all elements from both lists:"
   ]
  },
  {
   "cell_type": "code",
   "execution_count": 10,
   "id": "ba916e82-39ed-47ac-bb04-8b8c6e61485a",
   "metadata": {},
   "outputs": [
    {
     "name": "stdout",
     "output_type": "stream",
     "text": [
      "[4, 7, 8, 2, 4]\n"
     ]
    }
   ],
   "source": [
    "first_list = [4, 7, 8]\n",
    "second_list = [2, 4]\n",
    "third_list = first_list + second_list\n",
    "print(third_list)"
   ]
  },
  {
   "cell_type": "markdown",
   "id": "b45b82c0-f467-4c8e-a06d-1f1222a72ac5",
   "metadata": {},
   "source": [
    "`+=` operator is the in-place operator we've already used for numbers or strings. It updates the list on the left with items from the list on the right:"
   ]
  },
  {
   "cell_type": "code",
   "execution_count": 11,
   "id": "a345eff4-b210-498b-bae3-6909d6efdb02",
   "metadata": {},
   "outputs": [
    {
     "data": {
      "text/plain": [
       "[4, 7, 8, 1, 2, 3]"
      ]
     },
     "execution_count": 11,
     "metadata": {},
     "output_type": "execute_result"
    }
   ],
   "source": [
    "first_list += [1, 2, 3]\n",
    "first_list"
   ]
  },
  {
   "cell_type": "markdown",
   "id": "a93033e4-e3f2-45e1-9870-97c829aac01a",
   "metadata": {},
   "source": [
    "#### Multiplication (`*` and `*=` operators)\n",
    "\n",
    "Similar to its behaviour on strings, `*` does the concatenation of the list to itself multiple times:"
   ]
  },
  {
   "cell_type": "code",
   "execution_count": 1,
   "id": "184c5876-eec6-4f77-ac10-6ffe3d65eb28",
   "metadata": {},
   "outputs": [
    {
     "data": {
      "text/plain": [
       "[True, True, True]"
      ]
     },
     "execution_count": 1,
     "metadata": {},
     "output_type": "execute_result"
    }
   ],
   "source": [
    "[True] * 3"
   ]
  },
  {
   "cell_type": "code",
   "execution_count": 13,
   "id": "8ea31637-8a9f-4906-8afd-6812807b3698",
   "metadata": {},
   "outputs": [
    {
     "data": {
      "text/plain": [
       "['Anna', 'Mike', 'Anna', 'Mike', 'Anna', 'Mike', 'Anna', 'Mike']"
      ]
     },
     "execution_count": 13,
     "metadata": {},
     "output_type": "execute_result"
    }
   ],
   "source": [
    "names = [\"Anna\", \"Mike\"]\n",
    "names *= 4\n",
    "names"
   ]
  },
  {
   "cell_type": "markdown",
   "id": "0aaa99b8-824e-4dfe-94b4-93c6334d41f7",
   "metadata": {},
   "source": [
    "### Exercises 4.1.2.1\n",
    "\n",
    "1. Given the following list:\n",
    "   ```python\n",
    "   greetings = [\"hello\", \"hi\", \"good morning\", \"good afternoon\"]\n",
    "   ```\n",
    "   check, for each of the following objects, if they are in the list: `\"hi\", \"good\", [\"hello\", \"hi\"]`\n",
    "2. Add `\"good evening\"` and `\"hey there\"` (using in place list concatenation) to `greetings` and print the new value of the list.\n",
    "3. Create a list with elements from `range(562, 873, 17)`. Is 800 in this list?\n",
    "4. Multiply the list above by 3 and assign the result to a new variable. Print the new list."
   ]
  },
  {
   "cell_type": "markdown",
   "id": "ecff0acb-872a-4f67-aac6-25cd462f81a8",
   "metadata": {},
   "source": [
    "#### Indexing and slicing (`[]` operator):\n",
    "\n",
    "For lists, the indexing operation means retrieving an item of the list from a certain index:"
   ]
  },
  {
   "cell_type": "code",
   "execution_count": 14,
   "id": "66343d84-356e-4efe-9cd2-ffb3fea7a145",
   "metadata": {},
   "outputs": [
    {
     "data": {
      "text/plain": [
       "6"
      ]
     },
     "execution_count": 14,
     "metadata": {},
     "output_type": "execute_result"
    }
   ],
   "source": [
    "my_list = [6, 2, 6, 7, 9, 2, 4, 3, 1]\n",
    "my_list[0]"
   ]
  },
  {
   "cell_type": "code",
   "execution_count": 15,
   "id": "f7214ea6-2e1a-47a8-8589-ff9b102c4832",
   "metadata": {},
   "outputs": [
    {
     "data": {
      "text/plain": [
       "1"
      ]
     },
     "execution_count": 15,
     "metadata": {},
     "output_type": "execute_result"
    }
   ],
   "source": [
    "my_list[-1]"
   ]
  },
  {
   "cell_type": "markdown",
   "id": "f0e95f51-fbaf-4353-81e6-8db12f18beb9",
   "metadata": {},
   "source": [
    "The slicing operation is used to retrieve _slices_ (lists containing only elements on certain indexes) of the initial list. The slicing notation is `list[start:end:step]`, where:\n",
    "* `start`: Optional. The starting index of the slice (inclusive). If not specified, the default value is 0.\n",
    "* `end`: Optional. The ending index of the slice (exclusive). If not specified, the default value is the length of the list.\n",
    "* `step`: Optional. The step size for selecting items. If not specified, the default value is 1."
   ]
  },
  {
   "cell_type": "code",
   "execution_count": 16,
   "id": "c97ec46e-9606-40d1-9a1c-8bb8386b931b",
   "metadata": {},
   "outputs": [
    {
     "data": {
      "text/plain": [
       "[2, 6, 7, 9, 2, 4, 3]"
      ]
     },
     "execution_count": 16,
     "metadata": {},
     "output_type": "execute_result"
    }
   ],
   "source": [
    "my_list[1:-1]  # all elements except first and last one"
   ]
  },
  {
   "cell_type": "code",
   "execution_count": 17,
   "id": "916b9cb0-71c1-4684-8c16-d9728cb122ed",
   "metadata": {},
   "outputs": [
    {
     "data": {
      "text/plain": [
       "[6, 6, 9, 4, 1]"
      ]
     },
     "execution_count": 17,
     "metadata": {},
     "output_type": "execute_result"
    }
   ],
   "source": [
    "my_list[::2]  # every second element of the list"
   ]
  },
  {
   "cell_type": "markdown",
   "id": "abbee5d4-2be3-4261-aca2-13a4c753be89",
   "metadata": {},
   "source": [
    "#### Updating elements in a list\n",
    "\n",
    "Lists can be modified. You can assign a certain value to an existing index in order to change that item to the new value:"
   ]
  },
  {
   "cell_type": "code",
   "execution_count": 18,
   "id": "9743bb14-ba87-4a65-a721-39bfadacbde7",
   "metadata": {},
   "outputs": [
    {
     "data": {
      "text/plain": [
       "[6, 1000, 6, 7, 9, 2, 4, 3, 1]"
      ]
     },
     "execution_count": 18,
     "metadata": {},
     "output_type": "execute_result"
    }
   ],
   "source": [
    "my_list[1] = 1000\n",
    "my_list"
   ]
  },
  {
   "cell_type": "markdown",
   "id": "ffe603e4-0ca0-4371-a75f-17705417dc9f",
   "metadata": {},
   "source": [
    "You can also change multiple elements at a time by changing an entire slice to a new list:"
   ]
  },
  {
   "cell_type": "code",
   "execution_count": 19,
   "id": "b40640a7-fa42-4cb1-a7fc-97891894f2d1",
   "metadata": {},
   "outputs": [
    {
     "data": {
      "text/plain": [
       "[6, 9, 4]"
      ]
     },
     "execution_count": 19,
     "metadata": {},
     "output_type": "execute_result"
    }
   ],
   "source": [
    "my_list[2:7:2]"
   ]
  },
  {
   "cell_type": "code",
   "execution_count": 20,
   "id": "0481a224-2738-48f8-87dd-2d5a381163fa",
   "metadata": {},
   "outputs": [
    {
     "data": {
      "text/plain": [
       "[6, 1000, 0, 7, 0, 2, 0, 3, 1]"
      ]
     },
     "execution_count": 20,
     "metadata": {},
     "output_type": "execute_result"
    }
   ],
   "source": [
    "my_list[2:7:2] = [0, 0, 0]  # when specifying the step the two lists must have the same length\n",
    "my_list"
   ]
  },
  {
   "cell_type": "code",
   "execution_count": 21,
   "id": "9e13ca94-6b67-4c12-8e9d-f224117d1c8b",
   "metadata": {},
   "outputs": [
    {
     "data": {
      "text/plain": [
       "[1000, 0, 7, 0, 2]"
      ]
     },
     "execution_count": 21,
     "metadata": {},
     "output_type": "execute_result"
    }
   ],
   "source": [
    "my_list[1:6]"
   ]
  },
  {
   "cell_type": "code",
   "execution_count": 22,
   "id": "52dde013-bebd-403f-99a6-ec4e6f8fea62",
   "metadata": {},
   "outputs": [
    {
     "data": {
      "text/plain": [
       "[6, 5, 5, 0, 3, 1]"
      ]
     },
     "execution_count": 22,
     "metadata": {},
     "output_type": "execute_result"
    }
   ],
   "source": [
    "my_list[1:6] = [5, 5]  # when the step is not specified, the two lists can have different dimensions\n",
    "my_list"
   ]
  },
  {
   "cell_type": "markdown",
   "id": "8a787b30-9b6e-4e11-b1a1-6344cd9f2305",
   "metadata": {},
   "source": [
    "#### Deleting elements from a list\n",
    "\n",
    "Elements can also be deleted by index, using the keyword `del`:"
   ]
  },
  {
   "cell_type": "code",
   "execution_count": 23,
   "id": "586983a8-c4e1-4ef6-8fac-6a6ec695eeef",
   "metadata": {},
   "outputs": [
    {
     "data": {
      "text/plain": [
       "[6, 5, 5, 3, 1]"
      ]
     },
     "execution_count": 23,
     "metadata": {},
     "output_type": "execute_result"
    }
   ],
   "source": [
    "del my_list[3]\n",
    "my_list"
   ]
  },
  {
   "cell_type": "code",
   "execution_count": 24,
   "id": "c2074a1d-f417-49fc-8ca8-4ba72fff9f27",
   "metadata": {},
   "outputs": [
    {
     "data": {
      "text/plain": [
       "[6, 3, 1]"
      ]
     },
     "execution_count": 24,
     "metadata": {},
     "output_type": "execute_result"
    }
   ],
   "source": [
    "del my_list[1:3]\n",
    "my_list"
   ]
  },
  {
   "cell_type": "markdown",
   "id": "c8f9ba90-e952-45c9-9e8c-395ecdc28f30",
   "metadata": {},
   "source": [
    "### Exercises 4.1.2.2\n",
    "\n",
    "1. Create a list with at least 5 elements.\n",
    "    1. Print the entire list.\n",
    "    2. Print the reversed list, using slicing.\n",
    "    3. Print the first element of the list using indexing.\n",
    "    4. Print a slice of the list containing elements from index 2 to index 4.\n",
    "    5. Modify the second element of the list using index assignment. Print the modified list.\n",
    "    6. Modify a slice of the list to replace elements from index 1 to index 3 with new values. Print the modified list.\n",
    "    7. Delete the last element of the list. Print the final modified list.\n",
    "\n",
    "#### Using built-in functions on lists\n",
    "\n",
    "Python provides several built-in functions that work with lists to perform common operations. These functions are useful for manipulating and analyzing lists efficiently. Here are some of the built-in functions that work with lists:\n",
    "\n",
    "- `len()`: Returns the number of elements in a list."
   ]
  },
  {
   "cell_type": "code",
   "execution_count": 25,
   "id": "95b805f0-8fd9-4249-9ed7-2bb8b1038088",
   "metadata": {},
   "outputs": [
    {
     "data": {
      "text/plain": [
       "5"
      ]
     },
     "execution_count": 25,
     "metadata": {},
     "output_type": "execute_result"
    }
   ],
   "source": [
    "my_list = [4, 1, 6, 3, 2]\n",
    "len(my_list)"
   ]
  },
  {
   "cell_type": "markdown",
   "id": "c726191b-2052-4078-94f6-fb3ef27d5bd9",
   "metadata": {},
   "source": [
    "- `min()`: Returns the minimum value in a list."
   ]
  },
  {
   "cell_type": "code",
   "execution_count": 26,
   "id": "b4cf8e22-7ef4-46d1-a574-41a4c96691d8",
   "metadata": {},
   "outputs": [
    {
     "data": {
      "text/plain": [
       "1"
      ]
     },
     "execution_count": 26,
     "metadata": {},
     "output_type": "execute_result"
    }
   ],
   "source": [
    "min(my_list)"
   ]
  },
  {
   "cell_type": "markdown",
   "id": "da2051ce-96d5-4bc4-a93b-99bb54e1e28d",
   "metadata": {},
   "source": [
    "- `max()`: Returns the maximum value in a list."
   ]
  },
  {
   "cell_type": "code",
   "execution_count": 27,
   "id": "1c537042-f57e-44ee-aa91-ab0fa8a868db",
   "metadata": {},
   "outputs": [
    {
     "data": {
      "text/plain": [
       "6"
      ]
     },
     "execution_count": 27,
     "metadata": {},
     "output_type": "execute_result"
    }
   ],
   "source": [
    "max(my_list)"
   ]
  },
  {
   "cell_type": "markdown",
   "id": "837a667e-1feb-40e8-87b3-5c0578793815",
   "metadata": {},
   "source": [
    "- `sum()`: Returns the sum of all elements in a list."
   ]
  },
  {
   "cell_type": "code",
   "execution_count": 28,
   "id": "0f2d4d84-edae-4d99-b00e-d25e79682152",
   "metadata": {},
   "outputs": [
    {
     "data": {
      "text/plain": [
       "16"
      ]
     },
     "execution_count": 28,
     "metadata": {},
     "output_type": "execute_result"
    }
   ],
   "source": [
    "sum(my_list)"
   ]
  },
  {
   "cell_type": "markdown",
   "id": "acaf67a4-042e-4c38-87de-0825df548ab1",
   "metadata": {},
   "source": [
    "### Exercises 4.1.2.3\n",
    "\n",
    "1. Given the following list:\n",
    "   ```python\n",
    "   numbers = list(range(200, 150, -8))\n",
    "   ```\n",
    "   print the length, minimum value, maximum value and sum of all elements.\n",
    "2. The built-in `sum` function can also be called on the result of the `range` function. Try it out!\n",
    "\n",
    "#### Iterating on a list\n",
    "\n",
    "Lists are iterable, which means they can be used in conjunction with the `for` statement. Iterating on a list allows you to access each element in the list sequentially and perform operations on them."
   ]
  },
  {
   "cell_type": "code",
   "execution_count": 29,
   "id": "e250f82e-0abf-4ec1-b49b-d60e097f8803",
   "metadata": {},
   "outputs": [
    {
     "name": "stdout",
     "output_type": "stream",
     "text": [
      "sum\n",
      "of\n",
      "all\n",
      "elements\n"
     ]
    }
   ],
   "source": [
    "words = [\"sum\", \"of\", \"all\", \"elements\"]\n",
    "for word in words:\n",
    "    print(word)"
   ]
  },
  {
   "cell_type": "code",
   "execution_count": 30,
   "id": "b3dc3982-fd70-44e1-885b-664ff421fb9d",
   "metadata": {},
   "outputs": [
    {
     "name": "stdout",
     "output_type": "stream",
     "text": [
      "78\n",
      "32\n",
      "64\n"
     ]
    }
   ],
   "source": [
    "numbers = [78, 79, 32, 41, 23, 64]\n",
    "for nr in numbers:\n",
    "    if nr % 2 == 0:\n",
    "        print(nr)"
   ]
  },
  {
   "cell_type": "markdown",
   "id": "70ad742d-c21b-4e31-9e87-95945fab3146",
   "metadata": {},
   "source": [
    "### Exercises 4.1.2.4\n",
    "\n",
    "1. Iterate on the `greetings` list created above and print, for each item, the length of the string and a message saying if the string contains `\"good\"` or not, e.g.\n",
    "   > \"hello\" has a length of 5 characters.<br>\n",
    "   > \"hello\" does not contain \"good\".<br>\n",
    "   > [...]<br>\n",
    "   > \"good morning\" has a length of 12 characters.<br>\n",
    "   > \"good morning\" contains \"good\".\n",
    "2. Given the following list, print all elements that have two or more elements:\n",
    "   ```python\n",
    "    list_of_lists = [[10, 20], [40], [30, 56, 25], [23, 14], [33], [], [40, 22, 47, 39]]\n",
    "    ```\n",
    "\n",
    "## 4.2 Tuples\n",
    "\n",
    "A tuple is a data structure used to store a collection of items. Tuple elements are objects of any type (numbers, strings, booleans, even other tuples or lists). Tuples are very similar to lists, but they are not modifiable. We will see in the tuple operations below, they only support reading operations, and no update/delete operations.\n",
    "\n",
    "### 4.2.1. Creating tuples\n",
    "\n",
    "#### The empty tuple\n",
    "\n",
    "Using a pair of parentheses to denote the empty tuple:"
   ]
  },
  {
   "cell_type": "code",
   "execution_count": 31,
   "id": "77e9f764",
   "metadata": {},
   "outputs": [
    {
     "data": {
      "text/plain": [
       "tuple"
      ]
     },
     "execution_count": 31,
     "metadata": {},
     "output_type": "execute_result"
    }
   ],
   "source": [
    "my_tuple = ()\n",
    "type(my_tuple)"
   ]
  },
  {
   "cell_type": "markdown",
   "id": "9d8241f0-9c0a-48ff-b874-61ce394f83df",
   "metadata": {},
   "source": [
    "Just like we did for lists, calling the `tuple` constructor without parameters will create an empty tuple:"
   ]
  },
  {
   "cell_type": "code",
   "execution_count": 32,
   "id": "bdba9e34-f79d-491a-ad38-67b1201da807",
   "metadata": {},
   "outputs": [
    {
     "data": {
      "text/plain": [
       "True"
      ]
     },
     "execution_count": 32,
     "metadata": {},
     "output_type": "execute_result"
    }
   ],
   "source": [
    "my_other_tuple = tuple()\n",
    "my_other_tuple == my_tuple"
   ]
  },
  {
   "cell_type": "markdown",
   "id": "81b1b27e-6c99-4351-b474-ded9aa6a4798",
   "metadata": {},
   "source": [
    "#### The one element tuple\n",
    "\n",
    "In order to create a tuple with a single element, place the element inside the parentheses with a comma after it:"
   ]
  },
  {
   "cell_type": "code",
   "execution_count": 33,
   "id": "11d351e6-4267-4f49-9098-850ac2e56603",
   "metadata": {},
   "outputs": [
    {
     "data": {
      "text/plain": [
       "tuple"
      ]
     },
     "execution_count": 33,
     "metadata": {},
     "output_type": "execute_result"
    }
   ],
   "source": [
    "one_element_tuple = (2,)\n",
    "type(one_element_tuple)"
   ]
  },
  {
   "cell_type": "markdown",
   "id": "3ddb1f81-f1b1-4017-a8a3-5efaccf86771",
   "metadata": {},
   "source": [
    "Missing the trailing comma will lead the interpreter to believe that the parentheses are there to group the expression:"
   ]
  },
  {
   "cell_type": "code",
   "execution_count": 34,
   "id": "1f638355-8263-411d-ad43-58cc6015c1a1",
   "metadata": {},
   "outputs": [
    {
     "data": {
      "text/plain": [
       "int"
      ]
     },
     "execution_count": 34,
     "metadata": {},
     "output_type": "execute_result"
    }
   ],
   "source": [
    "not_a_tuple = (2)\n",
    "type(not_a_tuple)"
   ]
  },
  {
   "cell_type": "markdown",
   "id": "37e2e091-9044-4087-92fb-53584bbe039e",
   "metadata": {},
   "source": [
    "#### Enumerating elements between parentheses\n",
    "\n",
    "For tuples with multiples elements, you simply enclose comma-separated values between parentheses:"
   ]
  },
  {
   "cell_type": "code",
   "execution_count": 35,
   "id": "7badfc9e-d8c3-4d93-bfa4-96516c37ffff",
   "metadata": {},
   "outputs": [
    {
     "data": {
      "text/plain": [
       "(5, 2, 3, 1, 5, 3)"
      ]
     },
     "execution_count": 35,
     "metadata": {},
     "output_type": "execute_result"
    }
   ],
   "source": [
    "my_tuple = (5, 2, 3, 1, 5, 3)\n",
    "my_tuple"
   ]
  },
  {
   "cell_type": "markdown",
   "id": "9f2320aa-4082-4c75-9af4-783d7faf828b",
   "metadata": {},
   "source": [
    "#### Parentheses can be skipped\n",
    "\n",
    "Tuples can be created even without parentheses. This is often referred to as tuple packing or implicit tuple creation. Tuple packing occurs when multiple values are separated by commas, and Python automatically creates a tuple containing those values. "
   ]
  },
  {
   "cell_type": "code",
   "execution_count": 36,
   "id": "095e3334-4988-46ab-97fb-41bf1d1ea437",
   "metadata": {},
   "outputs": [
    {
     "data": {
      "text/plain": [
       "(1, 2, 3)"
      ]
     },
     "execution_count": 36,
     "metadata": {},
     "output_type": "execute_result"
    }
   ],
   "source": [
    "my_tuple = 1, 2, 3\n",
    "my_tuple"
   ]
  },
  {
   "cell_type": "code",
   "execution_count": 37,
   "id": "556d50a0-731e-45fa-81c4-3c961106dfc5",
   "metadata": {},
   "outputs": [
    {
     "data": {
      "text/plain": [
       "(1,)"
      ]
     },
     "execution_count": 37,
     "metadata": {},
     "output_type": "execute_result"
    }
   ],
   "source": [
    "my_tuple = 1,\n",
    "my_tuple"
   ]
  },
  {
   "cell_type": "markdown",
   "id": "52bac763-39d8-48ca-b04d-d393e2c4b35b",
   "metadata": {},
   "source": [
    "While tuple packing without parentheses can be convenient in some cases, using parentheses can improve readability and make the code more explicit. \n",
    "\n",
    "#### Tuple unpacking\n",
    "\n",
    "Tuple unpacking in Python allows you to assign the elements of a tuple to individual variables. It's a convenient way to extract values from tuples and work with them separately. "
   ]
  },
  {
   "cell_type": "code",
   "execution_count": 38,
   "id": "cadf8fba-14b2-4c8d-b696-f98af7219f08",
   "metadata": {},
   "outputs": [
    {
     "name": "stdout",
     "output_type": "stream",
     "text": [
      "1\n",
      "2\n",
      "3\n"
     ]
    }
   ],
   "source": [
    "my_tuple = (1, 2, 3)\n",
    "x, y, z = my_tuple\n",
    "print(x)\n",
    "print(y)\n",
    "print(z) "
   ]
  },
  {
   "cell_type": "markdown",
   "id": "138939d5-870b-47e0-93b3-362859e46b62",
   "metadata": {},
   "source": [
    "Tuple unpacking provides a concise and readable way to work with tuples and is a common idiom in Python programming. A common use case for tuple unpacking is variable interchange:"
   ]
  },
  {
   "cell_type": "code",
   "execution_count": 39,
   "id": "06391319-6f6e-45fc-b7cc-775fef83f011",
   "metadata": {},
   "outputs": [
    {
     "name": "stdout",
     "output_type": "stream",
     "text": [
      "Before interchange: 1 2\n",
      "After interchange: 2 1\n"
     ]
    }
   ],
   "source": [
    "a = 1\n",
    "b = 2\n",
    "print(\"Before interchange:\", a, b)\n",
    "a, b = b, a\n",
    "print(\"After interchange:\", a, b)"
   ]
  },
  {
   "cell_type": "markdown",
   "id": "c2f7e3a7-756f-442b-be85-32ab9014b469",
   "metadata": {},
   "source": [
    "Tuple unpacking can also be used while iterating. For example, iterating on a list containing tuples of fixed size can be done by using a single variable:"
   ]
  },
  {
   "cell_type": "code",
   "execution_count": 40,
   "id": "41116f7b-421c-42f3-ba1c-224457c3a871",
   "metadata": {},
   "outputs": [
    {
     "name": "stdout",
     "output_type": "stream",
     "text": [
      "('hello', 3)\n",
      "('hi', 6)\n",
      "('bye', 2)\n"
     ]
    }
   ],
   "source": [
    "list_of_tuples = [(\"hello\", 3), (\"hi\", 6), (\"bye\", 2)]\n",
    "for tup in list_of_tuples:\n",
    "    print(tup)"
   ]
  },
  {
   "cell_type": "markdown",
   "id": "bdd8c416-5534-4ebf-aa0f-58e75d4c0984",
   "metadata": {},
   "source": [
    "Or it can be done by unpacking the inner tuples into separate variables, allowing more flexibility in working with them inside the `for` block:"
   ]
  },
  {
   "cell_type": "code",
   "execution_count": 41,
   "id": "30d0f6dd-f49a-4387-a703-b0daa2c219dd",
   "metadata": {},
   "outputs": [
    {
     "name": "stdout",
     "output_type": "stream",
     "text": [
      "hello\n",
      "3\n",
      "\n",
      "hi\n",
      "6\n",
      "\n",
      "bye\n",
      "2\n",
      "\n"
     ]
    }
   ],
   "source": [
    "for word, nr in list_of_tuples:\n",
    "    print(word)\n",
    "    print(nr, end=\"\\n\\n\")"
   ]
  },
  {
   "cell_type": "markdown",
   "id": "8975c781-6a9f-4f5c-a2b9-6275ee9fdba7",
   "metadata": {},
   "source": [
    "#### Creating tuples from other objects\n",
    "\n",
    "You can create a tuple by passing an iterable (such as a string, list, range) to the `tuple()` constructor."
   ]
  },
  {
   "cell_type": "code",
   "execution_count": 42,
   "id": "b9e672d7-2808-49b0-9e86-666fbecef2f4",
   "metadata": {},
   "outputs": [
    {
     "data": {
      "text/plain": [
       "(1, 2, 3)"
      ]
     },
     "execution_count": 42,
     "metadata": {},
     "output_type": "execute_result"
    }
   ],
   "source": [
    "tuple([1, 2, 3])"
   ]
  },
  {
   "cell_type": "code",
   "execution_count": 43,
   "id": "987c6a3e-cc57-463c-8660-13f3140df144",
   "metadata": {},
   "outputs": [
    {
     "data": {
      "text/plain": [
       "(0, 1, 2, 3, 4)"
      ]
     },
     "execution_count": 43,
     "metadata": {},
     "output_type": "execute_result"
    }
   ],
   "source": [
    "tuple(range(5))"
   ]
  },
  {
   "cell_type": "code",
   "execution_count": 44,
   "id": "3f36b17a-5047-4c83-835b-d8e27ba4b419",
   "metadata": {},
   "outputs": [
    {
     "data": {
      "text/plain": [
       "('h', 'e', 'l', 'l', 'o')"
      ]
     },
     "execution_count": 44,
     "metadata": {},
     "output_type": "execute_result"
    }
   ],
   "source": [
    "tuple(\"hello\")"
   ]
  },
  {
   "cell_type": "markdown",
   "id": "6b80144d-42d5-4def-ac0b-db14d82faa52",
   "metadata": {},
   "source": [
    "### Exercises 4.2.1\n",
    "\n",
    "1. Given the following variables:\n",
    "   ```python\n",
    "   name = \"Jane\"\n",
    "   age = 20\n",
    "   is_student = True\n",
    "   ```\n",
    "   create a `person` tuple with their values. Print the tuple and its type.\n",
    "1. Given the following data structure:\n",
    "   ```python\n",
    "   friends = [\n",
    "       (\"Jane\", 20, [\"reading\", \"hiking\", \"biking\"]),\n",
    "       (\"Mike\", 17, [\"hiking\", \"fishing\"]),\n",
    "       (\"Anna\", 25, []),\n",
    "       (\"Sam\", 40, [\"playing guitar\"]),\n",
    "       (\"Dan\", 34, [\"painting\", \"reading\"]),\n",
    "    ]\n",
    "    ```\n",
    "   containing name, age and hobbies:\n",
    "   - first, iterate on `friends` list, print every item and its type;\n",
    "   - then, iterate on `friends` list using tuple unpacking for higher readability, and print each item in the tuples and their respective types;\n",
    "   - iterate a third time  on `friends` list, use tuple unpacking, and print the names of people who are over 18 and have at least two hobbies.\n",
    "   \n",
    "\n",
    "### 4.2.2 Manipulating tuples\n",
    "\n",
    "Operations we've already seen for lists also work for tuples, except those that change the object (item and slice assignment and deletion). Let's see some examples below.\n",
    "\n",
    "#### Membership testing (`in` and `not in` operators)"
   ]
  },
  {
   "cell_type": "code",
   "execution_count": 45,
   "id": "15709705-05ad-4cac-bb4f-3e9825989bf8",
   "metadata": {},
   "outputs": [
    {
     "data": {
      "text/plain": [
       "True"
      ]
     },
     "execution_count": 45,
     "metadata": {},
     "output_type": "execute_result"
    }
   ],
   "source": [
    "my_tuple = (\"hello\", \"world\")\n",
    "\"world\" in my_tuple"
   ]
  },
  {
   "cell_type": "code",
   "execution_count": 46,
   "id": "43b30963-7c3b-4a36-afc8-5753ca16a910",
   "metadata": {},
   "outputs": [
    {
     "data": {
      "text/plain": [
       "False"
      ]
     },
     "execution_count": 46,
     "metadata": {},
     "output_type": "execute_result"
    }
   ],
   "source": [
    "\"hello\" not in my_tuple"
   ]
  },
  {
   "cell_type": "markdown",
   "id": "54048184-2e58-4742-b58c-35913015d9bf",
   "metadata": {},
   "source": [
    "#### Concatenation and multiplication"
   ]
  },
  {
   "cell_type": "code",
   "execution_count": 47,
   "id": "2024ef09-ca53-456b-9e02-ec51a2b4e63d",
   "metadata": {},
   "outputs": [
    {
     "data": {
      "text/plain": [
       "('hello', 'world', '!')"
      ]
     },
     "execution_count": 47,
     "metadata": {},
     "output_type": "execute_result"
    }
   ],
   "source": [
    "my_tuple + (\"!\", )"
   ]
  },
  {
   "cell_type": "code",
   "execution_count": 48,
   "id": "cc1fdbf7-7dd2-42d4-907c-bb0414993a80",
   "metadata": {},
   "outputs": [
    {
     "data": {
      "text/plain": [
       "('hello', 'world', 'hello', 'world')"
      ]
     },
     "execution_count": 48,
     "metadata": {},
     "output_type": "execute_result"
    }
   ],
   "source": [
    "my_tuple * 2"
   ]
  },
  {
   "cell_type": "markdown",
   "id": "0c5db793-0d55-4629-b89b-0dcd6ad51530",
   "metadata": {},
   "source": [
    "#### Indexing and slicing"
   ]
  },
  {
   "cell_type": "code",
   "execution_count": 49,
   "id": "a3c5959b-cc18-4a41-9724-0c593076d5cb",
   "metadata": {},
   "outputs": [
    {
     "data": {
      "text/plain": [
       "'hello'"
      ]
     },
     "execution_count": 49,
     "metadata": {},
     "output_type": "execute_result"
    }
   ],
   "source": [
    "my_tuple[0]"
   ]
  },
  {
   "cell_type": "code",
   "execution_count": 50,
   "id": "18c07ed1-05c0-429c-9219-17e8ba38b0ed",
   "metadata": {},
   "outputs": [
    {
     "data": {
      "text/plain": [
       "('world',)"
      ]
     },
     "execution_count": 50,
     "metadata": {},
     "output_type": "execute_result"
    }
   ],
   "source": [
    "my_tuple[1:]"
   ]
  },
  {
   "cell_type": "markdown",
   "id": "48e8fe92-9d85-49d9-bf11-7c0252ccdd0a",
   "metadata": {},
   "source": [
    "#### Using built-in functions on tuples\n",
    "\n",
    "The same built-in functions presented above also work for tuples."
   ]
  },
  {
   "cell_type": "code",
   "execution_count": 51,
   "id": "7fe07025-830a-46de-9c0c-89ea4121a36f",
   "metadata": {},
   "outputs": [
    {
     "data": {
      "text/plain": [
       "4"
      ]
     },
     "execution_count": 51,
     "metadata": {},
     "output_type": "execute_result"
    }
   ],
   "source": [
    "my_tuple = (4, 6, 1, 4)\n",
    "len(my_tuple)"
   ]
  },
  {
   "cell_type": "code",
   "execution_count": 52,
   "id": "191dd71b-0b13-44f8-b288-53532ef96a48",
   "metadata": {},
   "outputs": [
    {
     "data": {
      "text/plain": [
       "1"
      ]
     },
     "execution_count": 52,
     "metadata": {},
     "output_type": "execute_result"
    }
   ],
   "source": [
    "min(my_tuple)"
   ]
  },
  {
   "cell_type": "code",
   "execution_count": 53,
   "id": "cf20af9d-9cf7-4284-8c65-dcfeffc5a03b",
   "metadata": {},
   "outputs": [
    {
     "data": {
      "text/plain": [
       "6"
      ]
     },
     "execution_count": 53,
     "metadata": {},
     "output_type": "execute_result"
    }
   ],
   "source": [
    "max(my_tuple)"
   ]
  },
  {
   "cell_type": "code",
   "execution_count": 54,
   "id": "caa09113-55cd-478a-813c-7fa465cd9cd8",
   "metadata": {},
   "outputs": [
    {
     "data": {
      "text/plain": [
       "15"
      ]
     },
     "execution_count": 54,
     "metadata": {},
     "output_type": "execute_result"
    }
   ],
   "source": [
    "sum(my_tuple)"
   ]
  },
  {
   "cell_type": "markdown",
   "id": "73aa1494-6ea8-465a-be57-e2423b31c6fd",
   "metadata": {},
   "source": [
    "#### Iterating on a tuple\n",
    "\n",
    "Tuples are iterable, which means they can be used in conjunction with the `for` statement."
   ]
  },
  {
   "cell_type": "code",
   "execution_count": 55,
   "id": "d5e80036-d897-4631-aea2-731648b576cd",
   "metadata": {},
   "outputs": [
    {
     "name": "stdout",
     "output_type": "stream",
     "text": [
      "4\n",
      "6\n",
      "1\n",
      "4\n"
     ]
    }
   ],
   "source": [
    "my_tuple = (4, 6, 1, 4)\n",
    "for item in my_tuple:\n",
    "    print(item)"
   ]
  },
  {
   "cell_type": "markdown",
   "id": "381f9cd4-0bf8-4e11-b71b-b9f3f23b7730",
   "metadata": {},
   "source": [
    "### Exercises 4.2.3\n",
    "\n",
    "1. Given the following variables:\n",
    "   ```python\n",
    "   x = 10\n",
    "   first_tuple = x + 2, x + 1, x\n",
    "   second_tuple = tuple(range(5))\n",
    "   third_tuple = (2, 3, 4)\n",
    "   ```\n",
    "   create a new tuple `final_tuple` containing:\n",
    "   - all elements in `first_tuple`, two times\n",
    "   - elements from index 1 (inclusive) up to index 4 (exclusive) from `second_tuple`\n",
    "   - element on index 1 from `third_tuple`\n",
    "\n",
    "   Do not hardcode values, the code should still work if we change the initial tuples. Use tuple concatenation, multiplication, indexing and slicing.\n",
    "1. Given the following tuple:\n",
    "   ```python\n",
    "   movies = (\n",
    "       (\"Titanic\", 7.9),\n",
    "       (\"Star Wars\", 8.6),\n",
    "       (\"The Lord of the Rings\", 9),\n",
    "       (\"Harry Potter\", 7.6),\n",
    "       (\"Transformers\", 7),\n",
    "   )\n",
    "   ```\n",
    "   representing movie titles and ratings:\n",
    "   - iterate on it, printing the names of the movies with a rating higher than 8 (consider these to be recommended movies);\n",
    "   - write a message saying `\"I have recommended x ouf of y movies\"`, where `x` and `y` should be the actual counts of recommended and total movies."
   ]
  }
 ],
 "metadata": {
  "kernelspec": {
   "display_name": "Python 3 (ipykernel)",
   "language": "python",
   "name": "python3"
  },
  "language_info": {
   "codemirror_mode": {
    "name": "ipython",
    "version": 3
   },
   "file_extension": ".py",
   "mimetype": "text/x-python",
   "name": "python",
   "nbconvert_exporter": "python",
   "pygments_lexer": "ipython3",
   "version": "3.13.0"
  }
 },
 "nbformat": 4,
 "nbformat_minor": 5
}
