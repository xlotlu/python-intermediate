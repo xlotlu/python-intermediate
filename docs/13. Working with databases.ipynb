{
 "cells": [
  {
   "cell_type": "markdown",
   "id": "282e6c79",
   "metadata": {},
   "source": [
    "# Working with databases\n",
    "\n",
    "## DB-API 2.0\n",
    "\n",
    "The Python Database API Specification, often referred to as DB-API, is a standard interface for connecting to relational databases from Python programs. It provides a consistent and uniform way to interact with databases, regardless of the underlying database management system (DBMS) being used. DB-API 2.0 was introduced to improve and standardize database connectivity in Python, making it easier for developers to work with databases in a consistent manner.\n",
    "\n",
    "## sqlite3\n",
    "\n",
    "SQLite is a C library that provides a lightweight disk-based database that doesn’t require a separate server process and allows accessing the database using a nonstandard variant of the SQL query language. Some applications can use SQLite for internal data storage. It’s also possible to prototype an application using SQLite and then port the code to a larger database such as PostgreSQL or Oracle.\n",
    "\n",
    "The `sqlite3` module in Python Standard Library implements DB-API 2.0 for SQlite databases.\n",
    "\n",
    "To work with a database we have to either create a database or use an existing one. Call `sqlite3.connect(`) to create a connection to the database `tutorial.db` in the current working directory, implicitly creating it if it does not exist:\n"
   ]
  },
  {
   "cell_type": "code",
   "execution_count": 17,
   "id": "f0b7fcac",
   "metadata": {},
   "outputs": [],
   "source": [
    "import sqlite3\n",
    "con = sqlite3.connect(\"tutorial.db\")"
   ]
  },
  {
   "cell_type": "markdown",
   "id": "cac7f023",
   "metadata": {},
   "source": [
    "The returned `Connection` object `con` represents the connection to the on-disk database.\n",
    "\n",
    "In order to execute SQL statements and fetch results from SQL queries, we will need to use a database cursor. Call `con.cursor()` to create the `Cursor`:"
   ]
  },
  {
   "cell_type": "code",
   "execution_count": 18,
   "id": "d0f712d2",
   "metadata": {},
   "outputs": [],
   "source": [
    "cur = con.cursor()"
   ]
  },
  {
   "cell_type": "markdown",
   "id": "c0b00806",
   "metadata": {},
   "source": [
    "Now that we’ve got a database connection and a cursor, we can create a database table `movie` with columns for title, release year, and review score."
   ]
  },
  {
   "cell_type": "code",
   "execution_count": 19,
   "id": "3456d10b",
   "metadata": {},
   "outputs": [
    {
     "data": {
      "text/plain": [
       "<sqlite3.Cursor at 0x104aa3840>"
      ]
     },
     "execution_count": 19,
     "metadata": {},
     "output_type": "execute_result"
    }
   ],
   "source": [
    "cur.execute(\"CREATE TABLE IF NOT EXISTS movie(title TEXT, year INTEGER, score INTEGER)\")"
   ]
  },
  {
   "cell_type": "markdown",
   "id": "0ccd50cb",
   "metadata": {},
   "source": [
    "Now, add two rows of data supplied as SQL literals by executing an INSERT statement, once again by calling `cur.execute()`:"
   ]
  },
  {
   "cell_type": "code",
   "execution_count": 20,
   "id": "d5abfac1",
   "metadata": {},
   "outputs": [
    {
     "data": {
      "text/plain": [
       "<sqlite3.Cursor at 0x104aa3840>"
      ]
     },
     "execution_count": 20,
     "metadata": {},
     "output_type": "execute_result"
    }
   ],
   "source": [
    "cur.execute(\"\"\"\n",
    "    INSERT INTO movie VALUES\n",
    "        ('Monty Python and the Holy Grail', 1975, 8.2),\n",
    "        ('And Now for Something Completely Different', 1971, 7.5)\n",
    "\"\"\")"
   ]
  },
  {
   "cell_type": "markdown",
   "id": "b89d1985",
   "metadata": {},
   "source": [
    "The `INSERT` statement implicitly opens a transaction, which needs to be committed before changes are saved in the database. Call `con.commit()` on the connection object to commit the transaction:"
   ]
  },
  {
   "cell_type": "code",
   "execution_count": 21,
   "id": "5a78506f",
   "metadata": {},
   "outputs": [],
   "source": [
    "con.commit()"
   ]
  },
  {
   "cell_type": "markdown",
   "id": "66806c7e",
   "metadata": {},
   "source": [
    "We can verify that the data was inserted correctly by executing a `SELECT` query."
   ]
  },
  {
   "cell_type": "code",
   "execution_count": 22,
   "id": "aad71940",
   "metadata": {},
   "outputs": [
    {
     "data": {
      "text/plain": [
       "[('Monty Python and the Holy Grail', 1975, 8.2),\n",
       " ('And Now for Something Completely Different', 1971, 7.5)]"
      ]
     },
     "execution_count": 22,
     "metadata": {},
     "output_type": "execute_result"
    }
   ],
   "source": [
    "res = cur.execute(\"SELECT * FROM movie\")\n",
    "res.fetchall()"
   ]
  },
  {
   "cell_type": "markdown",
   "id": "8c6cb9a2",
   "metadata": {},
   "source": [
    "Now, insert three more rows by calling `cur.executemany()`:"
   ]
  },
  {
   "cell_type": "code",
   "execution_count": 23,
   "id": "4c504f76",
   "metadata": {},
   "outputs": [],
   "source": [
    "data = [\n",
    "    (\"Monty Python Live at the Hollywood Bowl\", 1982, 7.9),\n",
    "    (\"Monty Python's The Meaning of Life\", 1983, 7.5),\n",
    "    (\"Monty Python's Life of Brian\", 1979, 8.0),\n",
    "]\n",
    "cur.executemany(\"INSERT INTO movie VALUES(?, ?, ?)\", data)\n",
    "con.commit()  # Remember to commit the transaction after executing INSERT."
   ]
  },
  {
   "cell_type": "markdown",
   "id": "4cf698e7",
   "metadata": {},
   "source": [
    "Notice that `?` placeholders are used to bind data to the query. Always use placeholders instead of string formatting to bind Python values to SQL statements, to avoid SQL injection attacks."
   ]
  },
  {
   "cell_type": "markdown",
   "id": "7aba7539",
   "metadata": {},
   "source": [
    "We can verify that the new rows were inserted by executing a SELECT query, this time iterating over the results of the query:"
   ]
  },
  {
   "cell_type": "code",
   "execution_count": 24,
   "id": "a2341d15",
   "metadata": {},
   "outputs": [
    {
     "name": "stdout",
     "output_type": "stream",
     "text": [
      "(1971, 'And Now for Something Completely Different')\n",
      "(1975, 'Monty Python and the Holy Grail')\n",
      "(1979, \"Monty Python's Life of Brian\")\n",
      "(1982, 'Monty Python Live at the Hollywood Bowl')\n",
      "(1983, \"Monty Python's The Meaning of Life\")\n"
     ]
    }
   ],
   "source": [
    "for row in cur.execute(\"SELECT year, title FROM movie ORDER BY year\"):\n",
    "    print(row)"
   ]
  },
  {
   "cell_type": "markdown",
   "id": "086ed7a2",
   "metadata": {},
   "source": [
    "Finally, close the cursor and the database connection:"
   ]
  },
  {
   "cell_type": "code",
   "execution_count": 25,
   "id": "f405d292",
   "metadata": {},
   "outputs": [],
   "source": [
    "cur.close()\n",
    "con.close()"
   ]
  },
  {
   "cell_type": "markdown",
   "id": "d3dfacd4-2110-44e3-bc0c-7dda953eed53",
   "metadata": {},
   "source": [
    "## Oracle\n",
    "\n",
    "Oracle databases are widely used for managing large-scale enterprise data. Whether you're building a data pipeline, automating tasks, or developing applications, integrating Oracle with Python makes these tasks more efficient and accessible.\n",
    "\n",
    "The official Python library for connecting to Oracle databases is **python-oracledb**. It replaces the older `cx_Oracle` driver, simplifying installation and offering more flexibility.\n",
    "\n",
    "Official documentation: [python-oracledb](https://python-oracledb.readthedocs.io/en/latest/user_guide/introduction.html)\n",
    "\n",
    "### 1. Setting Up the Environment\n",
    "Install the `oracledb` library:\n",
    "\n",
    "```bash\n",
    "pip install oracledb\n",
    "```\n",
    "\n",
    "No additional drivers or Oracle Clients are needed in most cases.\n",
    "\n",
    "### 2. Thin vs. Thick Modes\n",
    "\n",
    "`python-oracledb` supports two connection modes:\n",
    "\n",
    "- **Thin Mode (Default):**\n",
    "  - No need to install Oracle Instant Client.\n",
    "  - Uses pure Python for the connection.\n",
    "  - Ideal for simple applications and cloud environments.\n",
    "  \n",
    "- **Thick Mode:**\n",
    "  - Requires Oracle Instant Client or full Oracle Client installation.\n",
    "  - Offers more features like connection pooling and advanced data types.\n",
    "  - Activate it with:\n",
    "    ```python\n",
    "    import oracledb\n",
    "    oracledb.init_oracle_client(lib_dir=\"/path/to/instant/client\")\n",
    "    ```\n",
    "In most cases, Thin Mode works perfectly with Autonomous Databases.\n",
    "\n",
    "### 3. Connecting to Oracle\n",
    "\n",
    "#### Basic Connection (Thin Mode)\n",
    "```python\n",
    "import oracledb\n",
    "\n",
    "connection = oracledb.connect(\n",
    "    user=\"your_username\",\n",
    "    password=\"your_password\",\n",
    "    dsn=\"hostname:1521/service_name\"\n",
    ")\n",
    "\n",
    "print(\"Connected to Oracle DB:\", connection.version)\n",
    "connection.close()\n",
    "```\n",
    "\n",
    "#### Autonomous DB with Wallet\n",
    "If you're using Oracle Autonomous Database, download the wallet and extract its contents.\n",
    "```python\n",
    "connection = oracledb.connect(\n",
    "    user=\"admin\",\n",
    "    password=\"your_password\",\n",
    "    dsn=\"mydb_high\",\n",
    "    config_dir=\"/path/to/wallet\"\n",
    ")\n",
    "```\n",
    "This securely connects to the cloud database using SSL.\n",
    "\n",
    "### 4. Running Queries\n",
    "Once connected, you can run SQL queries using cursors.\n",
    "\n",
    "#### Creating Tables\n",
    "```python\n",
    "cursor = connection.cursor()\n",
    "cursor.execute(\"\"\"\n",
    "CREATE TABLE universities (\n",
    "    id NUMBER GENERATED BY DEFAULT AS IDENTITY,\n",
    "    name VARCHAR2(255) NOT NULL,\n",
    "    PRIMARY KEY (id)\n",
    ")\n",
    "\"\"\")\n",
    "```\n",
    "\n",
    "#### Inserting Data\n",
    "\n",
    "You can use **positional placeholders** or **named placeholders** when inserting data.\n",
    "\n",
    "- **Positional Placeholders**: Use `:1`, `:2`, etc., to represent values in the query.\n",
    "```python\n",
    "cursor.execute(\"INSERT INTO universities (name) VALUES (:1)\", [\"Harvard\"])\n",
    "connection.commit()\n",
    "```\n",
    "\n",
    "- **Named Placeholders**: Use `:name`, `:value`, etc., for more clarity.\n",
    "```python\n",
    "cursor.execute(\"INSERT INTO universities (name) VALUES (:name)\", {\"name\": \"MIT\"})\n",
    "connection.commit()\n",
    "```\n",
    "\n",
    "### Inserting Multiple Rows with execute_many\n",
    "When inserting multiple records, use `executemany()` to improve performance:\n",
    "```python\n",
    "data = [\n",
    "    (\"Stanford\"),\n",
    "    (\"Oxford\"),\n",
    "    (\"Cambridge\")\n",
    "]\n",
    "cursor.executemany(\"INSERT INTO universities (name) VALUES (:1)\", data)\n",
    "connection.commit()\n",
    "```\n",
    "This reduces the number of requests to the database.\n",
    "\n",
    "#### Fetching Data\n",
    "```python\n",
    "cursor.execute(\"SELECT * FROM universities\")\n",
    "for row in cursor:\n",
    "    print(row)\n",
    "```\n",
    "\n",
    "### 5. Handling Errors\n",
    "Always handle database operations with proper error handling.\n",
    "```python\n",
    "try:\n",
    "    connection = oracledb.connect(...)\n",
    "except oracledb.DatabaseError as e:\n",
    "    print(\"Error:\", e)\n",
    "```\n",
    "\n",
    "### 6. Closing Connections\n",
    "Closing the cursor and connection is crucial to avoid resource leaks.\n",
    "```python\n",
    "cursor.close()\n",
    "connection.close()\n",
    "```"
   ]
  },
  {
   "cell_type": "markdown",
   "id": "2d867821",
   "metadata": {},
   "source": [
    "## Other DBMS\n",
    "\n",
    "DB-API 2.0 has been widely adopted by Python database libraries and modules, making it possible to work with various databases using a consistent programming interface. Developers can choose from a variety of database drivers and modules that implement this standard to work with their preferred DBMS.\n",
    "\n",
    "- [MySQL](https://dev.mysql.com/doc/connector-python/en/)\n",
    "- [PostgrsSQL](https://www.psycopg.org/docs/)\n",
    "- SQL Server: [pyodbc](https://github.com/mkleehammer/pyodbc/wiki) / [cTDS](https://zillow.github.io/ctds/)\n",
    "- [MariaDB](https://mariadb.com/resources/blog/how-to-connect-python-programs-to-mariadb/)\n",
    "- [GaussDB](https://support.huaweicloud.com/intl/en-us/mgtg-dws/dws_01_0171.html) with [PyGreSQL](https://www.pygresql.org/contents/tutorial.html#first-steps-with-the-db-api-2-0-interface)"
   ]
  },
  {
   "cell_type": "markdown",
   "id": "1acea9c1",
   "metadata": {},
   "source": [
    "## Exercises\n",
    "\n",
    "1. Create a new table `books` with the following fields: `id`, `title`, `author`, `year`, `genre`, `pages`, `publisher`.\n",
    "2. Load data from [`books.csv`](books.csv) and insert it into the table.\n",
    "3. Run a `SELECT` query to check that the data was inserted.\n",
    "4. Update all rows in the table with randomly generated years (use [`random.randint`](https://docs.python.org/3/library/random.html#random.randint) and an interval like 1900-2024).\n",
    "5. Export data from the `books` table to a JSON file."
   ]
  }
 ],
 "metadata": {
  "kernelspec": {
   "display_name": "Python 3 (ipykernel)",
   "language": "python",
   "name": "python3"
  },
  "language_info": {
   "codemirror_mode": {
    "name": "ipython",
    "version": 3
   },
   "file_extension": ".py",
   "mimetype": "text/x-python",
   "name": "python",
   "nbconvert_exporter": "python",
   "pygments_lexer": "ipython3",
   "version": "3.13.0"
  }
 },
 "nbformat": 4,
 "nbformat_minor": 5
}
