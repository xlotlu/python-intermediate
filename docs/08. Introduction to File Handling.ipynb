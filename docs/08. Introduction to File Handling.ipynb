{
 "cells": [
  {
   "cell_type": "markdown",
   "metadata": {},
   "source": [
    "# 8. Introduction to File Handling\n",
    "\n",
    "### 8.1 Opening a File\n",
    "\n",
    "You can use the `open()` function to open a file. It takes two arguments: the file path and the mode in which you want to open the file (`r` for reading, `w` for writing, `a` for appending, and `r+` for reading and writing). For example:"
   ]
  },
  {
   "cell_type": "code",
   "execution_count": 4,
   "metadata": {},
   "outputs": [],
   "source": [
    "f = open(\"file_example_in.txt\", \"r\")"
   ]
  },
  {
   "cell_type": "markdown",
   "metadata": {},
   "source": [
    "### 8.2 Reading from a File\n",
    "\n",
    "For reading lines from a file, you can loop over the file object. This is memory efficient, fast, and leads to simple code:"
   ]
  },
  {
   "cell_type": "code",
   "execution_count": 5,
   "metadata": {},
   "outputs": [
    {
     "name": "stdout",
     "output_type": "stream",
     "text": [
      "Beautiful is better than ugly.\n",
      "Explicit is better than implicit.\n",
      "Simple is better than complex.\n",
      "Complex is better than complicated.\n",
      "Flat is better than nested.\n",
      "Sparse is better than dense.\n",
      "Readability counts."
     ]
    }
   ],
   "source": [
    "for line in f:\n",
    "    print(line, end='')"
   ]
  },
  {
   "cell_type": "markdown",
   "metadata": {},
   "source": [
    "Another strategy is reading the entire content of the file in a variable:"
   ]
  },
  {
   "cell_type": "code",
   "execution_count": 6,
   "metadata": {},
   "outputs": [
    {
     "name": "stdout",
     "output_type": "stream",
     "text": [
      "Beautiful is better than ugly.\n",
      "Explicit is better than implicit.\n",
      "Simple is better than complex.\n",
      "Complex is better than complicated.\n",
      "Flat is better than nested.\n",
      "Sparse is better than dense.\n",
      "Readability counts.\n"
     ]
    }
   ],
   "source": [
    "f = open(\"file_example_in.txt\", \"r\")\n",
    "content = f.read()\n",
    "print(content)"
   ]
  },
  {
   "cell_type": "markdown",
   "metadata": {},
   "source": [
    "### 8.3 Writing to a File\n",
    "\n",
    "In order to write to a file, it should be open in write mode, for example:\n",
    "- `w` (write) - the file will be created if it doesn't exist and overwritten if it does exist\n",
    "- `a` (append) - the file will be created if it doesn't exist and anything you write to it will be added at the end"
   ]
  },
  {
   "cell_type": "code",
   "execution_count": 7,
   "metadata": {},
   "outputs": [],
   "source": [
    "f = open(\"file_example_out.txt\", \"w\")"
   ]
  },
  {
   "cell_type": "markdown",
   "metadata": {},
   "source": [
    "After opening a file for writing, you can use the `write()` method to write data to the file."
   ]
  },
  {
   "cell_type": "code",
   "execution_count": 8,
   "metadata": {},
   "outputs": [
    {
     "data": {
      "text/plain": [
       "19"
      ]
     },
     "execution_count": 8,
     "metadata": {},
     "output_type": "execute_result"
    }
   ],
   "source": [
    "f.write(\"Readability counts.\")"
   ]
  },
  {
   "cell_type": "markdown",
   "metadata": {},
   "source": [
    "### 8.4 Closing the File\n",
    "\n",
    "After you finish working with the file, you should call `close()` to close the file and immediately free up any system resources used by it. If you don’t explicitly close a file, Python’s garbage collector will eventually destroy the object and close the open file for you, but the file may stay open for a while."
   ]
  },
  {
   "cell_type": "code",
   "execution_count": 9,
   "metadata": {},
   "outputs": [],
   "source": [
    "f.close()"
   ]
  },
  {
   "cell_type": "markdown",
   "metadata": {},
   "source": [
    "### Exercises 8.4\n",
    "\n",
    "1. Write a program that reads the content of a text file and counts the number of words in it. Print the word count.\n",
    "1. Write a function `grep` that receives `text` and `file` as parameters and returns a list with all the lines in the file containing `text`. \n",
    "1. Write another function `grepinto` that receives `text`, `infile` and `outfile` as parameters and writes to `outfile` the lines in `infile` that contain `text`.\n",
    "    \n",
    "    [!] `file`, `infile` and `outfile` are all file names - not file handlers.\n",
    "\n",
    "### 8.5 Context Managers\n",
    "\n",
    "A context manager is an object that is used to manage resources, such as files, network connections, or database connections. Context managers are typically used with the `with` statement to ensure that resources are properly managed and released when they are no longer needed, even if an error occurs.\n",
    "\n",
    "The built-in `open()` function returns a file object that can be used as a context manager. When used with the `with` statement, it automatically handles opening and closing the file. "
   ]
  },
  {
   "cell_type": "code",
   "execution_count": 10,
   "metadata": {},
   "outputs": [],
   "source": [
    "with open(\"file_example_in.txt\", \"r\") as f:\n",
    "    content = f.read()\n",
    "    # Do something with the file content"
   ]
  },
  {
   "cell_type": "markdown",
   "metadata": {},
   "source": [
    "In this example:\n",
    "\n",
    "- `open(\"file_example_in.txt\", \"r\")` opens the file `\"example.txt\"` for reading.\n",
    "- `as f` assigns the file object to the variable `f`.\n",
    "- The `with` statement ensures that the file is properly closed when the block inside the with statement is exited, even if an exception occurs.\n",
    "- Inside the block, you can perform file operations like reading, writing, or appending.\n",
    "  \n",
    "The benefit of using a context manager with files is that it ensures that resources are released promptly and reliably. It also makes the code cleaner and more readable by clearly indicating the scope in which the file is being used.\n",
    "\n",
    "### Exercises 8.5\n",
    "\n",
    "1. Rewrite `grep` and `grepinto` functions to use context managers. For `grepinto`, note that you can open two files in a single `with` statement:\n",
    "   ```python\n",
    "   with open(read_file, \"r\") as fr, open(write_file, \"w\") as fw:\n",
    "       # do something with the files"
   ]
  }
 ],
 "metadata": {
  "kernelspec": {
   "display_name": "Python 3 (ipykernel)",
   "language": "python",
   "name": "python3"
  },
  "language_info": {
   "codemirror_mode": {
    "name": "ipython",
    "version": 3
   },
   "file_extension": ".py",
   "mimetype": "text/x-python",
   "name": "python",
   "nbconvert_exporter": "python",
   "pygments_lexer": "ipython3",
   "version": "3.13.0"
  }
 },
 "nbformat": 4,
 "nbformat_minor": 4
}
