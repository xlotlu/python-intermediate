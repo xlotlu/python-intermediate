{
 "cells": [
  {
   "cell_type": "markdown",
   "metadata": {},
   "source": [
    "# 11. Introduction to Object-Oriented Programming\n",
    "\n",
    "Object-oriented Programming, or OOP for short, is a programming paradigm which provides a means of structuring programs so that properties and behaviors are bundled into individual objects. OOP models real-world entities as software objects, which have some data associated with them and can perform certain functions.\n",
    "\n",
    "## 11.1 Classes and Instances\n",
    "\n",
    "In OOP, a **class** is a blueprint for creating objects. It defines the attributes and behaviors that objects of that class will have.\n",
    "An **object** is an instance of a class. It represents a specific instance of the class, with its own unique data.\n",
    "\n",
    "For example, `0` is an instance of the class `int`.\n",
    "\n",
    "## 11.2 Defining the class\n",
    "\n",
    "The simplest definition for a class consists of the following:\n",
    "\n",
    "* keyword `class`\n",
    "* the name of the class (usually camel-cased)\n",
    "* an optional docstring\n",
    "* the body of the class"
   ]
  },
  {
   "cell_type": "code",
   "execution_count": 22,
   "metadata": {},
   "outputs": [],
   "source": [
    "class MyClass:\n",
    "    \"\"\"Docstring for MyClass\"\"\"\n",
    "    pass"
   ]
  },
  {
   "cell_type": "markdown",
   "metadata": {},
   "source": [
    "## 11.3 Instantiating the class\n",
    "\n",
    "Instantiating the class, or creating an object of that type, is done by *calling* the class:"
   ]
  },
  {
   "cell_type": "code",
   "execution_count": 23,
   "metadata": {},
   "outputs": [
    {
     "data": {
      "text/plain": [
       "__main__.MyClass"
      ]
     },
     "execution_count": 23,
     "metadata": {},
     "output_type": "execute_result"
    }
   ],
   "source": [
    "my_obj = MyClass()\n",
    "type(my_obj)"
   ]
  },
  {
   "cell_type": "markdown",
   "metadata": {},
   "source": [
    "### Exercises 11.3\n",
    "\n",
    "1. Create a `BankAccount` class.\n",
    "1. Create a `BankAccount` instance and inspect its type.\n",
    "\n",
    "## 11.4 Class members: attributes\n",
    "\n",
    "Any definining characteristics that we wish to store on objects can be kept on attributes. They are also known as data members, and there are two types of data members:\n",
    "\n",
    "* class variables (shared by all instances of a class)\n",
    "* instance variables (particular to every instance)\n",
    "\n",
    "Most often, instance variables are defined in a special initializing method, which is called after the instance is created. Methods are just like normal functions with the exception that the first argument to each method is `self` - the current instance."
   ]
  },
  {
   "cell_type": "code",
   "execution_count": 24,
   "metadata": {},
   "outputs": [],
   "source": [
    "class Vehicle:\n",
    "    # Class attribute\n",
    "    wheels = 0\n",
    "\n",
    "    def __init__(self, color, make, model=None):\n",
    "        # Instance attributes\n",
    "        self.color = color\n",
    "        self.make = make\n",
    "        self.model = model\n",
    "        self.speed = 0"
   ]
  },
  {
   "cell_type": "markdown",
   "metadata": {},
   "source": [
    "When instantiating a class, we must send the arguments `__init__` expects, minus the `self` argument which is implicitly passed."
   ]
  },
  {
   "cell_type": "code",
   "execution_count": 25,
   "metadata": {},
   "outputs": [],
   "source": [
    "vehicle = Vehicle(\"Red\", \"Toyota\")"
   ]
  },
  {
   "cell_type": "markdown",
   "metadata": {},
   "source": [
    "### Accessing attributes\n",
    "\n",
    "We can access the attributes of an object using dot notation."
   ]
  },
  {
   "cell_type": "code",
   "execution_count": 26,
   "metadata": {},
   "outputs": [
    {
     "data": {
      "text/plain": [
       "'Red'"
      ]
     },
     "execution_count": 26,
     "metadata": {},
     "output_type": "execute_result"
    }
   ],
   "source": [
    "vehicle.color"
   ]
  },
  {
   "cell_type": "code",
   "execution_count": 27,
   "metadata": {},
   "outputs": [
    {
     "data": {
      "text/plain": [
       "'White'"
      ]
     },
     "execution_count": 27,
     "metadata": {},
     "output_type": "execute_result"
    }
   ],
   "source": [
    "vehicle.color = \"White\"\n",
    "vehicle.color"
   ]
  },
  {
   "cell_type": "markdown",
   "metadata": {},
   "source": [
    "Class attributes can be accessed both from the class and from any instance:"
   ]
  },
  {
   "cell_type": "code",
   "execution_count": 28,
   "metadata": {},
   "outputs": [
    {
     "data": {
      "text/plain": [
       "0"
      ]
     },
     "execution_count": 28,
     "metadata": {},
     "output_type": "execute_result"
    }
   ],
   "source": [
    "Vehicle.wheels"
   ]
  },
  {
   "cell_type": "markdown",
   "metadata": {},
   "source": [
    "### Exercises 11.4\n",
    "\n",
    "1. Modify `BankAccount` class to receive two parameters on initialisation: \n",
    "    * `bank_name` - a string to identify the bank (required)\n",
    "    * `balance` - a number that holds the current balance (optional, default 0)\n",
    "1. Create two `BankAccount` instances (different bank names, one with balance specified, the other one without) and inspect their attributes.\n",
    "\n",
    "## 11.5 Class members: methods\n",
    "\n",
    "Methods are functions defined inside classes. Instance methods always receive the current instance (`self`) as the first parameter. `self` has to be specified in the method definition. "
   ]
  },
  {
   "cell_type": "code",
   "execution_count": 29,
   "metadata": {},
   "outputs": [],
   "source": [
    "class Vehicle:\n",
    "    # Class attribute\n",
    "    wheels = 0\n",
    "\n",
    "    def __init__(self, color, make, model):\n",
    "        # Instance attributes\n",
    "        self.color = color\n",
    "        self.make = make\n",
    "        self.model = model\n",
    "        self.speed = 0\n",
    "\n",
    "    def accelerate(self, increment):\n",
    "        self.speed += increment\n",
    "\n",
    "    def brake(self, decrement):\n",
    "        self.speed -= decrement\n",
    "\n",
    "    def display_speed(self):\n",
    "        print(\"Current speed:\", self.speed)\n"
   ]
  },
  {
   "cell_type": "markdown",
   "metadata": {},
   "source": [
    "### Calling methods\n",
    "\n",
    "When calling an instance method, you don't need to send the current object as its first parameter; Python knows who the current instance is because you are using it to call the method: `current_obj.method(params)`."
   ]
  },
  {
   "cell_type": "code",
   "execution_count": 30,
   "metadata": {},
   "outputs": [
    {
     "name": "stdout",
     "output_type": "stream",
     "text": [
      "Current speed: 20\n"
     ]
    }
   ],
   "source": [
    "vehicle = Vehicle(\"Red\", \"Toyota\", \"Camry\")\n",
    "vehicle.accelerate(20)\n",
    "vehicle.display_speed()"
   ]
  },
  {
   "cell_type": "code",
   "execution_count": 31,
   "metadata": {},
   "outputs": [
    {
     "name": "stdout",
     "output_type": "stream",
     "text": [
      "10\n"
     ]
    }
   ],
   "source": [
    "vehicle.brake(10)\n",
    "print(vehicle.speed)"
   ]
  },
  {
   "cell_type": "markdown",
   "metadata": {},
   "source": [
    "## Exercises 11.5\n",
    "\n",
    "1. Create two methods in `BankAccount` class, one to withdraw money and another one to deposit money into the account. The withdraw method will not allow withdrawing more money than available: it will raise `ValueError` exception and not change the balance.\n",
    "1. Test the two methods with different inputs on the existing instances."
   ]
  },
  {
   "cell_type": "markdown",
   "metadata": {},
   "source": [
    "## 11.6 Inheritance\n",
    "\n",
    "Instead of starting from scratch, you can create a class by deriving it from a pre-existing class by listing the parent class in parentheses after the new class name.\n",
    "\n",
    "The child class inherits the attributes of its parent class, and you can use those attributes as if they were defined in the child class. A child class can also override data members and methods from the parent.\n",
    "\n",
    "In order to call a parent method from a child method, we need to use `super()`. `super()` returns a temporary object of the superclass that then allows you to call that superclass’s methods."
   ]
  },
  {
   "cell_type": "code",
   "execution_count": 32,
   "metadata": {},
   "outputs": [],
   "source": [
    "class Car(Vehicle):\n",
    "    # Class attribute specific to Car\n",
    "    wheels = 4\n",
    "\n",
    "    def __init__(self, color, make, model, fuel_type):\n",
    "        # Call the constructor of the superclass\n",
    "        super().__init__(color, make, model)\n",
    "        # Additional instance attribute specific to Car\n",
    "        self.fuel_type = fuel_type\n",
    "\n",
    "    def honk_horn(self):\n",
    "        print(\"Beep beep!\")"
   ]
  },
  {
   "cell_type": "code",
   "execution_count": 33,
   "metadata": {},
   "outputs": [],
   "source": [
    "car = Car(\"Red\", \"Toyota\", \"Camry\", \"diesel\")"
   ]
  },
  {
   "cell_type": "code",
   "execution_count": 34,
   "metadata": {},
   "outputs": [],
   "source": [
    "car.accelerate(50)"
   ]
  },
  {
   "cell_type": "code",
   "execution_count": 35,
   "metadata": {},
   "outputs": [
    {
     "name": "stdout",
     "output_type": "stream",
     "text": [
      "Beep beep!\n"
     ]
    }
   ],
   "source": [
    "car.honk_horn()"
   ]
  },
  {
   "cell_type": "code",
   "execution_count": 36,
   "metadata": {},
   "outputs": [
    {
     "name": "stdout",
     "output_type": "stream",
     "text": [
      "Current speed: 50\n"
     ]
    }
   ],
   "source": [
    "car.display_speed()"
   ]
  },
  {
   "cell_type": "code",
   "execution_count": 40,
   "metadata": {},
   "outputs": [
    {
     "data": {
      "text/plain": [
       "4"
      ]
     },
     "execution_count": 40,
     "metadata": {},
     "output_type": "execute_result"
    }
   ],
   "source": [
    "Car.wheels"
   ]
  },
  {
   "cell_type": "markdown",
   "metadata": {},
   "source": [
    "## Exercises 11.6\n",
    "\n",
    "1. Create a `CreditBankAccount` class that inherits `BankAccount` and receives one extra argument at initialisation (`overdraft`) which allows for the balance to go below zero (but not under `-overdraft`).\n",
    "1. Override parent `withdraw` method so that the new rule is implemented.\n",
    "1. Create a `CreditBankAccount` instance and try calling `withdraw` and `deposit` methods."
   ]
  },
  {
   "cell_type": "markdown",
   "metadata": {},
   "source": [
    "## 11.7 Built-in functions useful in OOP \n",
    "\n",
    "Functions to check relationships of classes and instances:\n",
    "\n",
    "`isinstance(obj, cls)` - verifies if `obj` is an instance of `cls`\n",
    "\n",
    "`issubclass(cls1, cls2)` - verifies if `cls1` is a subclass of `cls2`"
   ]
  },
  {
   "cell_type": "code",
   "execution_count": 37,
   "metadata": {},
   "outputs": [
    {
     "data": {
      "text/plain": [
       "True"
      ]
     },
     "execution_count": 37,
     "metadata": {},
     "output_type": "execute_result"
    }
   ],
   "source": [
    "isinstance(car, Car)"
   ]
  },
  {
   "cell_type": "code",
   "execution_count": 38,
   "metadata": {},
   "outputs": [
    {
     "data": {
      "text/plain": [
       "True"
      ]
     },
     "execution_count": 38,
     "metadata": {},
     "output_type": "execute_result"
    }
   ],
   "source": [
    "isinstance(car, Vehicle)"
   ]
  },
  {
   "cell_type": "code",
   "execution_count": 39,
   "metadata": {},
   "outputs": [
    {
     "data": {
      "text/plain": [
       "True"
      ]
     },
     "execution_count": 39,
     "metadata": {},
     "output_type": "execute_result"
    }
   ],
   "source": [
    "issubclass(Car, Vehicle)"
   ]
  }
 ],
 "metadata": {
  "kernelspec": {
   "display_name": "Python 3 (ipykernel)",
   "language": "python",
   "name": "python3"
  },
  "language_info": {
   "codemirror_mode": {
    "name": "ipython",
    "version": 3
   },
   "file_extension": ".py",
   "mimetype": "text/x-python",
   "name": "python",
   "nbconvert_exporter": "python",
   "pygments_lexer": "ipython3",
   "version": "3.13.0"
  }
 },
 "nbformat": 4,
 "nbformat_minor": 4
}
