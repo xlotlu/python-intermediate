{
 "cells": [
  {
   "cell_type": "markdown",
   "metadata": {},
   "source": [
    "## 1. Dunder (magic) methods and attributes. Operator overloading\n",
    "\n",
    "Dunder methods (short for \"double underscore methods\") and attributes in Python, also known as magic methods or special methods, are a set of predefined methods and attributes that begin and end with double underscores (`__`). These methods and attributes are used to provide special functionality to classes and objects, allowing for the customization of behavior in specific situations. Here's an overview:\n",
    "\n",
    "### Dunder Methods\n",
    "Dunder methods allow you to define how objects of your classes behave with standard Python operations. Some common dunder methods include:\n",
    "\n",
    "1. **Initialization and Representation**\n",
    "   - `__init__(self, ...)`: Initializes a new instance of a class. Called when an object is created.\n",
    "   - `__repr__(self)`: Returns an official string representation of an object, typically one that can be used to recreate the object.\n",
    "   - `__str__(self)`: Returns a string representation of an object, used by the `print()` function.\n",
    "\n",
    "2. **Arithmetic Operations**\n",
    "   - `__add__(self, other)`: Defines behavior for the `+` operator.\n",
    "   - `__sub__(self, other)`: Defines behavior for the `-` operator.\n",
    "   - `__mul__(self, other)`: Defines behavior for the `*` operator.\n",
    "   - `__truediv__(self, other)`: Defines behavior for the `/` operator.\n",
    "   - `__floordiv__(self, other)`: Defines behavior for the `//` operator.\n",
    "   - `__mod__(self, other)`: Defines behavior for the `%` operator.\n",
    "   - `__pow__(self, other)`: Defines behavior for the `**` operator.\n",
    "\n",
    "3. **Comparison Operations**\n",
    "   - `__eq__(self, other)`: Defines behavior for the equality operator `==`.\n",
    "   - `__ne__(self, other)`: Defines behavior for the inequality operator `!=`.\n",
    "   - `__lt__(self, other)`: Defines behavior for the less-than operator `<`.\n",
    "   - `__le__(self, other)`: Defines behavior for the less-than-or-equal-to operator `<=`.\n",
    "   - `__gt__(self, other)`: Defines behavior for the greater-than operator `>`.\n",
    "   - `__ge__(self, other)`: Defines behavior for the greater-than-or-equal-to operator `>=`.\n",
    "\n",
    "4. **Container Methods**\n",
    "   - `__len__(self)`: Defines behavior for the `len()` function.\n",
    "   - `__getitem__(self, key)`: Defines behavior for indexing `obj[key]`.\n",
    "   - `__setitem__(self, key, value)`: Defines behavior for assignment to an index `obj[key] = value`.\n",
    "   - `__delitem__(self, key)`: Defines behavior for deleting an indexed value `del obj[key]`.\n",
    "\n",
    "For more examples on special methods see [this tutorial](https://diveintopython3.net/special-method-names.html) or the [official documentation](https://docs.python.org/3/reference/datamodel.html).\n",
    "\n",
    "### Dunder Attributes\n",
    "Dunder attributes provide specific information about the class or its instances. Some common dunder attributes include:\n",
    "\n",
    "- `__dict__`: A dictionary or other mapping object used to store an object’s (writable) attributes.\n",
    "- `__class__`: A reference to the class of the instance.\n",
    "- `__name__`: The name of the class or function.\n",
    "- `__module__`: The name of the module in which the class was defined.\n",
    "- `__bases__`: A tuple containing the base classes of a class.\n",
    "\n",
    "### Examples\n",
    "\n",
    "Here are a few examples to illustrate how dunder methods work:\n",
    "\n",
    "1. **Custom String Representation:**"
   ]
  },
  {
   "cell_type": "code",
   "execution_count": 15,
   "metadata": {},
   "outputs": [],
   "source": [
    "class Person:\n",
    "    def __init__(self, name, age):\n",
    "        self.name = name\n",
    "        self.age = age\n",
    "       \n",
    "    def __repr__(self):\n",
    "        return f\"Person(name={self.name}, age={self.age})\"\n",
    "       \n",
    "    def __str__(self):\n",
    "        return f\"{self.name} is {self.age} years old\""
   ]
  },
  {
   "cell_type": "code",
   "execution_count": 16,
   "metadata": {},
   "outputs": [],
   "source": [
    "p = Person(\"Anna\", 20)"
   ]
  },
  {
   "cell_type": "code",
   "execution_count": 17,
   "metadata": {},
   "outputs": [
    {
     "data": {
      "text/plain": [
       "'Person(name=Anna, age=20)'"
      ]
     },
     "execution_count": 17,
     "metadata": {},
     "output_type": "execute_result"
    }
   ],
   "source": [
    "repr(p)"
   ]
  },
  {
   "cell_type": "code",
   "execution_count": 18,
   "metadata": {},
   "outputs": [
    {
     "data": {
      "text/plain": [
       "'Anna is 20 years old'"
      ]
     },
     "execution_count": 18,
     "metadata": {},
     "output_type": "execute_result"
    }
   ],
   "source": [
    "str(p)"
   ]
  },
  {
   "cell_type": "markdown",
   "metadata": {},
   "source": [
    "2. **Custom Addition:**"
   ]
  },
  {
   "cell_type": "code",
   "execution_count": 19,
   "metadata": {},
   "outputs": [],
   "source": [
    "class Vector:\n",
    "    def __init__(self, x, y):\n",
    "        self.x = x\n",
    "        self.y = y\n",
    "       \n",
    "    def __add__(self, other):\n",
    "        return Vector(self.x + other.x, self.y + other.y)\n",
    "       \n",
    "    def __repr__(self):\n",
    "        return f\"Vector({self.x}, {self.y})\""
   ]
  },
  {
   "cell_type": "code",
   "execution_count": 20,
   "metadata": {},
   "outputs": [],
   "source": [
    "v1 = Vector(2, 3)\n",
    "v2 = Vector(5, 7)\n",
    "v3 = v1 + v2"
   ]
  },
  {
   "cell_type": "code",
   "execution_count": 21,
   "metadata": {},
   "outputs": [
    {
     "data": {
      "text/plain": [
       "Vector(7, 10)"
      ]
     },
     "execution_count": 21,
     "metadata": {},
     "output_type": "execute_result"
    }
   ],
   "source": [
    "v3"
   ]
  },
  {
   "cell_type": "markdown",
   "metadata": {},
   "source": [
    "### Exercises 1\n",
    "\n",
    "1. Create class `Dish` - instance attributes: `dish_id (int)`, `name (str)`, `price (int)`\n",
    "1. Create class `Menu` - instance attributes: `dishes (list of Dish objects)`. Implement appropriate methods so that `Menu` objects support the following operations:\n",
    "    - `d = Dish(0, 'Lasagna', 20)`\n",
    "    - `m = Menu()`\n",
    "    - `m.append(d)` - dish appended to m.dishes\n",
    "    - `m[0]` - implement getitem on Menu\n",
    "    - `d in m` - implement membership test operators\n",
    "    - `len(m)` - return length of m.dishes\n",
    "1. Have 2 dishes created with same values for attributes (`d1` and `d2`). Add `d1` to the menu instance `m`. Test membership of `d2` in `m`. Does it find `d2` in menu? Why?\n",
    "1. Modify `Dish` to test for equality by looking at `dish_id`, `name`, `price` being the same, so that the dishes above would make this true `d1 == d2`. Test `d2 in m` again.\n",
    "1. Modify the getitem dunder to get the dish with the `dish_id` equal with the argument given. Raise `KeyError` if not found."
   ]
  },
  {
   "cell_type": "markdown",
   "metadata": {},
   "source": [
    "## 2. Static and class methods\n",
    "\n",
    "Besides instance methods, in Python we can have two more types of methods:\n",
    "\n",
    "* class methods\n",
    "* static methods\n",
    "\n",
    "Class methods are similar to class variables. They are common to all instances, can be called from both the instance and the class, and have access to other class methods and to class variables.\n",
    "\n",
    "Static methods, on the other hand, don't have acces to the class or the instance. They are simple functions which make sense only in the context of the class, but otherwise don't use any internal class data. They can also be called from the instance or from the class.\n",
    "\n",
    "In order to mark a method as either class/static method, we use the respective built-in decorator:\n",
    "\n",
    "`@classmethod`\n",
    "\n",
    "`@staticmethod`"
   ]
  },
  {
   "cell_type": "code",
   "execution_count": 22,
   "metadata": {},
   "outputs": [
    {
     "name": "stdout",
     "output_type": "stream",
     "text": [
      "706.8583470577034\n"
     ]
    }
   ],
   "source": [
    "import math\n",
    "\n",
    "class Pizza:\n",
    "    TOPPINGS = ('mozzarella', 'prosciutto', 'tomatoes')\n",
    "    \n",
    "    def __init__(self, radius, toppings):\n",
    "        for topping in toppings:\n",
    "            if not self.validate_topping(topping):\n",
    "                raise ValueError(f'Accepted toppings: {self.TOPPINGS}')\n",
    "        self.radius = radius  \n",
    "        self.toppings = toppings\n",
    "\n",
    "    def area(self):\n",
    "        return self.circle_area(self.radius)\n",
    "\n",
    "    @classmethod\n",
    "    def validate_topping(cls, topping):\n",
    "        if topping in cls.TOPPINGS:\n",
    "            return True\n",
    "        return False\n",
    "    \n",
    "    @staticmethod\n",
    "    def circle_area(r):\n",
    "        return r ** 2 * math.pi\n",
    "    \n",
    "\n",
    "margherita = Pizza(15, ['mozzarella', 'tomatoes'])\n",
    "print(margherita.area())"
   ]
  },
  {
   "cell_type": "code",
   "execution_count": 23,
   "metadata": {},
   "outputs": [
    {
     "name": "stdout",
     "output_type": "stream",
     "text": [
      "['mozzarella', 'tomatoes']\n"
     ]
    }
   ],
   "source": [
    "new_topping = 'ham'\n",
    "if Pizza.validate_topping(new_topping):\n",
    "    margherita.toppings.append(new_topping)\n",
    "print(margherita.toppings)"
   ]
  },
  {
   "cell_type": "code",
   "execution_count": 24,
   "metadata": {},
   "outputs": [
    {
     "data": {
      "text/plain": [
       "907.9202768874502"
      ]
     },
     "execution_count": 24,
     "metadata": {},
     "output_type": "execute_result"
    }
   ],
   "source": [
    "Pizza.circle_area(17)"
   ]
  },
  {
   "cell_type": "markdown",
   "metadata": {},
   "source": [
    "### Exercises 2\n",
    "\n",
    "1. Create a class `BankAccount` with an attribute `balance`. Implement a static method `validate_amount(amount)` to check if an amount is positive and raise an exception otherwise.\n",
    "    Create two methods in this class, one to withdraw money and another one to deposit money into the account. The withdraw method will not allow withdrawing more money than available: it will raise an exception and not change the balance. The two instance methods should use the static method to validate that the amount is positive.\n",
    "\n",
    "1. Create a class `Temperature`  with an instance attribute `celsius`. Add a static method `celsius_to_fahrenheit(celsius)` to convert Celsius to Fahrenheit and a class method `from_fahrenheit(cls, fahrenheit)` to create an instance from a Fahrenheit value. Use the two methods.\n",
    "\n",
    "    `Temperature in degrees Fahrenheit (°F) = (Temperature in degrees Celsius (°C) * 9/5) + 32.`\n",
    "\n",
    "\n",
    "## 3. Access control solutions\n",
    "\n",
    "“Private” instance variables that cannot be accessed except from inside an object don’t exist in Python. However, there is a convention that is followed by most Python code: a name prefixed with an underscore (e.g. `_spam`) should be treated as a non-public part of the API (whether it is a function, a method or a data member). It should be considered an implementation detail and subject to change without notice.\n",
    "\n",
    "Since there is a valid use-case for class-private members (namely to avoid name clashes of names with names defined by subclasses), there is limited support for such a mechanism, called name mangling. Any identifier of the form `__spam` (at least two leading underscores, at most one trailing underscore) is textually replaced with `_classname__spam`, where `classname` is the current class name with leading underscore(s) stripped. This mangling is done without regard to the syntactic position of the identifier, as long as it occurs within the definition of a class.\n",
    "\n",
    "Name mangling is helpful for letting subclasses override methods without breaking intraclass method calls."
   ]
  },
  {
   "cell_type": "markdown",
   "metadata": {},
   "source": [
    "## 4. Getter/Setter/Deleter methods. The `property` class\n",
    "\n",
    "When we need to manage an attribute's getting/setting/deleting, we can do it through a `property`. `property` is a built-in class that can be used as a decorator that can expose a data member to the caller, but manage getting/setting/deleting that attribute through methods. It can be used for:\n",
    "\n",
    "* data validation (check condition before setting)\n",
    "* computed attributes\n",
    "* any other operations we want to make at the same time with attribute getting/setting/deleting."
   ]
  },
  {
   "cell_type": "code",
   "execution_count": 25,
   "metadata": {},
   "outputs": [
    {
     "name": "stdout",
     "output_type": "stream",
     "text": [
      "getter called!\n",
      "Mozzarella\n"
     ]
    }
   ],
   "source": [
    "class Pizza:\n",
    "    TOPPINGS = ('mozzarella', 'prosciutto', 'tomatoes')\n",
    "    \n",
    "    def __init__(self, topping):\n",
    "        self._topping = topping\n",
    "    \n",
    "    @property\n",
    "    def topping(self):\n",
    "        print('getter called!')\n",
    "        return self._topping.capitalize()\n",
    "\n",
    "    @topping.setter\n",
    "    def topping(self, value):\n",
    "        print('setter called!')\n",
    "        if value not in self.TOPPINGS:\n",
    "            raise ValueError\n",
    "        self._topping = value\n",
    "    \n",
    "    @topping.deleter\n",
    "    def topping(self):\n",
    "        print('deleter called!')\n",
    "        del self._topping\n",
    "\n",
    "        \n",
    "my_pizza = Pizza('mozzarella')\n",
    "print(my_pizza.topping)"
   ]
  },
  {
   "cell_type": "code",
   "execution_count": 26,
   "metadata": {},
   "outputs": [
    {
     "name": "stdout",
     "output_type": "stream",
     "text": [
      "setter called!\n",
      "Invalid topping\n"
     ]
    }
   ],
   "source": [
    "try:\n",
    "    my_pizza.topping = 'parmesan'\n",
    "except ValueError:\n",
    "    print('Invalid topping')"
   ]
  },
  {
   "cell_type": "code",
   "execution_count": 27,
   "metadata": {},
   "outputs": [
    {
     "name": "stdout",
     "output_type": "stream",
     "text": [
      "deleter called!\n"
     ]
    }
   ],
   "source": [
    "del my_pizza.topping"
   ]
  },
  {
   "cell_type": "markdown",
   "metadata": {},
   "source": [
    "### Exercises 4\n",
    "\n",
    "1. Improve the `BankAccount` from the previous exercise:\n",
    "    - Make the argument balance of the `__init__` an optional argument with default value 0\n",
    "    - Override the dunder method `__str__` so that we can print bank objects more easily. Make it tell us the bank name and balance. Make `__repr__` do the same thing.\n",
    "    - Make `balance` an `_` attribute to suggest it is _protected_. Make `balance` a `property` in order to return it. Update _deposit_ and _withdraw_ to use *_balance*\n",
    "\n",
    "1. Create a class `Employee` with three instance attributes:\n",
    "    * `name`\n",
    "    * `bank_account` (it should be a `BankAccount` object; pass an already created `BankAccount` instance at `Employee` initialisation)\n",
    "    * `salary (default 0)`\n",
    "\n",
    "1. Write a method `raise_salary` that receives a parameter `percent` that should be one of the following values: 5, 10, 20. Raise a `ValueError` if another value is received by this method.\n",
    "  The `raise_salary` method should raise the salary with 5%, 10% or 20%.\n",
    "1. Create a method `receive_salary` that will deposit in the employee's bank account an amount equal to its salary.\n",
    "1. Use a `property` for salary management. Salary should be set only on initialisation; you shouldn't be able to set the salary from outside the class.\n",
    "1. Make `bank_account` protected by one `_` and add a property `net_worth` that returns the balance from the employee bank_account. (should be called w/o parentheses)\n",
    "1. Add a method `spend` that substracts a given amount from the employee's bank_account\n",
    "1. Create an `Employee` instance and call `raise_salary`, `receive_salary` and `spend` on it. Print its `net_worth` afterwards.\n",
    "    "
   ]
  },
  {
   "cell_type": "code",
   "execution_count": 38,
   "metadata": {},
   "outputs": [],
   "source": [
    "class MyClass:\n",
    "    pass"
   ]
  },
  {
   "cell_type": "code",
   "execution_count": 39,
   "metadata": {},
   "outputs": [
    {
     "data": {
      "text/plain": [
       "type"
      ]
     },
     "execution_count": 39,
     "metadata": {},
     "output_type": "execute_result"
    }
   ],
   "source": [
    "type(MyClass)"
   ]
  },
  {
   "cell_type": "markdown",
   "metadata": {},
   "source": [
    "2. **Role of Metaclasses**:\n",
    "   - A metaclass defines how a class behaves. A class is an instance of a metaclass.\n",
    "   - By default, the metaclass for all classes in Python is `type`.\n",
    "\n",
    "3. **Custom Metaclasses**:\n",
    "   - You can create custom metaclasses to control the creation and behavior of classes.\n",
    "   - A metaclass is defined by inheriting from `type`.\n",
    "\n",
    "### Creating and Using a Metaclass\n",
    "1. **Defining a Metaclass**:\n",
    "   - To create a metaclass, you define a class that inherits from `type`.\n",
    "   - Override special methods like `__new__` and `__init__` to customize class creation."
   ]
  },
  {
   "cell_type": "code",
   "execution_count": 40,
   "metadata": {},
   "outputs": [],
   "source": [
    "class MyMeta(type):\n",
    "    def __new__(cls, name, bases, dct):\n",
    "        print(f\"Creating class {name}\")\n",
    "        return super().__new__(cls, name, bases, dct)\n",
    "\n",
    "    def __init__(cls, name, bases, dct):\n",
    "        print(f\"Initializing class {name}\")\n",
    "        super().__init__(name, bases, dct)\n",
    "\n",
    "    def __call__(cls, *args, **kwargs):\n",
    "        print(\"Metaclass called\")\n",
    "        return super().__call__(*args, **kwargs)"
   ]
  },
  {
   "cell_type": "markdown",
   "metadata": {},
   "source": [
    "2. **Using a Metaclass**:\n",
    "- Specify the metaclass for a class using the `metaclass` keyword argument."
   ]
  },
  {
   "cell_type": "code",
   "execution_count": 41,
   "metadata": {},
   "outputs": [
    {
     "name": "stdout",
     "output_type": "stream",
     "text": [
      "Creating class MyClass\n",
      "Initializing class MyClass\n"
     ]
    }
   ],
   "source": [
    "class MyClass(metaclass=MyMeta):\n",
    "    pass"
   ]
  },
  {
   "cell_type": "markdown",
   "metadata": {},
   "source": [
    "- When the class is instantiated, the `__call__` method of its metaclass is called:"
   ]
  },
  {
   "cell_type": "code",
   "execution_count": 37,
   "metadata": {},
   "outputs": [
    {
     "name": "stdout",
     "output_type": "stream",
     "text": [
      "Metaclass called\n"
     ]
    },
    {
     "data": {
      "text/plain": [
       "<__main__.MyClass at 0x1134dba70>"
      ]
     },
     "execution_count": 37,
     "metadata": {},
     "output_type": "execute_result"
    }
   ],
   "source": [
    "MyClass()"
   ]
  },
  {
   "cell_type": "code",
   "execution_count": 1,
   "metadata": {},
   "outputs": [
    {
     "name": "stdout",
     "output_type": "stream",
     "text": [
      "Instances: {<class '__main__.Singleton'>: <__main__.Singleton object at 0x1045e0440>, <class '__main__.OtherSingleton'>: <__main__.OtherSingleton object at 0x1045e0590>}\n",
      "Singleton works, both variables contain the same instance.\n"
     ]
    }
   ],
   "source": [
    "class SingletonMeta(type):\n",
    "    _instances = {}\n",
    "\n",
    "    def __call__(cls, *args, **kwargs):\n",
    "        if cls not in cls._instances:\n",
    "            instance = super().__call__(*args, **kwargs)\n",
    "            cls._instances[cls] = instance\n",
    "        return cls._instances[cls]\n",
    "\n",
    "\n",
    "class Singleton(metaclass=SingletonMeta):\n",
    "    pass\n",
    "\n",
    "\n",
    "class OtherSingleton(metaclass=SingletonMeta):\n",
    "    pass\n",
    "\n",
    "\n",
    "sgt = Singleton()\n",
    "other_sgt = OtherSingleton()\n",
    "\n",
    "\n",
    "if __name__ == \"__main__\":\n",
    "    s1 = Singleton()\n",
    "    s2 = Singleton()\n",
    "\n",
    "    o1 = OtherSingleton()\n",
    "    o2 = OtherSingleton()\n",
    "    o3 = OtherSingleton()\n",
    "    o4 = OtherSingleton()\n",
    "\n",
    "    print(\"Instances:\", SingletonMeta._instances)\n",
    "    \n",
    "    if s1 is sgt:\n",
    "        print(\"Singleton works, both variables contain the same instance.\")\n",
    "    else:\n",
    "        print(\"Singleton failed, variables contain different instances.\")"
   ]
  },
  {
   "cell_type": "markdown",
   "metadata": {},
   "source": [
    "### Iterator\n",
    "\n",
    "Iterator is a behavioral design pattern that lets you traverse elements of a collection without exposing its underlying representation (list, stack, tree, etc.).\n",
    "\n",
    "#### Problem\n",
    "\n",
    "Collections are one of the most used data types in programming. Nonetheless, a collection is just a container for a group of objects.\n",
    "\n",
    "Most collections store their elements in simple lists. However, some of them are based on stacks, trees, graphs and other complex data structures.\n",
    "\n",
    "But no matter how a collection is structured, it must provide some way of accessing its elements so that other code can use these elements. There should be a way to go through each element of the collection without accessing the same elements over and over.\n",
    "\n",
    "This may sound like an easy job if you have a collection based on a list. You just loop over all of the elements. But how do you sequentially traverse elements of a complex data structure, such as a tree? For example, one day you might be just fine with depth-first traversal of a tree. Yet the next day you might require breadth-first traversal. And the next week, you might need something else, like random access to the tree elements.\n",
    "\n",
    "Adding more and more traversal algorithms to the collection gradually blurs its primary responsibility, which is efficient data storage. Additionally, some algorithms might be tailored for a specific application, so including them into a generic collection class would be weird.\n",
    "\n",
    "On the other hand, the client code that’s supposed to work with various collections may not even care how they store their elements. However, since collections all provide different ways of accessing their elements, you have no option other than to couple your code to the specific collection classes.\n",
    "\n",
    "#### Solution\n",
    "\n",
    "The main idea of the Iterator pattern is to extract the traversal behavior of a collection into a separate object called an iterator.\n",
    "\n",
    "In addition to implementing the algorithm itself, an iterator object encapsulates all of the traversal details, such as the current position and how many elements are left till the end. Because of this, several iterators can go through the same collection at the same time, independently of each other.\n",
    "\n",
    "Usually, iterators provide one primary method for fetching elements of the collection. The client can keep running this method until it doesn’t return anything, which means that the iterator has traversed all of the elements.\n",
    "\n",
    "All iterators must implement the same interface. This makes the client code compatible with any collection type or any traversal algorithm as long as there’s a proper iterator. If you need a special way to traverse a collection, you just create a new iterator class, without having to change the collection or the client."
   ]
  },
  {
   "cell_type": "code",
   "execution_count": 46,
   "metadata": {},
   "outputs": [
    {
     "name": "stdout",
     "output_type": "stream",
     "text": [
      "0\n",
      "1\n",
      "1\n",
      "2\n",
      "3\n",
      "5\n",
      "8\n",
      "13\n",
      "21\n",
      "34\n",
      "55\n",
      "89\n"
     ]
    }
   ],
   "source": [
    "from collections.abc import Iterator\n",
    "\n",
    "\n",
    "class Fibonacci(Iterator):\n",
    "    \"\"\"Iterator that yields numbers in the Fibonacci sequence\"\"\"\n",
    "\n",
    "    def __init__(self, max_value):\n",
    "        self.max = max_value\n",
    "\n",
    "    def __iter__(self):\n",
    "        self.a, self.b = 0, 1\n",
    "        return self\n",
    "\n",
    "    def __next__(self):\n",
    "        fib = self.a\n",
    "        if fib > self.max:\n",
    "            raise StopIteration\n",
    "        self.a, self.b = self.b, self.a + self.b\n",
    "        return fib\n",
    "    \n",
    "    \n",
    "if __name__ == \"__main__\":\n",
    "    fib_sequence = Fibonacci(100)\n",
    "    for i in fib_sequence:\n",
    "        print(i)"
   ]
  },
  {
   "cell_type": "markdown",
   "metadata": {},
   "source": [
    "### Prototype\n",
    "\n",
    "Prototype is a creational design pattern that lets you copy existing objects without making your code dependent on their classes.\n",
    "\n",
    "All prototype classes should have a common interface that makes it possible to copy objects even if their concrete classes are unknown. Prototype objects can produce full copies since objects of the same class can access each other’s private fields.\n",
    "\n",
    "#### Problem\n",
    "\n",
    "We need to clone an object, but may not know its exact type, parameters, they may not all be assigned through the constructor itself or may depend on system state at a particular point during the runtime.\n",
    "\n",
    "If we try to do it directly we'll add a lot of dependencies branching in our code, and it may not even work at the end.\n",
    "\n",
    "#### Solution\n",
    "\n",
    "The Prototype design pattern addresses the problem of copying objects by delegating it to the objects themselves. Python offers support for creating copies of objects through the `copy` and `deepcopy` functions from `copy` module. These functions can create copies for most objects without customization:"
   ]
  },
  {
   "cell_type": "code",
   "execution_count": 8,
   "metadata": {},
   "outputs": [
    {
     "name": "stdout",
     "output_type": "stream",
     "text": [
      "Person object at 4566347472 (name=Jane age=23 hobbies=['dancing', 'painting', 'yoga'])\n",
      "Person object at 4417543760 (name=Jane age=23 hobbies=['dancing', 'painting', 'yoga'])\n",
      "Person object at 4566307264 (name=Jane age=23 hobbies=['dancing', 'painting'])\n"
     ]
    }
   ],
   "source": [
    "import copy\n",
    "from datetime import date\n",
    "\n",
    "\n",
    "class Person:\n",
    "    def __init__(self, name, date_of_birth, hobbies=None):\n",
    "        self.name = name\n",
    "        self.__date_of_birth = date_of_birth\n",
    "        self.hobbies = hobbies\n",
    "\n",
    "    @property\n",
    "    def age(self):\n",
    "        today = date.today()\n",
    "        age = today.year - self.__date_of_birth.year\n",
    "        if (today.month, today.day) < (self.__date_of_birth.month, self.__date_of_birth.day):\n",
    "            age -= 1\n",
    "        return age\n",
    "\n",
    "    def __str__(self):\n",
    "        return f\"{self.__class__.__name__} object at {id(self)} (name={self.name} age={self.age} hobbies={self.hobbies})\"\n",
    "    \n",
    "\n",
    "if __name__ == \"__main__\":\n",
    "    p = Person(\"Jane\", date(2001, 6, 10), [\"dancing\", \"painting\"])\n",
    "\n",
    "    shallow_copy_p = copy.copy(p)\n",
    "    deep_copy_p = copy.deepcopy(p)\n",
    "\n",
    "    p.hobbies.append(\"yoga\")\n",
    "\n",
    "    print(p)\n",
    "    print(shallow_copy_p)\n",
    "    print(deep_copy_p)"
   ]
  },
  {
   "cell_type": "markdown",
   "metadata": {},
   "source": [
    "A class can also define its own copy implementation, by defining the magic methods `__copy__` and `__deepcopy__`."
   ]
  }
 ],
 "metadata": {
  "kernelspec": {
   "display_name": "Python 3 (ipykernel)",
   "language": "python",
   "name": "python3"
  },
  "language_info": {
   "codemirror_mode": {
    "name": "ipython",
    "version": 3
   },
   "file_extension": ".py",
   "mimetype": "text/x-python",
   "name": "python",
   "nbconvert_exporter": "python",
   "pygments_lexer": "ipython3",
   "version": "3.13.0"
  }
 },
 "nbformat": 4,
 "nbformat_minor": 4
}
