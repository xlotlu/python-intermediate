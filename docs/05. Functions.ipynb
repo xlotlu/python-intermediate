{
 "cells": [
  {
   "cell_type": "markdown",
   "metadata": {},
   "source": [
    "# 5. Functions\n",
    "\n",
    "A function is a group of related statements that performs a specific task.\n",
    "\n",
    "Functions help break our program into smaller and modular chunks. As our program grows larger and larger, functions make it more organized and manageable.\n",
    "\n",
    "Furthermore, it avoids repetition and makes the code reusable.\n",
    "\n",
    "## 5.1 Defining Functions\n",
    "\n",
    "```python\n",
    "def function_name(parameters):\n",
    "\t\"\"\"docstring\"\"\"\n",
    "\tstatement(s)\n",
    "    return value\n",
    "```\n",
    "\n",
    "Above shown is a function definition that consists of the following components:\n",
    "\n",
    "* Keyword `def` marks the start of the function header.\n",
    "* A function name to uniquely identify the function. When naming functions, in Python, we should use the lowercase snake_case practice.\n",
    "* Optional parameters (arguments) through which we pass values to a function.\n",
    "* Optional inline documentation (docstring) describing the function.\n",
    "* One or more valid python statements that make up the function body\n",
    "* An optional `return` statement to return a value from the function\n",
    "\n",
    "Let's see a simple function in action:"
   ]
  },
  {
   "cell_type": "code",
   "execution_count": 1,
   "metadata": {},
   "outputs": [],
   "source": [
    "def my_function():\n",
    "    \"\"\"Prints a greeting message\"\"\"\n",
    "    print('Hello world!')"
   ]
  },
  {
   "cell_type": "markdown",
   "metadata": {},
   "source": [
    "We can find out more details about our function by passing it to the built-in function `help()`:"
   ]
  },
  {
   "cell_type": "code",
   "execution_count": 2,
   "metadata": {},
   "outputs": [
    {
     "name": "stdout",
     "output_type": "stream",
     "text": [
      "Help on function my_function in module __main__:\n",
      "\n",
      "my_function()\n",
      "    Prints a greeting message\n",
      "\n"
     ]
    }
   ],
   "source": [
    "help(my_function)"
   ]
  },
  {
   "cell_type": "markdown",
   "metadata": {},
   "source": [
    "## Exercises 5.1\n",
    "\n",
    "1. Create a function that prints a message of your choice.\n",
    "2. Add a docstring to the function.\n",
    "3. Call `help()` on the function.\n",
    "\n",
    "## 5.2 Function call\n",
    "\n",
    "Once we have defined a function, we can call it from another function, program or even the Python prompt. To call a function we simply type the function name followed by parantheses inside which we place the arguments, if the function expects them."
   ]
  },
  {
   "cell_type": "code",
   "execution_count": 3,
   "metadata": {},
   "outputs": [
    {
     "name": "stdout",
     "output_type": "stream",
     "text": [
      "Hello world!\n"
     ]
    }
   ],
   "source": [
    "my_function()"
   ]
  },
  {
   "cell_type": "markdown",
   "metadata": {},
   "source": [
    "## Exercises 5.2\n",
    "\n",
    "1. Call the function you created previously 5 times using a loop (`for` or `while`).\n",
    "\n",
    "## 5.3 Function parameters and arguments\n",
    "\n",
    "Function parameters are the names listed in the function's definition. Function arguments are the real values passed to the function.\n",
    "\n",
    "When defining a function, we can list its parameters in parentheses, after the function name:"
   ]
  },
  {
   "cell_type": "code",
   "execution_count": 4,
   "metadata": {},
   "outputs": [],
   "source": [
    "def greet(name):\n",
    "    print(f\"Hello, {name}!\")"
   ]
  },
  {
   "cell_type": "markdown",
   "metadata": {},
   "source": [
    "When calling the function, we will pass a value to it as an argument:"
   ]
  },
  {
   "cell_type": "code",
   "execution_count": 5,
   "metadata": {},
   "outputs": [
    {
     "name": "stdout",
     "output_type": "stream",
     "text": [
      "Hello, Anna!\n"
     ]
    }
   ],
   "source": [
    "greet(\"Anna\")"
   ]
  },
  {
   "cell_type": "markdown",
   "metadata": {},
   "source": [
    "### 5.3.1 Required parameters\n",
    "\n",
    "In the function `greet`, `name` is a required parameter. Not passing any argument in the function call will result in an error:"
   ]
  },
  {
   "cell_type": "code",
   "execution_count": 6,
   "metadata": {
    "editable": true,
    "slideshow": {
     "slide_type": ""
    },
    "tags": [
     "raises-exception"
    ]
   },
   "outputs": [
    {
     "ename": "TypeError",
     "evalue": "greet() missing 1 required positional argument: 'name'",
     "output_type": "error",
     "traceback": [
      "\u001b[31m---------------------------------------------------------------------------\u001b[39m",
      "\u001b[31mTypeError\u001b[39m                                 Traceback (most recent call last)",
      "\u001b[36mCell\u001b[39m\u001b[36m \u001b[39m\u001b[32mIn[6]\u001b[39m\u001b[32m, line 1\u001b[39m\n\u001b[32m----> \u001b[39m\u001b[32m1\u001b[39m \u001b[43mgreet\u001b[49m\u001b[43m(\u001b[49m\u001b[43m)\u001b[49m\n",
      "\u001b[31mTypeError\u001b[39m: greet() missing 1 required positional argument: 'name'"
     ]
    }
   ],
   "source": [
    "greet()"
   ]
  },
  {
   "cell_type": "markdown",
   "metadata": {
    "editable": true,
    "slideshow": {
     "slide_type": ""
    },
    "tags": []
   },
   "source": [
    "All parameters are required by default. Let's see another example:"
   ]
  },
  {
   "cell_type": "code",
   "execution_count": 7,
   "metadata": {},
   "outputs": [],
   "source": [
    "def print_sum(a, b):\n",
    "    print(a + b)"
   ]
  },
  {
   "cell_type": "code",
   "execution_count": 36,
   "metadata": {},
   "outputs": [
    {
     "name": "stdout",
     "output_type": "stream",
     "text": [
      "12\n"
     ]
    }
   ],
   "source": [
    "print_sum(10, 2)  # get_sum must be called with exactly two arguments"
   ]
  },
  {
   "cell_type": "markdown",
   "metadata": {},
   "source": [
    "### 5.3.2 Optional parameters\n",
    "\n",
    "You can specify default values for parameters in a function. Parameters that have a default value are optional, meaning that if no value is passed for them in the function call, the default value will be used:"
   ]
  },
  {
   "cell_type": "code",
   "execution_count": 9,
   "metadata": {},
   "outputs": [],
   "source": [
    "def greet(name=\"Anna\"):\n",
    "    print(f\"Hello, {name}!\")"
   ]
  },
  {
   "cell_type": "code",
   "execution_count": 10,
   "metadata": {},
   "outputs": [
    {
     "name": "stdout",
     "output_type": "stream",
     "text": [
      "Hello, Anna!\n"
     ]
    }
   ],
   "source": [
    "greet()  # using the default value for parameter name"
   ]
  },
  {
   "cell_type": "code",
   "execution_count": 11,
   "metadata": {},
   "outputs": [
    {
     "name": "stdout",
     "output_type": "stream",
     "text": [
      "Hello, Jane!\n"
     ]
    }
   ],
   "source": [
    "greet(\"Jane\")  # passing \"Jane\" as value for parameter name"
   ]
  },
  {
   "cell_type": "markdown",
   "metadata": {},
   "source": [
    "For functions with more parameters, optional parameters should always follow required parameters:"
   ]
  },
  {
   "cell_type": "code",
   "execution_count": 12,
   "metadata": {},
   "outputs": [],
   "source": [
    "def welcome(name, age, is_student=False, hobbies=None):\n",
    "    print(f\"{name} is {age} years old.\")\n",
    "    if is_student:\n",
    "        print(f\"{name} is a student.\")\n",
    "    if hobbies:\n",
    "        print(f\"{name} has the following hobbies:\")\n",
    "        for hobby in hobbies:\n",
    "            print(f\" - {hobby}\")"
   ]
  },
  {
   "cell_type": "markdown",
   "metadata": {},
   "source": [
    "### 5.3.3 Positional and keyword arguments\n",
    "\n",
    "When you call a function with positional arguments, arguments get mapped to formal parameters according to their **position**. All the calls we have already made used positional arguments. Let's see another example:"
   ]
  },
  {
   "cell_type": "code",
   "execution_count": 13,
   "metadata": {},
   "outputs": [
    {
     "name": "stdout",
     "output_type": "stream",
     "text": [
      "Anna is 20 years old.\n",
      "Anna is a student.\n",
      "Anna has the following hobbies:\n",
      " - reading\n",
      " - painting\n"
     ]
    }
   ],
   "source": [
    "welcome(\"Anna\", 20, True, [\"reading\", \"painting\"])"
   ]
  },
  {
   "cell_type": "markdown",
   "metadata": {},
   "source": [
    "When you call a function with keyword arguments, arguments get mapped to formal parameters according to their **name**:"
   ]
  },
  {
   "cell_type": "code",
   "execution_count": 14,
   "metadata": {},
   "outputs": [
    {
     "name": "stdout",
     "output_type": "stream",
     "text": [
      "Anna is 20 years old.\n",
      "Anna is a student.\n",
      "Anna has the following hobbies:\n",
      " - reading\n",
      " - painting\n"
     ]
    }
   ],
   "source": [
    "welcome(name=\"Anna\", is_student=True, age=20, hobbies=[\"reading\", \"painting\"])"
   ]
  },
  {
   "cell_type": "markdown",
   "metadata": {},
   "source": [
    "A value for any parameter, be it required or optional, can be sent as a keyword argument, for more clarity. But being able to call functions with keyword arguments is especially useful when you want to specify a value for some (not all) the default arguments:"
   ]
  },
  {
   "cell_type": "code",
   "execution_count": 15,
   "metadata": {},
   "outputs": [
    {
     "name": "stdout",
     "output_type": "stream",
     "text": [
      "Anna is 20 years old.\n",
      "Anna has the following hobbies:\n",
      " - reading\n",
      " - painting\n"
     ]
    }
   ],
   "source": [
    "welcome(\"Anna\", 20, hobbies=[\"reading\", \"painting\"])"
   ]
  },
  {
   "cell_type": "markdown",
   "metadata": {},
   "source": [
    "## Exercises 5.3\n",
    "\n",
    "1. Write a function `multiply` that receives two required parameters and prints their product (using `*` operator). Call the function with the following arguments:\n",
    "   - `7` and `6.2`\n",
    "   - `\"hello\"` and `3`\n",
    "   - `[0]` and `5`\n",
    "\n",
    "   What do you notice?\n",
    "1. Write a Python function called `greet` that takes an optional parameter `name`. If a `name` is provided, print a greeting message to that name; otherwise, print a generic greeting message. Call the function with and without a parameter.\n",
    "2. Call the function above on each of the items in the following list:\n",
    "   ```python\n",
    "   names = [\"Anna\", \"Jane\", \"Mike\"]\n",
    "   ```\n",
    "\n",
    "\n",
    "## 5.4 Function output (`return` statement)\n",
    "\n",
    "By now, we have written functions that only display different messages. However, functions are commonly used to return different values which can be further used in the program.\n",
    "\n",
    "Let's take a look at built-in function `len()`. If you simply write `len(some_object)` in your program, nothing happens:"
   ]
  },
  {
   "cell_type": "code",
   "execution_count": 39,
   "metadata": {},
   "outputs": [
    {
     "name": "stdout",
     "output_type": "stream",
     "text": [
      "10\n",
      "12\n",
      "14\n"
     ]
    }
   ],
   "source": [
    "my_list = [10, 12, 14]\n",
    "len(my_list)\n",
    "for item in my_list:\n",
    "    print(item)"
   ]
  },
  {
   "cell_type": "markdown",
   "metadata": {},
   "source": [
    "That is because `len` doesn't print anything, it rather returns that value:"
   ]
  },
  {
   "cell_type": "code",
   "execution_count": 42,
   "metadata": {},
   "outputs": [
    {
     "name": "stdout",
     "output_type": "stream",
     "text": [
      "3\n",
      "3\n"
     ]
    }
   ],
   "source": [
    "list_length = len(my_list)\n",
    "print(list_length)\n",
    "\n",
    "print(len(my_list))"
   ]
  },
  {
   "cell_type": "code",
   "execution_count": null,
   "metadata": {},
   "outputs": [],
   "source": []
  },
  {
   "cell_type": "markdown",
   "metadata": {},
   "source": [
    "This behavior enables it to be used in expressions, like:"
   ]
  },
  {
   "cell_type": "code",
   "execution_count": 18,
   "metadata": {},
   "outputs": [
    {
     "name": "stdout",
     "output_type": "stream",
     "text": [
      "List has more than two elements.\n"
     ]
    }
   ],
   "source": [
    "if len(my_list) > 2:\n",
    "    print(\"List has more than two elements.\")"
   ]
  },
  {
   "cell_type": "markdown",
   "metadata": {},
   "source": [
    "We can also create functions that return values. The `return` statement is used to exit a function and go back to the place from where it was called. This statement can contain an expression that gets evaluated and the value is returned.\n",
    "\n",
    "Let's compare the following two functions:"
   ]
  },
  {
   "cell_type": "code",
   "execution_count": 19,
   "metadata": {},
   "outputs": [],
   "source": [
    "def print_sum(a, b):\n",
    "    print(a + b)"
   ]
  },
  {
   "cell_type": "code",
   "execution_count": 20,
   "metadata": {},
   "outputs": [],
   "source": [
    "def get_sum(a, b):\n",
    "    return a + b"
   ]
  },
  {
   "cell_type": "code",
   "execution_count": 21,
   "metadata": {},
   "outputs": [
    {
     "name": "stdout",
     "output_type": "stream",
     "text": [
      "25\n"
     ]
    }
   ],
   "source": [
    "sum_printed = print_sum(10, 15)"
   ]
  },
  {
   "cell_type": "code",
   "execution_count": 22,
   "metadata": {},
   "outputs": [],
   "source": [
    "sum_returned = get_sum(10, 15)"
   ]
  },
  {
   "cell_type": "markdown",
   "metadata": {},
   "source": [
    "If there is no expression in the `return` statement or the `return` statement itself is not present inside a function, then the function will return the `None` object. That is why, `sum_printed` is `None`:"
   ]
  },
  {
   "cell_type": "code",
   "execution_count": 23,
   "metadata": {},
   "outputs": [
    {
     "name": "stdout",
     "output_type": "stream",
     "text": [
      "None\n"
     ]
    }
   ],
   "source": [
    "print(sum_printed)"
   ]
  },
  {
   "cell_type": "markdown",
   "metadata": {},
   "source": [
    "But `sum_returned` contains the actual result:"
   ]
  },
  {
   "cell_type": "code",
   "execution_count": 24,
   "metadata": {},
   "outputs": [
    {
     "name": "stdout",
     "output_type": "stream",
     "text": [
      "25\n"
     ]
    }
   ],
   "source": [
    "print(sum_returned)"
   ]
  },
  {
   "cell_type": "markdown",
   "metadata": {},
   "source": [
    "Which can be used in other computations:"
   ]
  },
  {
   "cell_type": "code",
   "execution_count": 25,
   "metadata": {},
   "outputs": [
    {
     "data": {
      "text/plain": [
       "625"
      ]
     },
     "execution_count": 25,
     "metadata": {},
     "output_type": "execute_result"
    }
   ],
   "source": [
    "sum_returned ** 2"
   ]
  },
  {
   "cell_type": "markdown",
   "metadata": {},
   "source": [
    "A function can have multiple `return` statements, but a single one will be executed: the first one the interpreter encounters."
   ]
  },
  {
   "cell_type": "code",
   "execution_count": 26,
   "metadata": {},
   "outputs": [],
   "source": [
    "def classify_number(num):\n",
    "    if num > 0:\n",
    "        return \"Positive\"\n",
    "    elif num < 0:\n",
    "        return \"Negative\"\n",
    "    return \"Zero\""
   ]
  },
  {
   "cell_type": "code",
   "execution_count": 27,
   "metadata": {},
   "outputs": [
    {
     "data": {
      "text/plain": [
       "'Positive'"
      ]
     },
     "execution_count": 27,
     "metadata": {},
     "output_type": "execute_result"
    }
   ],
   "source": [
    "classify_number(10)"
   ]
  },
  {
   "cell_type": "code",
   "execution_count": 28,
   "metadata": {},
   "outputs": [
    {
     "data": {
      "text/plain": [
       "'Zero'"
      ]
     },
     "execution_count": 28,
     "metadata": {},
     "output_type": "execute_result"
    }
   ],
   "source": [
    "classify_number(0)"
   ]
  },
  {
   "cell_type": "markdown",
   "metadata": {},
   "source": [
    "A function cannot return multiple objects. The closest thing to that is returning a tuple, and then unpacking its result into different variables:"
   ]
  },
  {
   "cell_type": "code",
   "execution_count": 29,
   "metadata": {},
   "outputs": [],
   "source": [
    "def do_math(a, b):\n",
    "    return a + b, a - b, a * b, a // b"
   ]
  },
  {
   "cell_type": "code",
   "execution_count": 30,
   "metadata": {},
   "outputs": [],
   "source": [
    "total, diff, prod, quotient = do_math(10, 2)"
   ]
  },
  {
   "cell_type": "code",
   "execution_count": 31,
   "metadata": {},
   "outputs": [
    {
     "name": "stdout",
     "output_type": "stream",
     "text": [
      "12 8 20 5\n"
     ]
    }
   ],
   "source": [
    "print(total, diff, prod, quotient)"
   ]
  },
  {
   "cell_type": "markdown",
   "metadata": {
    "jp-MarkdownHeadingCollapsed": true
   },
   "source": [
    "## Exercises 5.4\n",
    "\n",
    "1. Write a function that takes a number as a parameter and **prints** its square.\n",
    "1. Write another function that takes a number as a parameter and **returns** its square. \n",
    "1. Are the results of the two functions above different? Which of the two functions can be used to compute x<sup>2</sup> + y<sup>2</sup> ?\n",
    "1. Write a function `get_rectangle_properties` that takes the width and height of a rectangle as parameters and returns the area and perimeter of the rectangle. Call the function and assign the result to two variables.\n",
    "1. Write a function `build_html` which receives two parameters `tag` and `content`, and returns the following string:\n",
    "   > \\<tag>content\\</tag\\>\n",
    "\n",
    "   Call it so that you build the following output:\n",
    "   > \\<div\\>\\<h1\\>Functions\\</h1\\>\\<p\\>Functions are fun!\\</p\\>\\</div\\>\n",
    "   "
   ]
  },
  {
   "cell_type": "markdown",
   "metadata": {},
   "source": [
    "## 5.5 Scope and lifetime of variables\n",
    "\n",
    "Variable scope and lifetime refer to where and when variables can be accessed within a Python program. \n",
    "\n",
    "### 5.5.1 Variable Scope\n",
    "\n",
    "Variable scope refers to the region of code where a variable is accessible.\n",
    "\n",
    "In Python, variables can have different scopes, primarily:\n",
    "- **Global Scope**: Variables defined outside of any function or class have global scope. They can be accessed from anywhere within the program.\n",
    "- **Local Scope**: Variables defined within a function have local scope. They can only be accessed within the function where they are defined."
   ]
  },
  {
   "cell_type": "code",
   "execution_count": 32,
   "metadata": {},
   "outputs": [
    {
     "name": "stdout",
     "output_type": "stream",
     "text": [
      "10\n"
     ]
    }
   ],
   "source": [
    "x = 10  # Global variable\n",
    "\n",
    "def func():\n",
    "    print(x)  # Accessing global variable\n",
    "\n",
    "func()  # Output: 10"
   ]
  },
  {
   "cell_type": "code",
   "execution_count": 44,
   "metadata": {},
   "outputs": [
    {
     "name": "stdout",
     "output_type": "stream",
     "text": [
      "20\n"
     ]
    }
   ],
   "source": [
    "def func():\n",
    "    y = 20  # Local variable\n",
    "    print(y)\n",
    "\n",
    "func()  # Output: 20\n",
    "# print(y)  # Error: NameError: name 'y' is not defined"
   ]
  },
  {
   "cell_type": "markdown",
   "metadata": {},
   "source": [
    "### 5.5.2 Variable lifetime\n",
    "\n",
    "The lifetime of a variable is the period throughout which the variable exists in the memory. \n",
    "\n",
    "In Python, variable lifetime is determined by its scope:\n",
    "- Global variables exist for the entire duration of the program.\n",
    "- Local variables are created when the function is called and destroyed when the function exits. Hence, a function does not remember the value of a variable from its previous calls.\n",
    "\n"
   ]
  },
  {
   "cell_type": "markdown",
   "metadata": {},
   "source": [
    "<a id=\"Exercises-5.5\"></a>\n",
    "## Exercises 5.5\n",
    "\n",
    "1. Define a global variable `vowels` as a string containing all vowels (lowercase and uppercase). Write a function `remove_vowels` that receives a string as a parameter and returns the string with vowels removed. You will have to use the global variable inside the function. Call the function on a multiline string defined outside the function."
   ]
  }
 ],
 "metadata": {
  "kernelspec": {
   "display_name": "Python 3 (ipykernel)",
   "language": "python",
   "name": "python3"
  },
  "language_info": {
   "codemirror_mode": {
    "name": "ipython",
    "version": 3
   },
   "file_extension": ".py",
   "mimetype": "text/x-python",
   "name": "python",
   "nbconvert_exporter": "python",
   "pygments_lexer": "ipython3",
   "version": "3.13.0"
  }
 },
 "nbformat": 4,
 "nbformat_minor": 4
}
