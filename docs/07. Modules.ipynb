{
 "cells": [
  {
   "cell_type": "markdown",
   "id": "7967f3c7-accc-4824-9fa0-3c97a377fb4e",
   "metadata": {},
   "source": [
    "# 7. Modules\n",
    "\n",
    "In Python, a module is a file containing Python code, containing definitions of functions, classes, variables and executable statements. Modules allow you to organize code into reusable units and can be imported into other Python scripts or interactive sessions.\n",
    "\n",
    "The name of the module (in our Python program) will be the name of the file. This is why the same naming conventions we described for variables also apply to module names.\n",
    "\n",
    "## 7.1 Creating modules\n",
    "\n",
    "A module is simply a Python file with a `.py` extension. You can define functions, classes, variables, or any other Python code within a module.\n",
    "\n",
    "Here is an example of a module: [my_module.py](./my_module.py)\n",
    "\n",
    "### Exercises 7.1\n",
    "\n",
    "1. Place all the code you wrote for [exercise 5.5](/notebooks/05.%20Functions.ipynb#Exercises-5.5) inside a module called `string_helper.py`.\n",
    "\n",
    "## 7.2 Importing modules\n",
    "\n",
    "To use functions, classes, or variables defined in a module, you need to import the module into your Python script. One option is to import the module and then use names inside the module prefixed by the module's name:"
   ]
  },
  {
   "cell_type": "code",
   "execution_count": 1,
   "id": "af8ba044-e31e-4a47-9c71-db491d539331",
   "metadata": {},
   "outputs": [],
   "source": [
    "import my_module"
   ]
  },
  {
   "cell_type": "code",
   "execution_count": 2,
   "id": "ba590e44-27d6-453e-872b-c7088a6d8aa5",
   "metadata": {},
   "outputs": [
    {
     "data": {
      "text/plain": [
       "['a',\n",
       " 'python',\n",
       " 'module',\n",
       " 'can',\n",
       " 'contain',\n",
       " 'executable',\n",
       " 'statements',\n",
       " 'constants',\n",
       " 'functions',\n",
       " 'and',\n",
       " 'classes',\n",
       " 'definitions']"
      ]
     },
     "execution_count": 2,
     "metadata": {},
     "output_type": "execute_result"
    }
   ],
   "source": [
    "my_module.get_words(\"A Python module can contain executable statements, constants, functions and classes definitions.\")"
   ]
  },
  {
   "cell_type": "code",
   "execution_count": 3,
   "id": "a40384d0-e6bb-4c82-90cd-26fa53a3863f",
   "metadata": {},
   "outputs": [
    {
     "name": "stdout",
     "output_type": "stream",
     "text": [
      "Help on function get_words in module my_module:\n",
      "\n",
      "get_words(sentence)\n",
      "    Returns a list of lowercase words contained in sentence\n",
      "\n"
     ]
    }
   ],
   "source": [
    "help(my_module.get_words)"
   ]
  },
  {
   "cell_type": "code",
   "execution_count": 4,
   "id": "f757b4af-dc25-4e3f-879f-de82377dcc2f",
   "metadata": {},
   "outputs": [
    {
     "name": "stdout",
     "output_type": "stream",
     "text": [
      "Help on module my_module:\n",
      "\n",
      "NAME\n",
      "    my_module - This module defines functions useful for string manipulation\n",
      "\n",
      "FUNCTIONS\n",
      "    get_words(sentence)\n",
      "        Returns a list of lowercase words contained in sentence\n",
      "\n",
      "DATA\n",
      "    PUNCTUATION_MARKS = ',.!?;-*'\n",
      "\n",
      "FILE\n",
      "    /Users/iulia/PycharmProjects/python-beginner-course/docs/my_module.py\n",
      "\n",
      "\n"
     ]
    }
   ],
   "source": [
    "help(my_module)"
   ]
  },
  {
   "cell_type": "code",
   "execution_count": 5,
   "id": "2c97cbf3-3efb-4396-b8cd-7b52ea20c14b",
   "metadata": {},
   "outputs": [
    {
     "data": {
      "text/plain": [
       "',.!?;-*'"
      ]
     },
     "execution_count": 5,
     "metadata": {},
     "output_type": "execute_result"
    }
   ],
   "source": [
    "my_module.PUNCTUATION_MARKS"
   ]
  },
  {
   "cell_type": "markdown",
   "id": "d4f1778d-ca75-4360-a741-370c65087502",
   "metadata": {},
   "source": [
    "Another option is to import specific items from the module:"
   ]
  },
  {
   "cell_type": "code",
   "execution_count": 2,
   "id": "8a3f4e38-5eb3-4d60-afec-b02e91bf861d",
   "metadata": {},
   "outputs": [
    {
     "name": "stdout",
     "output_type": "stream",
     "text": [
      ",.!?;-*\n"
     ]
    }
   ],
   "source": [
    "from my_module import PUNCTUATION_MARKS as MARKS, get_words\n",
    "print(MARKS)"
   ]
  },
  {
   "cell_type": "code",
   "execution_count": 7,
   "id": "ad68a5a5-de55-4cf9-b0ea-dadccbe1fb35",
   "metadata": {},
   "outputs": [
    {
     "data": {
      "text/plain": [
       "['in',\n",
       " 'python',\n",
       " 'a',\n",
       " 'module',\n",
       " 'is',\n",
       " 'a',\n",
       " 'file',\n",
       " 'containing',\n",
       " 'python',\n",
       " 'code']"
      ]
     },
     "execution_count": 7,
     "metadata": {},
     "output_type": "execute_result"
    }
   ],
   "source": [
    "get_words(\"In Python, a module is a file containing Python code.\")"
   ]
  },
  {
   "cell_type": "markdown",
   "id": "9c1a73aa-6cba-49c3-b685-7fad389764c6",
   "metadata": {},
   "source": [
    "Modules or specific names can also be imported under an alias, to avoid name conflicts, to provide a shorter or better name."
   ]
  },
  {
   "cell_type": "code",
   "execution_count": 8,
   "id": "55098bbf-3db0-4d0a-81f6-79d74a05754d",
   "metadata": {},
   "outputs": [
    {
     "name": "stdout",
     "output_type": "stream",
     "text": [
      ",.!?;-*\n"
     ]
    }
   ],
   "source": [
    "from my_module import PUNCTUATION_MARKS as PUNCTUATION\n",
    "print(PUNCTUATION)"
   ]
  },
  {
   "cell_type": "markdown",
   "id": "bf0cd2d3-82ff-4478-b624-e3bada62aecb",
   "metadata": {},
   "source": [
    "Regardless of the import strategy (importing the entire module or specific names from it), the entire file is executed at import. Which mean that, any executable statements the interpreter finds, it will execute them. Any statements you don't want to be executed at import must be placed under the following condition:\n",
    "\n",
    "```python\n",
    "if __name__ == \"__main__\":\n",
    "    # executable statements\n",
    "```\n",
    "\n",
    "The `__name__` variable is a special built-in variable that holds the name of the current module. When a Python script is executed, Python sets the value of `__name__` to `\"__main__\"` if the script is the main program being run. When a Python file is imported as a module into another script, Python sets the value of `__name__` to the name of the module.\n",
    "\n",
    "For reasons of efficiency, a module is only loaded once per interpreter session. Meaning that, if the same module is imported from multiple locations in our running app, the import will be executed only once.\n",
    "\n",
    "Also, while using the interactive interpreter, it may be the case that you need to reload an already imported module (because it has been edited and you need the latest version of it):\n",
    "\n",
    "```python\n",
    "import mymodule\n",
    "import importlib\n",
    "importlib.reload(mymodule)\n",
    "```\n",
    "\n",
    "### Exercises 7.2\n",
    "\n",
    "1. Create a new module where you import `string_helper` and use the function. Try out different import versions.\n",
    "2. Change `string_helper.py` so that the multiline string definition and the function call are not executed on import.\n",
    "\n",
    "## 7.3 Module search path\n",
    "\n",
    "When you import a module, Python searches for the module in a predefined list of directories known as the module search path.\n",
    "The module search path includes \n",
    "- the current directory\n",
    "- directories specified by the `PYTHONPATH` environment variable\n",
    "- the standard library directories.\n",
    "  \n",
    "You can view the module search path by accessing the `sys.path` list."
   ]
  },
  {
   "cell_type": "code",
   "execution_count": 9,
   "id": "041fe605-d607-4d3c-a599-23e3c998a960",
   "metadata": {},
   "outputs": [
    {
     "data": {
      "text/plain": [
       "['/opt/homebrew/Cellar/python@3.12/3.12.2/Frameworks/Python.framework/Versions/3.12/lib/python312.zip',\n",
       " '/opt/homebrew/Cellar/python@3.12/3.12.2/Frameworks/Python.framework/Versions/3.12/lib/python3.12',\n",
       " '/opt/homebrew/Cellar/python@3.12/3.12.2/Frameworks/Python.framework/Versions/3.12/lib/python3.12/lib-dynload',\n",
       " '',\n",
       " '/Users/iulia/PycharmProjects/python-beginner-course/.venv/lib/python3.12/site-packages']"
      ]
     },
     "execution_count": 9,
     "metadata": {},
     "output_type": "execute_result"
    }
   ],
   "source": [
    "import sys\n",
    "sys.path"
   ]
  },
  {
   "cell_type": "markdown",
   "id": "2ba4fc1b-b581-46d9-8843-b923c43e7b95",
   "metadata": {},
   "source": [
    "## 7.4 Standard Library modules\n",
    "\n",
    "Python comes with a standard library of modules that provide a wide range of functionality. You can import and use these modules in your Python scripts without installing additional packages.\n",
    "\n",
    "Let's see some examples!\n",
    "\n",
    "### `os` module\n",
    "\n",
    "The `os` module provides functions for interacting with the operating system, such as working with files and directories, managing processes, and handling file paths."
   ]
  },
  {
   "cell_type": "code",
   "execution_count": 10,
   "id": "855d2bf2-6eb7-49bc-bdd7-76586d99206b",
   "metadata": {},
   "outputs": [],
   "source": [
    "import os"
   ]
  },
  {
   "cell_type": "code",
   "execution_count": 11,
   "id": "f2f8ad55-beed-471b-a9b4-f28d5f686ee9",
   "metadata": {},
   "outputs": [
    {
     "data": {
      "text/plain": [
       "'/Users/iulia/PycharmProjects/python-beginner-course/docs'"
      ]
     },
     "execution_count": 11,
     "metadata": {},
     "output_type": "execute_result"
    }
   ],
   "source": [
    "os.getcwd()"
   ]
  },
  {
   "cell_type": "markdown",
   "id": "913eeaf0-1272-49d7-8c0a-7ef232300777",
   "metadata": {},
   "source": [
    "### `math` module\n",
    "\n",
    "The `math` module provides mathematical functions and constants for performing mathematical operations, such as trigonometric functions, logarithmic functions, and constants like π (pi) and e."
   ]
  },
  {
   "cell_type": "code",
   "execution_count": 12,
   "id": "682e88aa-c637-4429-a9ee-f97baf595ed8",
   "metadata": {},
   "outputs": [],
   "source": [
    "import math"
   ]
  },
  {
   "cell_type": "code",
   "execution_count": 13,
   "id": "380f0593-f02d-4c7f-b91d-7616b34d477c",
   "metadata": {},
   "outputs": [
    {
     "data": {
      "text/plain": [
       "3.0"
      ]
     },
     "execution_count": 13,
     "metadata": {},
     "output_type": "execute_result"
    }
   ],
   "source": [
    "math.sqrt(9)"
   ]
  },
  {
   "cell_type": "code",
   "execution_count": 14,
   "id": "b196c4eb-5fd0-4513-8560-f6f3c7036469",
   "metadata": {},
   "outputs": [
    {
     "data": {
      "text/plain": [
       "3.141592653589793"
      ]
     },
     "execution_count": 14,
     "metadata": {},
     "output_type": "execute_result"
    }
   ],
   "source": [
    "math.pi"
   ]
  },
  {
   "cell_type": "markdown",
   "id": "4b168dd2-f6dc-4656-9232-a7ce54120d61",
   "metadata": {},
   "source": [
    "### `random` module\n",
    "\n",
    "The `random` module provides functions for generating random numbers and performing random selections, such as generating random integers, shuffling sequences, and choosing random elements from sequences."
   ]
  },
  {
   "cell_type": "code",
   "execution_count": 15,
   "id": "0f3172b3-9d30-45fd-8b2a-701ce8c903cd",
   "metadata": {},
   "outputs": [],
   "source": [
    "import random"
   ]
  },
  {
   "cell_type": "code",
   "execution_count": 16,
   "id": "527d8dc5-27c6-4430-88b7-a775a69b994f",
   "metadata": {},
   "outputs": [
    {
     "data": {
      "text/plain": [
       "9"
      ]
     },
     "execution_count": 16,
     "metadata": {},
     "output_type": "execute_result"
    }
   ],
   "source": [
    "random.randint(1, 10)"
   ]
  },
  {
   "cell_type": "markdown",
   "id": "137335db-59ed-423e-b91c-6ccc661d4237",
   "metadata": {},
   "source": [
    "### Exercises 7.4\n",
    "\n",
    "1. Choose one of the following Python modules:\n",
    "   - [os](https://docs.python.org/3/library/os.html)\n",
    "   - [math](https://docs.python.org/3/library/math.html)\n",
    "   - [random](https://docs.python.org/3/library/random.html)\n",
    "\n",
    "   Try out at least one function from the module you chose."
   ]
  }
 ],
 "metadata": {
  "kernelspec": {
   "display_name": "Python 3 (ipykernel)",
   "language": "python",
   "name": "python3"
  },
  "language_info": {
   "codemirror_mode": {
    "name": "ipython",
    "version": 3
   },
   "file_extension": ".py",
   "mimetype": "text/x-python",
   "name": "python",
   "nbconvert_exporter": "python",
   "pygments_lexer": "ipython3",
   "version": "3.13.0"
  }
 },
 "nbformat": 4,
 "nbformat_minor": 5
}
