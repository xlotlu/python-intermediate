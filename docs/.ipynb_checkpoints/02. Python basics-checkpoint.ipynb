{
 "cells": [
  {
   "cell_type": "markdown",
   "id": "b018d4dd-593e-49ed-94d6-f0f41885a468",
   "metadata": {},
   "source": [
    "# 2. Python basics\n",
    "\n",
    "## 2.1 Comments\n",
    "\n",
    "Comments are parts of a program which are useful for anyone reading the code, but ignored completely by the interpreter. Python considers a comment anything that comes after a `#` symbol.\n",
    "\n",
    "Comments can:\n",
    "* explain assumptions\n",
    "* explain important decisions\n",
    "* explain important details\n",
    "* explain problems you're trying to solve\n",
    "* explain problems you're trying to overcome in your program, etc.\n",
    "* temporarily disable a part of the program\n",
    "\n",
    "This is useful for readers of your program so that they can easily understand what the program is doing. Remember, that person can be yourself after six months!\n",
    "\n",
    "script1.py\n",
    "```python\n",
    "# These exact names are also used in script2.py\n",
    "# If you change them make sure you update both places\n",
    "statuses = [\n",
    "    'new',\n",
    "    'open',\n",
    "    'closed',\n",
    "]\n",
    "```\n",
    "\n",
    "## Exercises 2.1\n",
    "\n",
    "1. Add a comment in `first_script.py` explaining what it does. Run the program again.\n",
    "2. Try commenting out the first line (the one where variable `name` is initialized) and run the program. What happens?\n",
    "\n",
    "## 2.2 Errors\n",
    "\n",
    "Every statement we write in a computer program is an instruction / command for the computer to execute. When the computer cannot do that, it will _throw an error_. These errors can happen for various reasons, such as syntactical mistakes, logical errors, or unexpected situations during runtime. When an error is thrown, the program stops completely. \n",
    "\n",
    "Errors can be dealt with through exception handling, but we will come back to this subject later in this course. For now, we will learn to interpret error messages and change the code to prevent error occurrence.\n",
    "\n",
    "In the exercise above, you noticed the following error:"
   ]
  },
  {
   "cell_type": "code",
   "execution_count": 2,
   "id": "e78f5fab-ac51-4e73-9608-8447d04660dd",
   "metadata": {
    "editable": true,
    "slideshow": {
     "slide_type": ""
    },
    "tags": [
     "raises-exception"
    ]
   },
   "outputs": [
    {
     "ename": "NameError",
     "evalue": "name 'some_variable' is not defined",
     "output_type": "error",
     "traceback": [
      "\u001b[31m---------------------------------------------------------------------------\u001b[39m",
      "\u001b[31mNameError\u001b[39m                                 Traceback (most recent call last)",
      "\u001b[36mCell\u001b[39m\u001b[36m \u001b[39m\u001b[32mIn[2]\u001b[39m\u001b[32m, line 1\u001b[39m\n\u001b[32m----> \u001b[39m\u001b[32m1\u001b[39m \u001b[38;5;28mprint\u001b[39m(\u001b[43msome_variable\u001b[49m)\n",
      "\u001b[31mNameError\u001b[39m: name 'some_variable' is not defined"
     ]
    }
   ],
   "source": [
    "print(some_variable)"
   ]
  },
  {
   "cell_type": "markdown",
   "id": "47714a81-3459-4ffe-833f-deab76a2aca7",
   "metadata": {
    "editable": true,
    "slideshow": {
     "slide_type": ""
    },
    "tags": []
   },
   "source": [
    "The interpreter gives us several important details when an error occurs, in order to help us debug it:\n",
    "1. The error type: `NameError`\n",
    "\n",
    "   This is the name of the exception class. There are several built-in exceptions in Python, besides `NameError`. We will discuss them when we encounter them.\n",
    "2. The error message: `name 'some_variable' is not defined`\n",
    "\n",
    "   This message should help us understand what went wrong. In this case, the variable named `some_variable` has not been previously defined, which is why Python is unable to print its value.\n",
    "3. The traceback\n",
    "\n",
    "   Shows the line that triggered the error and all the function calls that led to the erroneous statement. It is especially useful in more complex programs.\n",
    "\n",
    "A `NameError` will also occur if we forget to enclose a string in quotation marks: "
   ]
  },
  {
   "cell_type": "code",
   "execution_count": 3,
   "id": "2494a8bc-ab96-417a-98ca-0508b0fbdb84",
   "metadata": {},
   "outputs": [
    {
     "name": "stdout",
     "output_type": "stream",
     "text": [
      "hello\n"
     ]
    }
   ],
   "source": [
    "print(\"hello\")  # this one prints the text `hello`"
   ]
  },
  {
   "cell_type": "code",
   "execution_count": 4,
   "id": "6f73abb5-731a-4a4c-b255-9add03ca8159",
   "metadata": {
    "editable": true,
    "slideshow": {
     "slide_type": ""
    },
    "tags": [
     "raises-exception"
    ]
   },
   "outputs": [
    {
     "ename": "NameError",
     "evalue": "name 'hello' is not defined",
     "output_type": "error",
     "traceback": [
      "\u001b[31m---------------------------------------------------------------------------\u001b[39m",
      "\u001b[31mNameError\u001b[39m                                 Traceback (most recent call last)",
      "\u001b[36mCell\u001b[39m\u001b[36m \u001b[39m\u001b[32mIn[4]\u001b[39m\u001b[32m, line 1\u001b[39m\n\u001b[32m----> \u001b[39m\u001b[32m1\u001b[39m \u001b[38;5;28mprint\u001b[39m(\u001b[43mhello\u001b[49m)  \u001b[38;5;66;03m# this one assumes a variable named `hello` has been defined\u001b[39;00m\n",
      "\u001b[31mNameError\u001b[39m: name 'hello' is not defined"
     ]
    }
   ],
   "source": [
    "print(hello)  # this one assumes a variable named `hello` has been defined"
   ]
  },
  {
   "cell_type": "markdown",
   "id": "556d7970-b7e3-4d03-a306-99578a91de24",
   "metadata": {},
   "source": [
    "Another error you might see quite often while learning Python is `SyntaxError`. This happens when something you wrote isn't syntactically correct. Modern IDEs will try their best to prevent you from making syntax errors, but they can still occur. Let's see some examples:"
   ]
  },
  {
   "cell_type": "code",
   "execution_count": 5,
   "id": "3b5ade5c-5d0c-4f8f-9b02-1aa093ded2ce",
   "metadata": {
    "editable": true,
    "slideshow": {
     "slide_type": ""
    },
    "tags": [
     "raises-exception"
    ]
   },
   "outputs": [
    {
     "ename": "SyntaxError",
     "evalue": "unterminated string literal (detected at line 2) (3887629054.py, line 2)",
     "output_type": "error",
     "traceback": [
      "  \u001b[36mCell\u001b[39m\u001b[36m \u001b[39m\u001b[32mIn[5]\u001b[39m\u001b[32m, line 2\u001b[39m\n\u001b[31m    \u001b[39m\u001b[31mprint(\"hello')\u001b[39m\n          ^\n\u001b[31mSyntaxError\u001b[39m\u001b[31m:\u001b[39m unterminated string literal (detected at line 2)\n"
     ]
    }
   ],
   "source": [
    "# different quotation marks used around the string\n",
    "print(\"hello')"
   ]
  },
  {
   "cell_type": "code",
   "execution_count": 6,
   "id": "30d29498-d8e8-4ce5-8870-e643e22bb7d2",
   "metadata": {
    "editable": true,
    "slideshow": {
     "slide_type": ""
    },
    "tags": [
     "raises-exception"
    ]
   },
   "outputs": [
    {
     "ename": "_IncompleteInputError",
     "evalue": "incomplete input (2557585507.py, line 2)",
     "output_type": "error",
     "traceback": [
      "  \u001b[36mCell\u001b[39m\u001b[36m \u001b[39m\u001b[32mIn[6]\u001b[39m\u001b[32m, line 2\u001b[39m\n\u001b[31m    \u001b[39m\u001b[31mprint(\"hello\"\u001b[39m\n                 ^\n\u001b[31m_IncompleteInputError\u001b[39m\u001b[31m:\u001b[39m incomplete input\n"
     ]
    }
   ],
   "source": [
    "# missing parenthesis\n",
    "print(\"hello\""
   ]
  },
  {
   "cell_type": "markdown",
   "id": "0b246eb2-e9f9-4ad6-80ae-10c1d8519c0d",
   "metadata": {},
   "source": [
    "## Exercises 2.2\n",
    "\n",
    "1. The following lines of code contain some errors. Copy them into a Python file, execute it, and then solve the issues one by one.\n",
    "\n",
    "```python\n",
    "print(hello world)\n",
    "message = hello\n",
    "print(message)\n",
    "print(\"this is a string)\n",
    "print('this is another string\")\n",
    "```"
   ]
  },
  {
   "cell_type": "markdown",
   "id": "572f4d40-002e-4bcd-b97c-73e639c81a59",
   "metadata": {},
   "source": [
    "## 2.3 Variables\n",
    "\n",
    "### What are variables?\n",
    "\n",
    "Think of variables as labels that you stick on boxes with data. These boxes have names (or labels) that you assign to them, making it easy for you to refer to the data they contain.\n",
    "\n",
    "In Python, you can create a variable simply by choosing a name and assigning a value to it using the equal sign (`=`). For example:"
   ]
  },
  {
   "cell_type": "code",
   "execution_count": 7,
   "id": "c87d8287-84a1-425e-bf7b-bcd911363db0",
   "metadata": {},
   "outputs": [],
   "source": [
    "message = \"hello world\""
   ]
  },
  {
   "cell_type": "markdown",
   "id": "988142ff-4ad3-4efa-995b-f24d51631ad8",
   "metadata": {},
   "source": [
    "In this example, `message` is the name of the variable, and `\"hello world\"` is the value assigned to it. Now, whenever we refer to `message` in our code, Python knows that we're talking about the text `\"hello world\"`.\n",
    "\n",
    "### Variable types\n",
    "\n",
    "As you noticed, there is no need to specify the type of the variable when declaring it. **Variables are not bound to fixed types**.\n",
    "This is because Python is a dynamically typed language, meaning that variable type is determined at runtime. However, Python is also strongly typed, which means variables do have a type and that the type matters when performing operations on a variable (more on this later). You can always inspect the type of a variable using the built-in function `type`:"
   ]
  },
  {
   "cell_type": "code",
   "execution_count": 8,
   "id": "1737957b-324a-4b7d-a7bf-e0cc6d2d51fe",
   "metadata": {},
   "outputs": [
    {
     "data": {
      "text/plain": [
       "str"
      ]
     },
     "execution_count": 8,
     "metadata": {},
     "output_type": "execute_result"
    }
   ],
   "source": [
    "type(message)"
   ]
  },
  {
   "cell_type": "markdown",
   "id": "891ba002-a262-4d80-8084-90520fcacf4e",
   "metadata": {},
   "source": [
    "Variable type can also change at runtime, although this is not a common operation:"
   ]
  },
  {
   "cell_type": "code",
   "execution_count": 9,
   "id": "6299d112-fcb1-4dc7-a7b5-1337200a20fb",
   "metadata": {},
   "outputs": [],
   "source": [
    "message = 0"
   ]
  },
  {
   "cell_type": "code",
   "execution_count": 10,
   "id": "6963daff-3c56-4bcd-9b25-a46ccda093e6",
   "metadata": {},
   "outputs": [
    {
     "data": {
      "text/plain": [
       "int"
      ]
     },
     "execution_count": 10,
     "metadata": {},
     "output_type": "execute_result"
    }
   ],
   "source": [
    "type(message)"
   ]
  },
  {
   "cell_type": "markdown",
   "id": "1a7bc1b7-322e-42f4-af3b-710f40d1aff7",
   "metadata": {},
   "source": [
    "We will dive into the specifics of each data type in the following chapters.\n",
    "\n",
    "### Variable names\n",
    "When choosing names for your variables, there are a few rules to follow:\n",
    "\n",
    "1. Variable names can contain letters (a-z, A-Z), digits (0-9), and underscores (_), but they cannot start with a digit.\n",
    "2. Variable names cannot contain spaces or special characters like !, @, #, $, %, etc.\n",
    "3. Variable names are case-sensitive, meaning `message`, `Message`, and `MESSAGE` would be considered different variables.\n",
    "4. Choose descriptive names that reflect the purpose of the variable.\n",
    "\n",
    "### Using variables\n",
    "Once you've assigned values to variables, you can use them in your code wherever you need that value. For example:"
   ]
  },
  {
   "cell_type": "code",
   "execution_count": 11,
   "id": "24d057f6-e555-45ce-8531-660694ac6c14",
   "metadata": {},
   "outputs": [
    {
     "name": "stdout",
     "output_type": "stream",
     "text": [
      "15\n"
     ]
    }
   ],
   "source": [
    "x = 10\n",
    "y = 5\n",
    "z = x + y\n",
    "print(z)"
   ]
  },
  {
   "cell_type": "markdown",
   "id": "831200b0-1cc3-47be-b9cf-31eb82ba12c1",
   "metadata": {},
   "source": [
    "In this example, we added the values of `x` and `y` and stored the result in `z`. Then, we printed the value of `z`, which is `15`.\n",
    "\n",
    "## Exercises 2.3\n",
    "\n",
    "1. In this exercise, you'll create a simple daily activity tracker. Copy the lines below into a Python file, and update `current_activity` to represent different activities done throughout the day.\n",
    "\n",
    "   ```python\n",
    "   # Define the initial activity\n",
    "   current_activity = \"Morning jog\"\n",
    "\n",
    "   # Printing out morning activity\n",
    "   print(\"Morning:\")\n",
    "   print(current_activity)\n",
    "\n",
    "   # Update activity for the afternoon\n",
    "\n",
    "   # Printing out afternoon activity\n",
    "   print(\"Afternoon:\")\n",
    "   print(current_activity)\n",
    "\n",
    "   # Update activity for the evening\n",
    "\n",
    "   # Printing out evening activity\n",
    "   print(\"Evening:\")\n",
    "   print(current_activity)\n",
    "   ```"
   ]
  },
  {
   "cell_type": "markdown",
   "id": "39350e65-0806-40f8-af3f-069e78ec0caf",
   "metadata": {},
   "source": [
    "## 2.4 Numbers\n",
    "\n",
    "Python has multiple ways of storing numbers, which can be used alternatively depending on the intended purpose of the number we're using. The most commonly used numeric data types in Python are:\n",
    "\n",
    "- **Integers (type `int`)**\n",
    "  \n",
    "    Integers are whole numbers without any decimal point. They can be positive, negative, or zero. For example: `5`, `-10`, `0`. If you were storing the population of a country, the number of apartments in a building or counting the number a times you encountered a certain value in a sequence, you would be using an integer number.\n",
    "\n",
    "- **Floating-Point Numbers (type `float`)**\n",
    "  \n",
    "    Floating-point numbers, or floats, represent real numbers with a decimal point. They can also be expressed using scientific notation. For example: `3.14`, `2.5e2` (which is equivalent to 250.0). If you were storing the area of a country, measuring the distance between two cities or calculating the perimeter of a terrain, you would likely use a floating-point number.\n",
    "\n",
    "Numbers can be assigned to variables, or can be used literally in a program:"
   ]
  },
  {
   "cell_type": "code",
   "execution_count": 12,
   "id": "1df1ddec-645b-48fc-8ddf-4eb13b7f1840",
   "metadata": {},
   "outputs": [
    {
     "name": "stdout",
     "output_type": "stream",
     "text": [
      "12\n"
     ]
    }
   ],
   "source": [
    "my_int = 10\n",
    "my_float = 4.5\n",
    "print(my_int + 2)"
   ]
  },
  {
   "cell_type": "markdown",
   "id": "95c68588-8826-488b-8fb8-090dd9c45d48",
   "metadata": {},
   "source": [
    "Above, we used both variables (`my_int` and `my_float`) and numeric literals (10, 4.5 and 2) to refer to numbers. We call the numbers 10, 4.5 and 2 here _numeric literals_, because they are the actual numbers, not variables storing these values.\n",
    "\n",
    "### Type Conversion\n",
    "You can convert between different numeric types using type conversion functions. For example:"
   ]
  },
  {
   "cell_type": "code",
   "execution_count": 13,
   "id": "df2fc855-3f73-4eb4-ba54-f8a5b671ad81",
   "metadata": {},
   "outputs": [
    {
     "name": "stdout",
     "output_type": "stream",
     "text": [
      "10.0\n"
     ]
    }
   ],
   "source": [
    "new_float = float(my_int)\n",
    "print(new_float)"
   ]
  },
  {
   "cell_type": "code",
   "execution_count": 14,
   "id": "5c183ea9-7fe0-49a9-a98d-9b447fcd58c3",
   "metadata": {},
   "outputs": [
    {
     "name": "stdout",
     "output_type": "stream",
     "text": [
      "4\n"
     ]
    }
   ],
   "source": [
    "new_int = int(my_float)\n",
    "print(new_int)"
   ]
  },
  {
   "cell_type": "markdown",
   "id": "c93e2a15-b961-4aa7-bfae-a2a5df58c45e",
   "metadata": {},
   "source": [
    "## Exercises 2.4.1\n",
    "\n",
    "1. Declare a variable called `my_age` and assign it your current age as an integer. Print the value.\n",
    "2. Declare a variable called `distance` and assign it a length in meters as a float. Print the value.\n",
    "3. You decide you actually want to store the distance as an integer. Convert `distance` created above to `int` and assign the result to the same variable. Print the new value.\n",
    "\n",
    "### Arithmetic operations\n",
    "\n",
    "Most statements that you write will contain expressions. A simple example of an expression is `10 + 2`. An expression can be broken down into _operators_ and _operands_.\n",
    "\n",
    "*Operators* are special symbols, combinations of symbols, or keywords that designate some type of _computation_. Operators require some data to operate on and such data is called *operands*. In this case, 10 and 2 are the operands.\n",
    "\n",
    "Python provides several operators for performing arithmetic operations on numbers. These operators include:\n",
    "\n",
    "- **Addition (`+`)**: Adds two numbers together.\n",
    "- **Subtraction (`-`)**: Subtracts one number from another.\n",
    "- **Multiplication (`*`)**: Multiplies two numbers.\n",
    "- **Division (`/`)**: Divides one number by another. Always returns a float.\n",
    "- **Floor Division (`//`)**: Divides one number by another and returns the integer part of the result.\n",
    "- **Modulus (`%`)**: Returns the remainder of the division of one number by another.\n",
    "- **Exponentiation (`**`)**: Raises one number to the power of another."
   ]
  },
  {
   "cell_type": "code",
   "execution_count": 15,
   "id": "d50f1344-e82c-4442-ba90-d8332c798391",
   "metadata": {},
   "outputs": [
    {
     "name": "stdout",
     "output_type": "stream",
     "text": [
      "8\n"
     ]
    }
   ],
   "source": [
    "result = 10 - 2\n",
    "print(result)"
   ]
  },
  {
   "cell_type": "markdown",
   "id": "0938e8cc-1ca8-44fb-9781-28bc327065d1",
   "metadata": {},
   "source": [
    "An expression can also be sent to the `print` function, without previously assigning it to a variable:"
   ]
  },
  {
   "cell_type": "code",
   "execution_count": 16,
   "id": "9540f869-177e-4ea6-858d-efcd5b0e39cd",
   "metadata": {},
   "outputs": [
    {
     "name": "stdout",
     "output_type": "stream",
     "text": [
      "20\n"
     ]
    }
   ],
   "source": [
    "print(10 * 2)"
   ]
  },
  {
   "cell_type": "markdown",
   "id": "8a8d5f52-0c93-49b5-9aca-7b5944ae01b4",
   "metadata": {},
   "source": [
    "An interesting feature in Python is that it defines two division operators: `/` will always return a float, while `//` will return the quotient."
   ]
  },
  {
   "cell_type": "code",
   "execution_count": 17,
   "id": "ed87c48f-2e1c-44a1-be16-20109f3fdd3b",
   "metadata": {},
   "outputs": [
    {
     "data": {
      "text/plain": [
       "2"
      ]
     },
     "execution_count": 17,
     "metadata": {},
     "output_type": "execute_result"
    }
   ],
   "source": [
    "10 // 4"
   ]
  },
  {
   "cell_type": "code",
   "execution_count": 18,
   "id": "a622af46-71ba-4251-bd6b-6cec22f0da1f",
   "metadata": {},
   "outputs": [
    {
     "data": {
      "text/plain": [
       "2.5"
      ]
     },
     "execution_count": 18,
     "metadata": {},
     "output_type": "execute_result"
    }
   ],
   "source": [
    "10 / 4"
   ]
  },
  {
   "cell_type": "markdown",
   "id": "13b218ed-1e4a-473d-8fa6-0659c2fcfa90",
   "metadata": {},
   "source": [
    "Python fully supports mixed arithmetic, which means a float and an integer can be used as operands of a binary arithmetic operator. The result will be a floating point number:"
   ]
  },
  {
   "cell_type": "code",
   "execution_count": 19,
   "id": "2b6e11cb-745d-4acf-9614-2c5a71f1b3af",
   "metadata": {},
   "outputs": [
    {
     "data": {
      "text/plain": [
       "9.0"
      ]
     },
     "execution_count": 19,
     "metadata": {},
     "output_type": "execute_result"
    }
   ],
   "source": [
    "4.5 * 2"
   ]
  },
  {
   "cell_type": "markdown",
   "id": "60c59f3a-f54d-41bb-8c17-d15274cb2534",
   "metadata": {},
   "source": [
    "### Evaluation Order\n",
    "\n",
    "If you had an expression such as `2 + 3 * 4`, is the addition done first or the multiplication? Mathematics rules tell us that the multiplication should be done first. This means that the multiplication operator has higher precedence than the addition operator. The same rule has been implemented in Python. For arithmetic operators, they will be evaluated in the following order:\n",
    "\n",
    "1. Exponentiation (`**`)\n",
    "2. Multiplication (`*`) and divisions (`/`, `//`, `%`)\n",
    "3. Addition (`+`) and substraction (`-`)\n",
    "\n",
    "Operators on the same priority level (e.g. multiplication and floor division) will be evaluated in order, from left to right."
   ]
  },
  {
   "cell_type": "code",
   "execution_count": 20,
   "id": "a59f9c6d-5568-4d2f-ad0d-b6e7ee805316",
   "metadata": {},
   "outputs": [
    {
     "data": {
      "text/plain": [
       "60"
      ]
     },
     "execution_count": 20,
     "metadata": {},
     "output_type": "execute_result"
    }
   ],
   "source": [
    "10 + 2 * 5 ** 2"
   ]
  },
  {
   "cell_type": "markdown",
   "id": "8e83ae81-8f38-412d-b530-5c19bfa55c42",
   "metadata": {},
   "source": [
    "#### Changing the order of evaluation\n",
    "\n",
    "If we need to change the order in which operators are evaluated, we can add parentheses to group parts of the expression:"
   ]
  },
  {
   "cell_type": "code",
   "execution_count": 21,
   "id": "caf0d8f3-89f9-4757-b653-3714729507af",
   "metadata": {},
   "outputs": [
    {
     "data": {
      "text/plain": [
       "3600"
      ]
     },
     "execution_count": 21,
     "metadata": {},
     "output_type": "execute_result"
    }
   ],
   "source": [
    "((10 + 2) * 5) ** 2"
   ]
  },
  {
   "cell_type": "markdown",
   "id": "fbaf6a82-75e5-46dd-8e59-70dff31c961d",
   "metadata": {},
   "source": [
    "Parentheses can also be added to make an expression more readable, without changing the order of evaluation:"
   ]
  },
  {
   "cell_type": "code",
   "execution_count": 22,
   "id": "780569e2-a73c-4fb4-a967-cbed49f21bed",
   "metadata": {},
   "outputs": [
    {
     "data": {
      "text/plain": [
       "60"
      ]
     },
     "execution_count": 22,
     "metadata": {},
     "output_type": "execute_result"
    }
   ],
   "source": [
    "10 + 2 * (5 ** 2)"
   ]
  },
  {
   "cell_type": "markdown",
   "id": "131b9c2f-ab72-420a-bc33-a0228069c2fb",
   "metadata": {},
   "source": [
    "## Exercises 2.4.2\n",
    "\n",
    "1. Declare a variable called `my_age` and assign it your current age as an integer. Declare a variable called `friend_age` and assign it the age of a friend as an integer. Calculate the age difference between you and your friend and store it in a variable called `age_difference`. Print the age difference.\n",
    "2. Romania's GDP in 2022 was 284 billion euros. In the same year, Romania's population was 19.5 million. Define two variables `gdp` and `population` and store these values. Compute and display Romania's GPD per capita in 2022.\n",
    "3. Declare a variable called `celsius_temp` and assign it a temperature in Celsius as a float. Convert the temperature to Fahrenheit using the formula: `Fahrenheit = (Celsius * 9/5) + 32`. Store the result in a variable called `fahrenheit_temp`. Print the Fahrenheit temperature.\n",
    "4. Declare a variable called `distance_meters` and assign it a length in meters as a float. Convert the length to feet using the conversion factor: 1 meter = 3.28084 feet. Store the result in a variable called `distance_feet`. Print the distance in feet.\n",
    "5. Define a variable called `total_minutes` and assign it a random value chosen by you between 0 and 1440. Consider this to be the number of minutes passed after midnight. What time would a digital 24h clock show? Compute and display the two values: `hour` and `minute`."
   ]
  },
  {
   "cell_type": "markdown",
   "id": "1b66c6e2-be6d-4bd9-ab9e-5fc3e7a856e4",
   "metadata": {},
   "source": [
    "## 2.5 Strings\n",
    "\n",
    "In Python, a string is a sequence of characters enclosed within either single quotes (`' '`) or double quotes (`\" \"`). Strings can contain letters, digits, special characters, and even whitespace. Here's an example of a string:"
   ]
  },
  {
   "cell_type": "code",
   "execution_count": 23,
   "id": "6e60094d-7536-4bb8-9f19-9b8f0cdd5491",
   "metadata": {
    "editable": true,
    "slideshow": {
     "slide_type": ""
    },
    "tags": []
   },
   "outputs": [],
   "source": [
    "message = \"Hello, World!\""
   ]
  },
  {
   "cell_type": "markdown",
   "id": "d878a659-df03-46b8-9c36-6acc48c84722",
   "metadata": {},
   "source": [
    "In this example, `\"Hello, World!\"` is a string. We also call these _literal strings_, because the content of the string is defined literally, between the quotes. Literal strings should always be enclosed by quotes; skipping the quotes will trigger an error, like we've already seen in the Errors chapter above:"
   ]
  },
  {
   "cell_type": "code",
   "execution_count": 24,
   "id": "f7ea096b-b99c-412f-9c2f-7d03ac686be4",
   "metadata": {
    "editable": true,
    "slideshow": {
     "slide_type": ""
    },
    "tags": [
     "raises-exception"
    ]
   },
   "outputs": [
    {
     "ename": "SyntaxError",
     "evalue": "invalid syntax (4224808775.py, line 1)",
     "output_type": "error",
     "traceback": [
      "  \u001b[36mCell\u001b[39m\u001b[36m \u001b[39m\u001b[32mIn[24]\u001b[39m\u001b[32m, line 1\u001b[39m\n\u001b[31m    \u001b[39m\u001b[31mmessage = Hello, World!\u001b[39m\n                          ^\n\u001b[31mSyntaxError\u001b[39m\u001b[31m:\u001b[39m invalid syntax\n"
     ]
    }
   ],
   "source": [
    "message = Hello, World!"
   ]
  },
  {
   "cell_type": "markdown",
   "id": "208b0f6c-b5f4-4716-b661-7c7790b9e799",
   "metadata": {
    "editable": true,
    "slideshow": {
     "slide_type": ""
    },
    "tags": []
   },
   "source": [
    "### Creating Strings\n",
    "\n",
    "You can create strings using single quotes, double quotes, or even triple quotes for multi-line strings. \n",
    "\n",
    "Single and double quotes are interchangeable - there is no difference between strings created with single vs double quotes. Developers usually choose one style of quotes and use it consistently. \n",
    "\n",
    "One case where using one type of quotes over the other is preferable are strings containing a quote. For example, the string `What's up?` cannot be enclosed in single quotes, because Python would consider the string to be terminated by the apostrophe after `What`:"
   ]
  },
  {
   "cell_type": "code",
   "execution_count": 25,
   "id": "3d70096c-146c-44df-8837-d77ae610bec8",
   "metadata": {
    "editable": true,
    "slideshow": {
     "slide_type": ""
    },
    "tags": [
     "raises-exception"
    ]
   },
   "outputs": [
    {
     "ename": "SyntaxError",
     "evalue": "unterminated string literal (detected at line 1) (1958893968.py, line 1)",
     "output_type": "error",
     "traceback": [
      "  \u001b[36mCell\u001b[39m\u001b[36m \u001b[39m\u001b[32mIn[25]\u001b[39m\u001b[32m, line 1\u001b[39m\n\u001b[31m    \u001b[39m\u001b[31mquestion = 'What's up?'\u001b[39m\n                          ^\n\u001b[31mSyntaxError\u001b[39m\u001b[31m:\u001b[39m unterminated string literal (detected at line 1)\n"
     ]
    }
   ],
   "source": [
    "question = 'What's up?'"
   ]
  },
  {
   "cell_type": "markdown",
   "id": "3b5f244e-b664-4b04-b310-e4d5c4291c3d",
   "metadata": {
    "editable": true,
    "slideshow": {
     "slide_type": ""
    },
    "tags": []
   },
   "source": [
    "In this case, using double quotes will solve the issue:"
   ]
  },
  {
   "cell_type": "code",
   "execution_count": 26,
   "id": "96b06d03-c1cb-4698-9e35-1e1ab8cfb310",
   "metadata": {
    "editable": true,
    "slideshow": {
     "slide_type": ""
    },
    "tags": []
   },
   "outputs": [],
   "source": [
    "question = \"What's up?\""
   ]
  },
  {
   "cell_type": "markdown",
   "id": "88bf3c9b-450e-4ac7-8876-ccbf64aea1ce",
   "metadata": {
    "editable": true,
    "slideshow": {
     "slide_type": ""
    },
    "tags": []
   },
   "source": [
    "Same rule goes for double quotes enclosed inside single quotes:"
   ]
  },
  {
   "cell_type": "code",
   "execution_count": 27,
   "id": "65f95b9f-b103-4ca6-b79d-f5d835ba57a3",
   "metadata": {
    "editable": true,
    "slideshow": {
     "slide_type": ""
    },
    "tags": []
   },
   "outputs": [],
   "source": [
    "text = '\"To be or not to be\", that is the question'"
   ]
  },
  {
   "cell_type": "markdown",
   "id": "988dd8fa-eb80-415f-b910-728b09d1bfae",
   "metadata": {
    "editable": true,
    "slideshow": {
     "slide_type": ""
    },
    "tags": []
   },
   "source": [
    "Triple quotes are used for multi-line strings, i.e. strings that contain multiple lines. Newlines added inside the triple quotes are kept inside the resulting string:"
   ]
  },
  {
   "cell_type": "code",
   "execution_count": 28,
   "id": "f895e81b-d055-4c8c-b2a7-d92d1ba6ad8f",
   "metadata": {
    "editable": true,
    "slideshow": {
     "slide_type": ""
    },
    "tags": []
   },
   "outputs": [
    {
     "name": "stdout",
     "output_type": "stream",
     "text": [
      "This is a \n",
      "multi-line string.\n"
     ]
    }
   ],
   "source": [
    "multiline_string = \"\"\"This is a \n",
    "multi-line string.\"\"\"\n",
    "print(multiline_string)"
   ]
  },
  {
   "cell_type": "markdown",
   "id": "bb0f17d0-4846-4660-a74f-1ef90c6be820",
   "metadata": {
    "editable": true,
    "slideshow": {
     "slide_type": ""
    },
    "tags": []
   },
   "source": [
    "### Escape Sequences\n",
    "\n",
    "Another approach to define strings that contain special characters (like the quotes that enclose strings) is using escape sequences. Escape sequences in Python are special characters that are preceded by a backslash (`\\`) and used to represent characters that are difficult or impossible to type directly into the code. They allow you to include characters such as newline, tab, backslash, and others within strings.\n",
    "\n",
    "Here are some common escape sequences:\n",
    "\n",
    "- `\\n`: Represents a newline character. It is used to add a new line within a string."
   ]
  },
  {
   "cell_type": "code",
   "execution_count": 29,
   "id": "8d7bc154-f6db-43fb-989c-32fff5f2cd6f",
   "metadata": {
    "editable": true,
    "slideshow": {
     "slide_type": ""
    },
    "tags": []
   },
   "outputs": [
    {
     "name": "stdout",
     "output_type": "stream",
     "text": [
      "Good\n",
      "Morning!\n"
     ]
    }
   ],
   "source": [
    "print(\"Good\\nMorning!\")"
   ]
  },
  {
   "cell_type": "markdown",
   "id": "c7624f2f-baa2-4d02-b940-b7cd9eaf74c4",
   "metadata": {
    "editable": true,
    "slideshow": {
     "slide_type": ""
    },
    "tags": []
   },
   "source": [
    "- `\\t`: Represents a tab character. It is used to insert horizontal tab spaces within a string."
   ]
  },
  {
   "cell_type": "code",
   "execution_count": 30,
   "id": "cc6810f6-ea95-4a51-a6d5-7b2eb0c9232c",
   "metadata": {
    "editable": true,
    "slideshow": {
     "slide_type": ""
    },
    "tags": []
   },
   "outputs": [
    {
     "name": "stdout",
     "output_type": "stream",
     "text": [
      "Name:\tAnna\n"
     ]
    }
   ],
   "source": [
    "print(\"Name:\\tAnna\")"
   ]
  },
  {
   "cell_type": "markdown",
   "id": "44936f49-51cf-4665-b78c-3b4dd952f348",
   "metadata": {
    "editable": true,
    "slideshow": {
     "slide_type": ""
    },
    "tags": []
   },
   "source": [
    "- `\\'`: Represents a single quote character. It is used to include a literal single quote within a string enclosed by single quotes."
   ]
  },
  {
   "cell_type": "code",
   "execution_count": 31,
   "id": "84d50636-e44c-4c9a-b4c6-505ab28c006b",
   "metadata": {
    "editable": true,
    "slideshow": {
     "slide_type": ""
    },
    "tags": []
   },
   "outputs": [
    {
     "name": "stdout",
     "output_type": "stream",
     "text": [
      "What's up?\n"
     ]
    }
   ],
   "source": [
    "print('What\\'s up?')"
   ]
  },
  {
   "cell_type": "markdown",
   "id": "f5004a82-a898-42f8-a2b2-e8bee88b37de",
   "metadata": {
    "editable": true,
    "slideshow": {
     "slide_type": ""
    },
    "tags": []
   },
   "source": [
    "- `\\\"`: Represents a double quote character. It is used to include a literal double quote within a string enclosed by single quotes."
   ]
  },
  {
   "cell_type": "code",
   "execution_count": 32,
   "id": "258532ab-aede-4e0b-afe3-991d2fee3719",
   "metadata": {
    "editable": true,
    "slideshow": {
     "slide_type": ""
    },
    "tags": []
   },
   "outputs": [
    {
     "name": "stdout",
     "output_type": "stream",
     "text": [
      "He said \"Hello!\"\n"
     ]
    }
   ],
   "source": [
    "print(\"He said \\\"Hello!\\\"\")"
   ]
  },
  {
   "cell_type": "markdown",
   "id": "c9dbf4cf-cf4a-48e6-8114-94f5e07147f0",
   "metadata": {
    "editable": true,
    "slideshow": {
     "slide_type": ""
    },
    "tags": []
   },
   "source": [
    "- `\\\\`: Represents a backslash character. Because the backslash is an escape character, in order to include it literally in a string, it has to be escaped (by itself)."
   ]
  },
  {
   "cell_type": "code",
   "execution_count": 33,
   "id": "6c57a50f-cfe4-4924-91cd-fc6dd1a55f69",
   "metadata": {
    "editable": true,
    "slideshow": {
     "slide_type": ""
    },
    "tags": []
   },
   "outputs": [
    {
     "name": "stdout",
     "output_type": "stream",
     "text": [
      "This is a backslash: \\\n"
     ]
    }
   ],
   "source": [
    "print(\"This is a backslash: \\\\\")"
   ]
  },
  {
   "cell_type": "markdown",
   "id": "e3348832-da10-43b9-a13e-6dd50f4605bb",
   "metadata": {
    "editable": true,
    "slideshow": {
     "slide_type": ""
    },
    "tags": []
   },
   "source": [
    "### Exercises 2.5.1\n",
    "\n",
    "1. Create two variables, `single_quote_string` and `double_quote_string`, each containing the same string, but enclosed with different quotation mark symbols. Compare the two variables (using `==`, an operator which verifies if two values are equal). Are the two strings equal?\n",
    "\n",
    "   ```python\n",
    "   print(single_quote_string == double_quote_string)\n",
    "   ```\n",
    "2. Create a multiline string (using triple quotes) containing the lyrics of a song you like (choose a few lines). Print the string.\n",
    "3. Do the same as the previous exercise, but this time use newline characters inside a single line string. Which option was easier to write?\n",
    "4. Create a string that outputs, when printed, the following text. Use newlines (between lines) and tabs (after the `:` symbol).\n",
    "   ```\n",
    "   name:\tAnna\n",
    "   age:\t20\n",
    "   hobby:\twriting\n",
    "   ```"
   ]
  },
  {
   "cell_type": "markdown",
   "id": "965d7d2d-2237-4a98-8a06-8e8c2dbfd65a",
   "metadata": {
    "editable": true,
    "slideshow": {
     "slide_type": ""
    },
    "tags": []
   },
   "source": [
    "### String manipulation\n",
    "\n",
    "Python supports a series of operations for string objects, which we dive into next.\n",
    "\n",
    "#### Checking if a substring is part of a string\n",
    "\n",
    "In Python, the `in` and `not in` operators are used to check whether a substring exists within a string or not. These operators return a boolean value (True or False) based on the presence or absence of the specified substring."
   ]
  },
  {
   "cell_type": "code",
   "execution_count": 34,
   "id": "f89d2685-df2f-4197-977e-96eec18bd27e",
   "metadata": {
    "editable": true,
    "slideshow": {
     "slide_type": ""
    },
    "tags": []
   },
   "outputs": [
    {
     "name": "stdout",
     "output_type": "stream",
     "text": [
      "True\n"
     ]
    }
   ],
   "source": [
    "text = \"Python is a programming language\"\n",
    "word = \"lang\"\n",
    "print(word in text)"
   ]
  },
  {
   "cell_type": "code",
   "execution_count": 35,
   "id": "dc8b2f87-7c6c-4630-ad8a-4c540181e8a7",
   "metadata": {
    "editable": true,
    "slideshow": {
     "slide_type": ""
    },
    "tags": []
   },
   "outputs": [
    {
     "name": "stdout",
     "output_type": "stream",
     "text": [
      "False\n"
     ]
    }
   ],
   "source": [
    "print(\"a\" not in text)"
   ]
  },
  {
   "cell_type": "markdown",
   "id": "e495f63b-7da4-4ba8-8c4c-4b27e4847429",
   "metadata": {
    "editable": true,
    "slideshow": {
     "slide_type": ""
    },
    "tags": []
   },
   "source": [
    "#### Concatenation and multiplication\n",
    "\n",
    "You can combine two or more strings together using the `+` operator, resulting in a new string:"
   ]
  },
  {
   "cell_type": "code",
   "execution_count": 36,
   "id": "187871d3-cb70-4190-9868-8a54d49db2b8",
   "metadata": {
    "editable": true,
    "slideshow": {
     "slide_type": ""
    },
    "tags": []
   },
   "outputs": [
    {
     "name": "stdout",
     "output_type": "stream",
     "text": [
      "Hello, Anna!\n"
     ]
    }
   ],
   "source": [
    "greeting = \"Hello, \" + \"Anna\" + \"!\"\n",
    "print(greeting)"
   ]
  },
  {
   "cell_type": "markdown",
   "id": "fbdd2766-f97c-457b-b2b7-0621d910b758",
   "metadata": {
    "editable": true,
    "slideshow": {
     "slide_type": ""
    },
    "tags": []
   },
   "source": [
    "Somewhat surprising, the `*` operator also works on strings. The second operand **must** be an integer, and the result will be a new string obtained by concatenating the initial string to itself:"
   ]
  },
  {
   "cell_type": "code",
   "execution_count": 37,
   "id": "9287af8d-40ce-4a01-8ff8-2fb23815917c",
   "metadata": {
    "editable": true,
    "slideshow": {
     "slide_type": ""
    },
    "tags": []
   },
   "outputs": [
    {
     "name": "stdout",
     "output_type": "stream",
     "text": [
      "Hello! Hello! Hello! \n"
     ]
    }
   ],
   "source": [
    "greeting = \"Hello! \" * 3\n",
    "print(greeting)"
   ]
  },
  {
   "cell_type": "markdown",
   "id": "7a12e488-d8f5-479f-9910-91ed9d3103a6",
   "metadata": {
    "editable": true,
    "slideshow": {
     "slide_type": ""
    },
    "tags": []
   },
   "source": [
    "#### Indexing\n",
    "\n",
    "Strings are sequences of characters. Each character in a string has a certain position, or _index_. For example, the string `\"Python\"` has a `P` on the first position, a `y` on the second position, and so on. Indexing always starts with position 0, so `P` would actually be on index 0, `y` on position 1, and so on. Here is a table with each character and its index in the string `\"Python\"`:\n",
    "\n",
    "| Index | Character |\n",
    "|-------|-----------|\n",
    "|   0   |     P     |\n",
    "|   1   |     y     |\n",
    "|   2   |     t     |\n",
    "|   3   |     h     |\n",
    "|   4   |     o     |\n",
    "|   5   |     n     |\n",
    "\n",
    "The indexing operation means retrieving a character in a string from a certain index:"
   ]
  },
  {
   "cell_type": "code",
   "execution_count": 38,
   "id": "637ecdad-48bc-42f6-9818-c82a7650f12c",
   "metadata": {
    "editable": true,
    "slideshow": {
     "slide_type": ""
    },
    "tags": []
   },
   "outputs": [
    {
     "data": {
      "text/plain": [
       "'P'"
      ]
     },
     "execution_count": 38,
     "metadata": {},
     "output_type": "execute_result"
    }
   ],
   "source": [
    "word = \"Python\"\n",
    "word[0]"
   ]
  },
  {
   "cell_type": "code",
   "execution_count": 39,
   "id": "ced13e44-ed2f-4713-b6fc-17b823ec14f1",
   "metadata": {
    "editable": true,
    "slideshow": {
     "slide_type": ""
    },
    "tags": []
   },
   "outputs": [
    {
     "data": {
      "text/plain": [
       "'y'"
      ]
     },
     "execution_count": 39,
     "metadata": {},
     "output_type": "execute_result"
    }
   ],
   "source": [
    "word[1]"
   ]
  },
  {
   "cell_type": "markdown",
   "id": "a5aadd5e-13b9-4c62-98e1-090e2d80fba9",
   "metadata": {
    "editable": true,
    "slideshow": {
     "slide_type": ""
    },
    "tags": []
   },
   "source": [
    "Negative indexes can also be used, and they will retrieve characters starting from the end of a string:"
   ]
  },
  {
   "cell_type": "code",
   "execution_count": 40,
   "id": "197e117e-878d-4218-869c-ee89f9949293",
   "metadata": {
    "editable": true,
    "slideshow": {
     "slide_type": ""
    },
    "tags": []
   },
   "outputs": [
    {
     "data": {
      "text/plain": [
       "'n'"
      ]
     },
     "execution_count": 40,
     "metadata": {},
     "output_type": "execute_result"
    }
   ],
   "source": [
    "word[-1]"
   ]
  },
  {
   "cell_type": "code",
   "execution_count": 41,
   "id": "c1379b01-a9c8-4b2e-985f-3d6a098cb7c4",
   "metadata": {
    "editable": true,
    "slideshow": {
     "slide_type": ""
    },
    "tags": []
   },
   "outputs": [
    {
     "data": {
      "text/plain": [
       "'o'"
      ]
     },
     "execution_count": 41,
     "metadata": {},
     "output_type": "execute_result"
    }
   ],
   "source": [
    "word[-2]"
   ]
  },
  {
   "cell_type": "markdown",
   "id": "6eb8ff4c-68bb-4fa1-8d7e-e182bd2097cc",
   "metadata": {
    "editable": true,
    "slideshow": {
     "slide_type": ""
    },
    "tags": []
   },
   "source": [
    "#### Slicing\n",
    "\n",
    "The slicing operation is pretty similar to the indexing one, but this time we will retrieve _slices_ (multiple characters) of the string. The slicing notation is `string[start:end:step]`, where:\n",
    "* `start`: Optional. The starting index of the substring (inclusive). If not specified, the default value is 0.\n",
    "* `end`: Optional. The ending index of the substring (exclusive). If not specified, the default value is the length of the string.\n",
    "* `step`: Optional. The step size for selecting characters. If not specified, the default value is 1."
   ]
  },
  {
   "cell_type": "code",
   "execution_count": 42,
   "id": "7dcfc870-1a3f-4bb9-8e94-6f734d290242",
   "metadata": {
    "editable": true,
    "slideshow": {
     "slide_type": ""
    },
    "tags": []
   },
   "outputs": [
    {
     "data": {
      "text/plain": [
       "'is a programming'"
      ]
     },
     "execution_count": 42,
     "metadata": {},
     "output_type": "execute_result"
    }
   ],
   "source": [
    "text = \"Python is a programming language\"\n",
    "text[7:23]  # all characters between indexes 7 (inclusive) and 23 (exclusive); step is omitted"
   ]
  },
  {
   "cell_type": "code",
   "execution_count": 43,
   "id": "aa5692bc-d096-402a-9709-f14703f4c685",
   "metadata": {
    "editable": true,
    "slideshow": {
     "slide_type": ""
    },
    "tags": []
   },
   "outputs": [
    {
     "data": {
      "text/plain": [
       "'i  rgamn'"
      ]
     },
     "execution_count": 43,
     "metadata": {},
     "output_type": "execute_result"
    }
   ],
   "source": [
    "text[7:23:2]  # same as above, using step=2"
   ]
  },
  {
   "cell_type": "code",
   "execution_count": 44,
   "id": "7572c890-f617-49d7-b482-bf5eb6fa29a0",
   "metadata": {
    "editable": true,
    "slideshow": {
     "slide_type": ""
    },
    "tags": []
   },
   "outputs": [
    {
     "data": {
      "text/plain": [
       "'language'"
      ]
     },
     "execution_count": 44,
     "metadata": {},
     "output_type": "execute_result"
    }
   ],
   "source": [
    "text[-8:]  # negative values can also be used in slicing"
   ]
  },
  {
   "cell_type": "code",
   "execution_count": 45,
   "id": "9683d962-3a39-415d-8b16-8c561f7761a9",
   "metadata": {
    "editable": true,
    "slideshow": {
     "slide_type": ""
    },
    "tags": []
   },
   "outputs": [
    {
     "data": {
      "text/plain": [
       "'Python'"
      ]
     },
     "execution_count": 45,
     "metadata": {},
     "output_type": "execute_result"
    }
   ],
   "source": [
    "text[:6]  # first 6 characters"
   ]
  },
  {
   "cell_type": "markdown",
   "id": "48bd9ca3-9dd6-403d-bd71-a6d03145ac14",
   "metadata": {},
   "source": [
    "#### Getting the length of a string\n",
    "\n",
    "To retrieve the length of a string, we use built-in function `len`:"
   ]
  },
  {
   "cell_type": "code",
   "execution_count": 46,
   "id": "c42c75d7-f4da-4373-b580-de65582bfc60",
   "metadata": {},
   "outputs": [
    {
     "data": {
      "text/plain": [
       "32"
      ]
     },
     "execution_count": 46,
     "metadata": {},
     "output_type": "execute_result"
    }
   ],
   "source": [
    "text = \"Python is a programming language\"\n",
    "len(text)"
   ]
  },
  {
   "attachments": {},
   "cell_type": "markdown",
   "id": "233b2bf5-1751-4259-b7a9-1040e38de962",
   "metadata": {},
   "source": [
    "### Exercises 2.5.2\n",
    "\n",
    "1. Store the following strings in different variables and check if any one of them is contained in `\"The Zen of Python\"`:\n",
    "   ```python\n",
    "   \"zen\"\n",
    "   \"Python\"\n",
    "   \"\"\n",
    "   ```\n",
    "2. Following the images below for guidance, build and print your first name initial with ASCII art. You will have to use string concatenation and multiplication.\n",
    "   \n",
    "    <img src=\"images/A-L.png\" width=\"300\"/>   <img src=\"images/M-X.png\" width=\"300\"/>  <img src=\"images/Y-Z.png\" width=\"300\"/>\n",
    "\n",
    "1. Given the string `\"abcdefghijklmn\"` print the following:\n",
    "    * the third character of this string.\n",
    "    * the second to last character of this string.\n",
    "    * the first five characters of this string.\n",
    "    * all but the last two characters of this string.\n",
    "    * all the characters of this string with even indices (remember indexing \n",
    "    starts at 0, so the characters are displayed starting with the first).\n",
    "    * all the characters of this string with odd indices \n",
    "    (i.e. starting with the second character in the string).\n",
    "    * all the characters of the string in reverse order.\n",
    "    * every second character of the string in reverse order, starting from the \n",
    "    last one."
   ]
  },
  {
   "cell_type": "markdown",
   "id": "512b9c91-44f9-44d4-94c8-ff6a538b78db",
   "metadata": {},
   "source": [
    "### String interpolation\n",
    "\n",
    "F-strings, introduced in Python 3.6, offer a powerful and concise way to format strings with variables and expressions. \n",
    "\n",
    "#### Syntax\n",
    "F-strings are prefixed with an `f` before the opening quote. You can embed Python expressions and variables directly within curly braces `{}` inside the string.\n",
    "\n",
    "#### Variable Substitution\n",
    "F-strings allow you to easily include variable values within a string."
   ]
  },
  {
   "cell_type": "code",
   "execution_count": 47,
   "id": "5e0a4323-469e-4b51-be63-16ed77708beb",
   "metadata": {},
   "outputs": [
    {
     "name": "stdout",
     "output_type": "stream",
     "text": [
      "My name is Alice and I am 30 years old.\n"
     ]
    }
   ],
   "source": [
    "name = \"Alice\"\n",
    "age = 30\n",
    "print(f\"My name is {name} and I am {age} years old.\")"
   ]
  },
  {
   "cell_type": "markdown",
   "id": "2bb496f1-91ea-4312-b82b-8c138a9e1c10",
   "metadata": {},
   "source": [
    "#### Expression Evaluation\n",
    "\n",
    "Arbitrary expressions within the curly braces will be evaluated."
   ]
  },
  {
   "cell_type": "code",
   "execution_count": 48,
   "id": "fcb93bf3-29f8-4746-ba8d-2dba7949c747",
   "metadata": {},
   "outputs": [
    {
     "name": "stdout",
     "output_type": "stream",
     "text": [
      "The sum of 5 and 3 is 8.\n"
     ]
    }
   ],
   "source": [
    "a = 5\n",
    "b = 3\n",
    "print(f\"The sum of {a} and {b} is {a + b}.\")"
   ]
  },
  {
   "cell_type": "markdown",
   "id": "e937bd7b-4929-4139-9198-9821bf2da043",
   "metadata": {},
   "source": [
    "#### Formatting Options\n",
    "\n",
    "F-strings support various formatting options for controlling the appearance of values. The format specifier will be added inside the curly braces, separated by a colon from the variable or expression: `{variable_or_expression:format_specifier}`. A complete guide to format specifiers can be found [here](https://peps.python.org/pep-3101/#standard-format-specifiers). The most common use of format specifiers is for rounding float values to a fixed precision (`.<precision>f`)."
   ]
  },
  {
   "cell_type": "code",
   "execution_count": 49,
   "id": "613ee400-f2f2-4a02-bb27-95def7334076",
   "metadata": {},
   "outputs": [
    {
     "name": "stdout",
     "output_type": "stream",
     "text": [
      "Value of Pi: 3.14\n"
     ]
    }
   ],
   "source": [
    "pi = 3.14159\n",
    "print(f\"Value of Pi: {pi:.2f}\")"
   ]
  },
  {
   "cell_type": "markdown",
   "id": "86d03912-db1c-4255-9286-83a4e5b88e4c",
   "metadata": {},
   "source": [
    "### Exercises 2.5.3 \n",
    "\n",
    "1. Given the following variables\n",
    "\n",
    "```python\n",
    "first_name = 'Mike'\n",
    "last_name = 'Clarkson'\n",
    "accounts = 2\n",
    "balance = 128.5532\n",
    "```\n",
    "\n",
    "print the following message using f-strings:\n",
    "\n",
    "> M. Clarkson has 2 bank accounts with a total balance of 128.55$."
   ]
  },
  {
   "cell_type": "markdown",
   "id": "ef3aa05a-096d-4a42-9457-2a372fa36df8",
   "metadata": {},
   "source": [
    "## 2.6 Console input and output\n",
    "\n",
    "### 2.6.1. The `print` function\n",
    "\n",
    "The `print` function in Python serves as one of the fundamental tools for displaying information to users. It allows you to output text and variables to the console or other output streams. We have already used `print` function to display the results of different operations, but let's see more use cases.\n",
    "\n",
    "The most basic use case, is calling `print` with one argument (be it a literal or a variable):"
   ]
  },
  {
   "cell_type": "code",
   "execution_count": 50,
   "id": "aa6aca5a-4c0a-4630-83f2-e15c629c4111",
   "metadata": {},
   "outputs": [
    {
     "name": "stdout",
     "output_type": "stream",
     "text": [
      "10\n"
     ]
    }
   ],
   "source": [
    "my_int = 10\n",
    "print(my_int)"
   ]
  },
  {
   "cell_type": "markdown",
   "id": "c0dcd0b5-dc11-4c06-af8e-b9c26dca07bb",
   "metadata": {},
   "source": [
    "But `print` (and functions in general) can also be called with an expression as argument. The expression will be computed first, and then its result will be sent to `print`:"
   ]
  },
  {
   "cell_type": "code",
   "execution_count": 51,
   "id": "6ba60b71-9322-4c12-a8cb-9bf5a4efe354",
   "metadata": {},
   "outputs": [
    {
     "name": "stdout",
     "output_type": "stream",
     "text": [
      "23\n"
     ]
    }
   ],
   "source": [
    "print(my_int * 2 + my_int // 3)"
   ]
  },
  {
   "cell_type": "markdown",
   "id": "85f3421a-1fbd-4b27-a1f0-c0bc6f115056",
   "metadata": {},
   "source": [
    "`print` can receive multiple arguments when called. The values will be separated by a space when displayed:"
   ]
  },
  {
   "cell_type": "code",
   "execution_count": 52,
   "id": "0269101f-da49-42de-aae8-5cc5adf54e90",
   "metadata": {},
   "outputs": [
    {
     "name": "stdout",
     "output_type": "stream",
     "text": [
      "10 3.4 hello\n"
     ]
    }
   ],
   "source": [
    "print(my_int, 3.4, \"hello\")  # calling print with 3 arguments"
   ]
  },
  {
   "cell_type": "markdown",
   "id": "bb6bf91c-c622-4356-b5e6-b5ae2a8669b6",
   "metadata": {},
   "source": [
    "The default separator can be replaced by a custom one by specifying the keyword argument `sep`:"
   ]
  },
  {
   "cell_type": "code",
   "execution_count": 53,
   "id": "82c0cc2e-35c4-4131-8ff5-4eaf98f0ec63",
   "metadata": {},
   "outputs": [
    {
     "name": "stdout",
     "output_type": "stream",
     "text": [
      "10, 3.4, hello\n"
     ]
    }
   ],
   "source": [
    "print(my_int, 3.4, \"hello\", sep=\", \")"
   ]
  },
  {
   "cell_type": "markdown",
   "id": "8be57feb-c232-49d0-a595-071af1a0762c",
   "metadata": {},
   "source": [
    "At the end of each line displayed, `print` adds a newline. Notice how each print output is displayed on a separate line:"
   ]
  },
  {
   "cell_type": "code",
   "execution_count": 54,
   "id": "b0903a93-2d62-4eda-b7f6-9eb294b3a8a1",
   "metadata": {},
   "outputs": [
    {
     "name": "stdout",
     "output_type": "stream",
     "text": [
      "hello\n",
      "hello there\n"
     ]
    }
   ],
   "source": [
    "print(\"hello\")\n",
    "print(\"hello there\")"
   ]
  },
  {
   "cell_type": "markdown",
   "id": "58d9cee2-9eed-4b35-a1ff-b0de6353d345",
   "metadata": {},
   "source": [
    "This behavior can be overwritten, by specifying the keyword argument `end`:"
   ]
  },
  {
   "cell_type": "code",
   "execution_count": 63,
   "id": "591a5a49-5144-45f2-80c8-67e32a6cc4d9",
   "metadata": {},
   "outputs": [
    {
     "name": "stdout",
     "output_type": "stream",
     "text": [
      "hello hello there\n"
     ]
    }
   ],
   "source": [
    "print(\"hello\", end=\" \")\n",
    "print(\"hello there\")"
   ]
  },
  {
   "cell_type": "markdown",
   "id": "419ce85c-7283-4e7d-a54c-28e259c198da",
   "metadata": {},
   "source": [
    "### Exercises 2.6.1\n",
    "\n",
    "1. Print the values of the following variables (using a `print` call for each variable):\n",
    "   ```python\n",
    "   greeting1 = \"Hello!\"\n",
    "   greeting2 = \"Hi!\"\n",
    "   question = \"How are you?\"\n",
    "   answer = \"Fine.\"\n",
    "   ```\n",
    "2. Now do the same thing, but using a single `print` call to display them all on separate lines."
   ]
  },
  {
   "cell_type": "markdown",
   "id": "8f0fe700-493b-403a-a683-56cc16720659",
   "metadata": {},
   "source": [
    "### 2.6.2. The `input` function\n",
    "\n",
    "The `input()` function in Python is a powerful tool for getting user input during program execution. It allows you to prompt the user for information and then store their response as a string, which you can manipulate, process, or display as needed within your program.\n",
    "\n",
    "Using `input()` is straightforward: simply call the function and optionally provide a prompt message as an argument. The program will pause execution, display the prompt message (if provided), and wait for the user to input text followed by pressing the Enter key."
   ]
  },
  {
   "cell_type": "code",
   "execution_count": 56,
   "id": "a63fb8f0-4e3c-400c-ac1c-f1bf8ee2106a",
   "metadata": {},
   "outputs": [
    {
     "name": "stdin",
     "output_type": "stream",
     "text": [
      "Enter your name:  Iulia\n"
     ]
    }
   ],
   "source": [
    "name = input(\"Enter your name: \")"
   ]
  },
  {
   "cell_type": "code",
   "execution_count": 57,
   "id": "7fe7afd9-bcae-4452-9c73-1932443a45ad",
   "metadata": {},
   "outputs": [
    {
     "data": {
      "text/plain": [
       "'Iulia'"
      ]
     },
     "execution_count": 57,
     "metadata": {},
     "output_type": "execute_result"
    }
   ],
   "source": [
    "name"
   ]
  },
  {
   "cell_type": "markdown",
   "id": "fd98b1f4-bc2e-45a3-9293-d72b0daacad3",
   "metadata": {},
   "source": [
    "Anything the user enters will be saved as a string. If you need variables of a different type, you will have to convert the input to the desired type:"
   ]
  },
  {
   "cell_type": "code",
   "execution_count": 58,
   "id": "657e4317-f675-44e3-9d20-54fc6c41d187",
   "metadata": {},
   "outputs": [
    {
     "name": "stdin",
     "output_type": "stream",
     "text": [
      "Enter your age:  10\n"
     ]
    }
   ],
   "source": [
    "age = input(\"Enter your age: \")"
   ]
  },
  {
   "cell_type": "code",
   "execution_count": 59,
   "id": "3afc1a0c-2d78-41bc-bbe6-0e3e6aa3e649",
   "metadata": {},
   "outputs": [
    {
     "data": {
      "text/plain": [
       "'10'"
      ]
     },
     "execution_count": 59,
     "metadata": {},
     "output_type": "execute_result"
    }
   ],
   "source": [
    "age"
   ]
  },
  {
   "cell_type": "code",
   "execution_count": 60,
   "id": "063ecc5d-90e3-46db-8db5-4ab3cf0a681c",
   "metadata": {},
   "outputs": [],
   "source": [
    "age = int(age)  # converting the string to integer"
   ]
  },
  {
   "cell_type": "markdown",
   "id": "c67859bb-dbc3-476b-b543-49d605d70f86",
   "metadata": {},
   "source": [
    "Now we can use the integer age in computations:"
   ]
  },
  {
   "cell_type": "code",
   "execution_count": 61,
   "id": "2587f672-e1b7-4213-98f1-fa7939c05476",
   "metadata": {},
   "outputs": [
    {
     "name": "stdout",
     "output_type": "stream",
     "text": [
      "Iulia was born in 2014.\n"
     ]
    }
   ],
   "source": [
    "print(f\"{name} was born in {2024 - age}.\")"
   ]
  },
  {
   "cell_type": "markdown",
   "id": "7e5830b4-b0f1-4c0f-9d5e-26c4226e823f",
   "metadata": {},
   "source": [
    "### Exercises 2.6.2\n",
    "\n",
    "1. Write a program that will compute the net price and VAT for a product. First, ask the user what product they bought. Then, ask them how much they paid for that product. Considering VAT is 19% of the price, compute the net price of the product and the VAT value. Then, display the following message:\n",
    "   > You bought a \\<product_name> for which you paid \\<net_price> + \\<vat_value> VAT."
   ]
  }
 ],
 "metadata": {
  "kernelspec": {
   "display_name": "Python 3 (ipykernel)",
   "language": "python",
   "name": "python3"
  },
  "language_info": {
   "codemirror_mode": {
    "name": "ipython",
    "version": 3
   },
   "file_extension": ".py",
   "mimetype": "text/x-python",
   "name": "python",
   "nbconvert_exporter": "python",
   "pygments_lexer": "ipython3",
   "version": "3.13.0"
  }
 },
 "nbformat": 4,
 "nbformat_minor": 5
}
