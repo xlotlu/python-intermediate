{
 "cells": [
  {
   "cell_type": "markdown",
   "id": "c3c9f130-6f52-4cbb-b2f2-4774fd43810b",
   "metadata": {},
   "source": [
    "# 3. Control Flow\n",
    "\n",
    "Control flow refers to the order in which the statements in a program are executed. It determines how the program's instructions are processed based on certain conditions or decision points. In essence, control flow dictates the path that the program takes during its execution.\n",
    "\n",
    "There are several key elements of control flow:\n",
    "\n",
    "- **Sequential Execution**: This is the default behavior of a program, where statements are executed one after the other in the order they appear in the code.\n",
    "- **Conditional Execution**: Conditional statements, such as `if` statements, allow the program to execute certain blocks of code only if specific conditions are met. Depending on whether a condition evaluates to true or false, the program follows different paths.\n",
    "- **Looping**: Looping constructs, such as `for` loops and `while` loops, enable the program to execute a block of code repeatedly as long as certain conditions are true. This allows for efficient repetition of tasks without the need for duplicate code.\n",
    "- **Branching**: Branching statements, like `break` and `continue`, provide mechanisms to alter the flow of control within loops. They allow for early termination of loops or skipping iterations.\n",
    "\n",
    "## 3.1. Conditional Statement (`if-elif-else`)\n",
    "\n",
    "In Python, conditional statements are used to execute certain blocks of code based on whether a specific _condition_ is true or false. The condition can be as simple as a variable, or it can be a more complex expression that can be evaluated as true or false. \n",
    "\n",
    "The syntax of a simple conditional statement in Python is as follows:\n",
    "\n",
    "```python\n",
    "if condition:\n",
    "    statement_1\n",
    "    ...\n",
    "    statement_n\n",
    "```\n",
    "\n",
    "Notice the whitespace at the beginning of `statement_1 ... statement_n`. This is called indentation. While other programming languages use curly brackets to group together statements in the same block of statements, Python uses indentation. This contributes to a higher readability of the program. In order to end the `if` statement, you simply return to the previous indentation level.\n",
    "\n",
    "What can be used as a _condition_ in an `if` statement?\n",
    "- comparison between values\n",
    "- boolean values\n",
    "- boolean expressions\n",
    "- expressions containing other operators (e.g. `in` and `not in`)\n",
    "- function/method calls\n",
    "- more generally, anything that can be evaluated as true or false\n"
   ]
  },
  {
   "cell_type": "markdown",
   "id": "b1a907a8-4352-4a73-90f9-47cdc92a349a",
   "metadata": {},
   "source": [
    "### Comparison operators\n",
    "\n",
    "The table below contains comparison operations in Python.\n",
    "\n",
    "| Operation | Meaning                 |\n",
    "|-----------|-------------------------|\n",
    "| `<`       | strictly less than      |\n",
    "| `<=`      | less than or equal      |\n",
    "| `>`       | strictly greater than   |\n",
    "| `>=`      | greater than or equal   |\n",
    "| `==`      | equal                   |\n",
    "| `!=`      | not equal               |\n",
    "\n",
    "The result of a comparison operations is always a boolean value, making them another common appearance with conditionals."
   ]
  },
  {
   "cell_type": "code",
   "execution_count": 1,
   "id": "79f4255d-c7b2-469c-8fc2-d124400d4def",
   "metadata": {},
   "outputs": [
    {
     "data": {
      "text/plain": [
       "True"
      ]
     },
     "execution_count": 1,
     "metadata": {},
     "output_type": "execute_result"
    }
   ],
   "source": [
    "5 < 7.5  # numbers of different types can be compared"
   ]
  },
  {
   "cell_type": "code",
   "execution_count": 2,
   "id": "5b2dbae8-2f68-45b6-9878-913d48dd7a9a",
   "metadata": {},
   "outputs": [
    {
     "data": {
      "text/plain": [
       "True"
      ]
     },
     "execution_count": 2,
     "metadata": {},
     "output_type": "execute_result"
    }
   ],
   "source": [
    "\"abc\" >= \"aaa\"  # strings can also be compared"
   ]
  },
  {
   "cell_type": "code",
   "execution_count": 3,
   "id": "94edc21c-4d9f-47e5-bee8-6713159f7e73",
   "metadata": {},
   "outputs": [
    {
     "data": {
      "text/plain": [
       "True"
      ]
     },
     "execution_count": 3,
     "metadata": {},
     "output_type": "execute_result"
    }
   ],
   "source": [
    "grade = 7\n",
    "0 < grade <= 10  # comparisons can be chained"
   ]
  },
  {
   "cell_type": "code",
   "execution_count": 4,
   "id": "86cbdc50-701f-48bc-8f6d-969736b6716d",
   "metadata": {},
   "outputs": [
    {
     "data": {
      "text/plain": [
       "True"
      ]
     },
     "execution_count": 4,
     "metadata": {},
     "output_type": "execute_result"
    }
   ],
   "source": [
    "grade == 7  # checking if two values are equal"
   ]
  },
  {
   "cell_type": "markdown",
   "id": "0f3edee2-e1e7-4893-bab7-5629b7b32e2d",
   "metadata": {},
   "source": [
    "### Exercises 3.1.1\n",
    "\n",
    "1. Ask the user to input a number and store it in a float variable. Write expressions that check the following:\n",
    "    - if the number is equal to 5\n",
    "    - if the number is different than 3\n",
    "    - if the number is greater than or equal to 0\n",
    "    - if the number is strictly greater than 4.3 and smaller or equal to 7.9\n",
    "2. Ask the user to input their name. Write an expression that is `True` if the name is longer than 5 characters.\n",
    "3. Ask the user to input a word. Check if that word is a palindrome (the word is the same if read the same backwards as forwards, e.g. \"madam\").\n",
    "  \n",
    "### Boolean values\n",
    "\n",
    "`bool` is a built-in data type that represents Boolean values, which can be either true or false. Boolean values are used to represent the truthfulness or falsehood of an expression or condition. The `bool` type in Python has two values: `True` and `False`. Let's see an example:"
   ]
  },
  {
   "cell_type": "code",
   "execution_count": 5,
   "id": "4f6877fa-294a-48b2-992c-2ce5871a5bf6",
   "metadata": {},
   "outputs": [],
   "source": [
    "name = \"Felix\"\n",
    "is_cat = True"
   ]
  },
  {
   "cell_type": "code",
   "execution_count": 6,
   "id": "adf2ff14-b64c-47fd-9580-ec04fbe58f6b",
   "metadata": {},
   "outputs": [
    {
     "data": {
      "text/plain": [
       "bool"
      ]
     },
     "execution_count": 6,
     "metadata": {},
     "output_type": "execute_result"
    }
   ],
   "source": [
    "type(is_cat)"
   ]
  },
  {
   "cell_type": "markdown",
   "id": "10fb34c6-b698-4840-93a4-951edfa19787",
   "metadata": {},
   "source": [
    "Boolean values are the perfect candidates to be used as a condition in `if` statements:"
   ]
  },
  {
   "cell_type": "code",
   "execution_count": 7,
   "id": "b44c960a-da61-4dfe-82cb-fd62cbc28857",
   "metadata": {},
   "outputs": [
    {
     "name": "stdout",
     "output_type": "stream",
     "text": [
      "Felix is my pet.\n",
      "He is a cat.\n"
     ]
    }
   ],
   "source": [
    "print(f\"{name} is my pet.\")\n",
    "if is_cat:\n",
    "    print(\"He is a cat.\")"
   ]
  },
  {
   "cell_type": "markdown",
   "id": "8c65f445-335a-4739-aad6-1d6e3f6be4ab",
   "metadata": {},
   "source": [
    "### Using objects of different types as a condition\n",
    "\n",
    "Any object can be tested for truth value, for use in an `if` or `while` condition or as operand of a boolean operation.\n",
    "Here are most of the built-in objects considered false. These values are also called _falsy_ values (as opposed to _truthy_ values) because they evaluate as `False` without being exactly `False`:\n",
    "\n",
    "* constants defined to be false: `None`, `False`\n",
    "* zero of any numeric type: `0`, `0.0`, `0j`, `Decimal(0)`, `Fraction(0, 1)`\n",
    "* empty sequences and collections: `''`, `()`, `[]`, `{}`, `set()`, `range(0)`"
   ]
  },
  {
   "cell_type": "code",
   "execution_count": 8,
   "id": "2d963a22-5ea8-44c4-81fa-4b35616075d4",
   "metadata": {},
   "outputs": [
    {
     "name": "stdout",
     "output_type": "stream",
     "text": [
      "You have played the game 3 times.\n"
     ]
    }
   ],
   "source": [
    "times_played = 3\n",
    "if times_played:\n",
    "    print(f\"You have played the game {times_played} times.\")"
   ]
  },
  {
   "cell_type": "markdown",
   "id": "a80493df-e0c4-4f1a-969b-ad8cf3b057d7",
   "metadata": {},
   "source": [
    "### Exercises 3.1.2\n",
    "\n",
    "1. In the program that asks for the name of the user, print _Hello, \\<name>!_ if the user's name is not empty.\n",
    "\n",
    "### Boolean operations (`and`, `or`, `not`)\n",
    "\n",
    "Boolean operations in Python involve logical operations performed on Boolean values (`True` or `False`). These operations allow you to combine, negate, or modify Boolean values to determine the truth value of complex expressions. These are the Boolean operations, ordered by ascending priority:\n",
    "\n",
    "| Operation | Result                                   |\n",
    "|-----------|------------------------------------------|\n",
    "| `x or y`  | if x is false, then y, else x            |\n",
    "| `x and y` | if x is false, then x, else y            |\n",
    "| `not x`   | if x is false, then `True`, else `False` |\n",
    "\n",
    "`and` and `or` are short-circuit operators, meaning that the second operand won't be evaluated if the first one is enough to decide the truth value of the expression."
   ]
  },
  {
   "cell_type": "code",
   "execution_count": 9,
   "id": "2bfb2752-75fd-4687-9a8a-67c3c178a40f",
   "metadata": {},
   "outputs": [
    {
     "data": {
      "text/plain": [
       "False"
      ]
     },
     "execution_count": 9,
     "metadata": {},
     "output_type": "execute_result"
    }
   ],
   "source": [
    "True and False"
   ]
  },
  {
   "cell_type": "code",
   "execution_count": 10,
   "id": "b2cef8b6-ca3f-42b0-a312-5abbe70b56a4",
   "metadata": {},
   "outputs": [
    {
     "data": {
      "text/plain": [
       "True"
      ]
     },
     "execution_count": 10,
     "metadata": {},
     "output_type": "execute_result"
    }
   ],
   "source": [
    "True or False"
   ]
  },
  {
   "cell_type": "code",
   "execution_count": 11,
   "id": "b245f301-c79c-4c08-a948-33602eefd9b8",
   "metadata": {},
   "outputs": [
    {
     "data": {
      "text/plain": [
       "True"
      ]
     },
     "execution_count": 11,
     "metadata": {},
     "output_type": "execute_result"
    }
   ],
   "source": [
    "True or undefined"
   ]
  },
  {
   "cell_type": "markdown",
   "id": "894171d4-b67a-4aee-81f2-1c25ce49d144",
   "metadata": {},
   "source": [
    "### Exercises 3.1.3\n",
    "\n",
    "1. Given two integers, `x` and `y`, create a boolean which is `True` if one of them is 100 or if their sum is 100.\n",
    "2. Given a string, print `True` if it contains both `a` and `e`.\n",
    "3. Given a string,  print `True` if it does not contain the character `t`.\n",
    "\n",
    "### Comparison to `True`, `False` and `None`\n",
    "\n",
    "`True` and `False` are Python's boolean values. \n",
    "\n",
    "`None` is a special constant that represents the absence of a value or a null value. It is often used to signify that a variable or expression does not have a meaningful value or that a function does not return anything.\n",
    "\n",
    "Comparison to `True`, `False` and `None` is done with `is` and `is not` operators."
   ]
  },
  {
   "cell_type": "code",
   "execution_count": 12,
   "id": "c6938f94-70fa-4ccc-aea3-0bab15ce4c1e",
   "metadata": {},
   "outputs": [
    {
     "name": "stdout",
     "output_type": "stream",
     "text": [
      "No value assigned to name\n"
     ]
    }
   ],
   "source": [
    "name = None\n",
    "if name is None:\n",
    "    print(\"No value assigned to name\")"
   ]
  },
  {
   "cell_type": "code",
   "execution_count": 13,
   "id": "6146fbba-84d9-4692-91b0-aae82796282b",
   "metadata": {},
   "outputs": [
    {
     "name": "stdout",
     "output_type": "stream",
     "text": [
      "Hello, Ana!\n"
     ]
    }
   ],
   "source": [
    "name = \"Ana\"\n",
    "if name is not None:\n",
    "    print(f\"Hello, {name}!\")"
   ]
  },
  {
   "cell_type": "markdown",
   "id": "c2b14d52-3b39-4955-993d-47892a0783a4",
   "metadata": {},
   "source": [
    "If we want to check that a value is specifically `True` or `False`, and not just any truthy or falsy value, we will compare it with identity operators:"
   ]
  },
  {
   "cell_type": "code",
   "execution_count": 28,
   "id": "2ed974a0-967c-4953-9da0-161f643f258a",
   "metadata": {},
   "outputs": [
    {
     "name": "stdout",
     "output_type": "stream",
     "text": [
      "Felix is a cat.\n"
     ]
    }
   ],
   "source": [
    "name = \"Felix\"\n",
    "is_cat = True\n",
    "if is_cat is True:\n",
    "    print(f\"{name} is a cat.\")"
   ]
  },
  {
   "cell_type": "markdown",
   "id": "caff9277-132d-40f2-814e-715363798559",
   "metadata": {},
   "source": [
    "### Exercises 3.1.4\n",
    "\n",
    "1. Initialize a variable `age` with the value `None`. Check if `age` is `None`, and, if it is, ask the user to input his age. Print the value of variable `age`.\n",
    "2. In the code above, change `age` value to a numeric value. Re-run the code. What happens?\n",
    "\n",
    "### The `else` clause\n",
    "\n",
    "In the code we've written by now, we have used simple `if` statements to decide if a block of code gets executed or not. The `else` clause is used in conjunction with the `if` statement to specify a block of code to be executed when the condition of the `if` statement evaluates to `False`. It provides an alternative path of execution when the condition is not met.\n",
    "\n",
    "Here's the general syntax of the `if` statement with the `else` clause:\n",
    "\n",
    "```python\n",
    "if condition:\n",
    "    # Code block to execute if condition is True\n",
    "else:\n",
    "    # Code block to execute if condition is False\n",
    "```"
   ]
  },
  {
   "cell_type": "code",
   "execution_count": 15,
   "id": "75bb78f0-4679-477f-a6c4-97e6de70430f",
   "metadata": {},
   "outputs": [
    {
     "name": "stdout",
     "output_type": "stream",
     "text": [
      "x is not greater than 10\n"
     ]
    }
   ],
   "source": [
    "x = 1\n",
    "\n",
    "if x > 10:\n",
    "    print(\"x is greater than 10\")\n",
    "else:\n",
    "    print(\"x is not greater than 10\")"
   ]
  },
  {
   "cell_type": "markdown",
   "id": "be1f7610-4a46-4b7e-b10a-6f7fc4823af7",
   "metadata": {},
   "source": [
    "### Exercises 3.1.5\n",
    "\n",
    "1. Create a Python program that takes an integer input from the user and determines whether it is even or odd. Output \"Even\" if the number is divisible by 2, and \"Odd\" if it is not divisible by 2.\n",
    "2. Ask the user to enter a password. If the input from the user is equal to \"pass123\" display \"Access granted\", otherwise display \"Access denied\".\n",
    "3. Write a Python program that determines whether a given year entered by the user is a leap year or not. A leap year is a year that is divisible by 4, but not divisible by 100 or if it is divisible by 400. Display the appropriate message, e.g.\n",
    "   > 2024 is a leap year\n",
    "   > \n",
    "   > 1900 is not a leap year\n",
    "\n",
    "### The `elif` clause\n",
    "\n",
    "The `elif` clause (short for \"else if\") is used in conjunction with the `if` statement to specify additional conditions to be tested if the original `if` condition evaluates to False. It allows for the testing of multiple conditions sequentially, providing an alternative path of execution for each condition that is met.\n",
    "\n",
    "Here's the general syntax of the `if` statement with the `elif` clause:\n",
    "\n",
    "```python\n",
    "if condition1:\n",
    "    # Code block to execute if condition1 is True\n",
    "elif condition2:\n",
    "    # Code block to execute if condition1 is False and condition2 is True\n",
    "elif condition3:\n",
    "    # Code block to execute if both condition1 and condition2 are False, and condition3 is True\n",
    "else:\n",
    "    # Code block to execute if none of the conditions are True\n",
    "\n",
    "```"
   ]
  },
  {
   "cell_type": "code",
   "execution_count": 16,
   "id": "a055e9f1-5307-4d2d-9bcd-10ff9a8a82f7",
   "metadata": {},
   "outputs": [
    {
     "name": "stdout",
     "output_type": "stream",
     "text": [
      "x is equal to 10\n"
     ]
    }
   ],
   "source": [
    "x = 10\n",
    "\n",
    "if x > 10:\n",
    "    print(\"x is greater than 10\")\n",
    "elif x < 10:\n",
    "    print(\"x is less than 10\")\n",
    "else:\n",
    "    print(\"x is equal to 10\")"
   ]
  },
  {
   "cell_type": "markdown",
   "id": "c539003e-02ec-406f-b1e0-23934d66b785",
   "metadata": {},
   "source": [
    "### Exercises 3.1.6\n",
    "\n",
    "1. Create a program that takes the current hour as an integer value (in 24-hour format) as input from the user and greets them with an appropriate message based on the time of day:\n",
    "    ```\n",
    "    Morning: [5 - 12)\n",
    "    Afternoon: [12 - 17)\n",
    "    Evening: [17 - 21)\n",
    "    Night: [21 - 5)\n",
    "    ```\n",
    "2. Create a program that asks the user to enter two numbers. Display the larger number or the message \"The numbers are equal\" if they are equal.\n",
    "\n",
    "### Nesting `if` statements\n",
    "\n",
    "`if` statements can be nested inside each other. This allows for more complex decision-making processes where multiple conditions need to be evaluated in a hierarchical manner.\n",
    "\n",
    "As with all Python control structures, proper indentation is crucial. The code blocks within nested if statements must be indented to the appropriate level to indicate their hierarchical relationship."
   ]
  },
  {
   "cell_type": "code",
   "execution_count": 30,
   "id": "61fcbec5-76d4-445f-9650-b5b8e8ae7fa9",
   "metadata": {},
   "outputs": [
    {
     "name": "stdout",
     "output_type": "stream",
     "text": [
      "Both x and y are greater than their respective thresholds.\n"
     ]
    }
   ],
   "source": [
    "x = 10\n",
    "y = 20\n",
    "\n",
    "if x > 5:\n",
    "    if y > 15:\n",
    "        print(\"Both x and y are greater than their respective thresholds.\")\n",
    "    else:\n",
    "        print(\"x is greater than 5, but y is not greater than 15.\")\n",
    "else:\n",
    "    print(\"x is not greater than 5.\")"
   ]
  },
  {
   "cell_type": "markdown",
   "id": "3b3c1c8b-3bdd-4f0e-95c5-de43f2d08893",
   "metadata": {
    "jp-MarkdownHeadingCollapsed": true
   },
   "source": [
    "### Exercises 3.1.7\n",
    "1. Create a Python program that calculates the delivery fee for an online order based on the distance of the delivery and the weight of the package. The pricing rules are as follows:\n",
    "    - For distances under 10 km:\n",
    "        - Packages weighing less than 5 kg: \\$5 delivery fee.\n",
    "        - Packages weighing 5 kg or more: \\$8 delivery fee.\n",
    "    - For distances of 10 km or more:\n",
    "        - Packages weighing less than 5 kg: \\$10 delivery fee.\n",
    "        - Packages weighing 5 kg or more: \\$15 delivery fee.\n",
    "    \n",
    "    Prompt the user to enter the distance and the weight of the package and output the delivery fee.\n",
    "\n",
    "1. Write a Python program for checking the speed of drivers. \n",
    "    * If speed is less than or equal to 50, it should print `\"OK\"`.\n",
    "    * Otherwise, for every 5 km above the speed limit (50), it should give the driver one demerit point and print the total number of demerit points. For example, if the speed is 60, it should print: `\"Points: 2\"`.\n",
    "    * If the driver gets more than 12 points, display `\"License suspended\"` instead of the number of demerit points.\n",
    "   \n",
    "    Prompt the user to enter the speed and output the appropriate message."
   ]
  },
  {
   "cell_type": "markdown",
   "id": "73d6d0d8-7934-4ec9-ac2d-ddadadeb792a",
   "metadata": {},
   "source": [
    "## 3.2. Repetitive statements - `while`\n",
    "\n",
    "The while statement is used to repeatedly execute a block of code as long as a specified condition is true. It provides a way to create loops in Python, allowing for the execution of a set of statements multiple times until the condition evaluates to false.\n",
    "\n",
    "Here's the general syntax of the while statement:\n",
    "\n",
    "```python\n",
    "while condition:\n",
    "    # Code block to execute while the condition is true\n",
    "```\n",
    "\n",
    "The condition can be any expression that evaluates to either `True` or `False`, just like we've already seen for conditionals.\n",
    "\n",
    "It's important to ensure that the condition specified in the while statement eventually becomes false to prevent an infinite loop. If the condition never becomes false, the loop will continue indefinitely, potentially causing the program to hang or crash.\n",
    "\n",
    "Inside the loop, you can include statements that modify variables or conditions, potentially affecting the loop's termination condition. This allows for dynamic control over how many times the loop is executed."
   ]
  },
  {
   "cell_type": "code",
   "execution_count": 18,
   "id": "43c861c9-59d4-4aaf-abff-6a79f418e804",
   "metadata": {},
   "outputs": [
    {
     "name": "stdout",
     "output_type": "stream",
     "text": [
      "0\n",
      "1\n",
      "2\n",
      "3\n",
      "4\n"
     ]
    }
   ],
   "source": [
    "x = 0\n",
    "while x < 5:\n",
    "    print(x)\n",
    "    x = x + 1"
   ]
  },
  {
   "cell_type": "markdown",
   "id": "84665ce0-066a-4813-8e93-7efae213e520",
   "metadata": {},
   "source": [
    "In the example above, the while loop continues executing as long as the condition `x < 5` is true. The value of `x` is printed in each iteration, and `x` is incremented by 1 in each iteration. The loop terminates when `x` becomes 5, as 5 is not less than 5.\n",
    "\n",
    "`x = x + 1` can be replaced with `x += 1`, which uses the _in-place_ operator `+=`. All arithmetic operators (and also some other operators) have their _in-place_ correspondent, which does the operation and assigns the result back to the same variable:"
   ]
  },
  {
   "cell_type": "code",
   "execution_count": 19,
   "id": "7eacac57-8b47-49f1-89fa-fe79e931df64",
   "metadata": {},
   "outputs": [
    {
     "name": "stdout",
     "output_type": "stream",
     "text": [
      "0\n",
      "1\n",
      "2\n",
      "3\n",
      "4\n"
     ]
    }
   ],
   "source": [
    "x = 0\n",
    "while x < 5:\n",
    "    print(x)\n",
    "    x += 1"
   ]
  },
  {
   "cell_type": "code",
   "execution_count": 20,
   "id": "5602a806-1331-467e-aac2-258962f4d703",
   "metadata": {},
   "outputs": [
    {
     "name": "stdout",
     "output_type": "stream",
     "text": [
      "hello!\n"
     ]
    }
   ],
   "source": [
    "greeting = \"hello\"\n",
    "greeting += \"!\"\n",
    "print(greeting)"
   ]
  },
  {
   "cell_type": "markdown",
   "id": "fadc36f1-8389-4975-be18-ae8df2fd2bf8",
   "metadata": {},
   "source": [
    "### Exercises 3.2\n",
    "\n",
    "1.  Write a program that prints all integers between 500 and 525 (both included) using a `while` loop.\n",
    "2.  Write a program that prints all numbers between 0 (included) and 100 (not included) which are divisible by 7 but not divisible by 5.\n",
    "3.  Write a Python program that calculates the factorial of a given number entered by the user. The factorial of a non-negative integer `n` is the product of all positive integers less than or equal to `n`.\n",
    "4.  Create a Python program that asks the user to enter a password and continues prompting until they enter the correct password. The correct password is \"password123\".\n",
    "\n",
    "## 3.3 Repetitive statements - `for`\n",
    "\n",
    "A `for` statement is used to iterate over an iterable object and do something for each element. It allows you to execute a block of code repeatedly for each item in the sequence.\n",
    "\n",
    "Here's the general syntax of the for loop:\n",
    "```python\n",
    "for item in sequence:\n",
    "    # Code block to execute for each item in the sequence\n",
    "```\n",
    "\n",
    "The `for` loop iterates over each item in the sequence one by one. It automatically assigns each item in the sequence to the variable specified in the loop header (`item` in the example above), allowing you to access the current item within the loop's code block.\n",
    "\n",
    "It is similar to `foreach` in other programming languages. `for` is often the preferred looping statement because *iterable* objects are widely used in Python. For the moment, we can experiment with `str` - the iterable type we have studied so far: "
   ]
  },
  {
   "cell_type": "code",
   "execution_count": 21,
   "id": "27c84215-ae62-4cb9-a98e-027413c55c74",
   "metadata": {},
   "outputs": [
    {
     "name": "stdout",
     "output_type": "stream",
     "text": [
      "h\n",
      "e\n",
      "l\n",
      "l\n",
      "o\n"
     ]
    }
   ],
   "source": [
    "greeting = 'hello'\n",
    "for character in greeting:\n",
    "    print(character)"
   ]
  },
  {
   "cell_type": "markdown",
   "id": "84bdd035-37c5-4606-be25-f35bc5bed7ff",
   "metadata": {
    "jp-MarkdownHeadingCollapsed": true
   },
   "source": [
    "### Exercises 3.3\n",
    "\n",
    "1. Prompt the user to enter a word. Iterate over the word and display, for each letter, if it is a vowel or not (use `vowels = \"aeiouAEIOU\"`), e.g.\n",
    "   > w is not a vowel\n",
    "   \n",
    "   > o is a vowel\n",
    "   "
   ]
  },
  {
   "cell_type": "markdown",
   "id": "b1db36fd-3870-4879-95ec-b3bd73c179b6",
   "metadata": {},
   "source": [
    "### 3.3.1 The `range()` function\n",
    "\n",
    "In order to emulate the behavior of `for` statements as we know them from other languages:\n",
    "\n",
    "```javascript\n",
    "for (i=0; i<10; i++) {\n",
    "  do_something(i);\n",
    "}\n",
    "```\n",
    "\n",
    "in Python, we use the `range()` built-in function:"
   ]
  },
  {
   "cell_type": "code",
   "execution_count": 22,
   "id": "c100959f-e2be-4afa-8ddf-26304b84fb99",
   "metadata": {},
   "outputs": [
    {
     "name": "stdout",
     "output_type": "stream",
     "text": [
      "0\n",
      "1\n",
      "2\n",
      "3\n",
      "4\n"
     ]
    }
   ],
   "source": [
    "for i in range(5):  # Generating a sequence of numbers from 0 to 4 with a step of 1\n",
    "    print(i)"
   ]
  },
  {
   "cell_type": "markdown",
   "id": "69e9fc8a-ee4f-468f-8193-feb8304a373e",
   "metadata": {},
   "source": [
    "Here's the general syntax of the `range()` function:\n",
    "```python\n",
    "range(start, stop, step)\n",
    "```\n",
    "- `start`: Optional. The starting value of the sequence (inclusive). If omitted, the default value is 0.\n",
    "- `stop`: Required. The stopping value of the sequence (exclusive). The sequence will stop before reaching this value.\n",
    "- `step`: Optional. The increment (or decrement if negative) between each number in the sequence. If omitted, the default step is 1.\n",
    "\n",
    "The `range()` function returns a sequence of integers starting from `start` (inclusive) up to, but not including, `stop`, with each number incremented by `step`. If `start` is omitted, it defaults to 0. If `step` is omitted, it defaults to 1.\n",
    "\n",
    "The `range()` function does not generate the entire sequence at once. Instead, it generates the numbers on demand as they are needed, which makes it memory-efficient for generating large sequences."
   ]
  },
  {
   "cell_type": "code",
   "execution_count": 23,
   "id": "d4ded467-85a8-4a64-8234-1050a6bd39da",
   "metadata": {},
   "outputs": [
    {
     "name": "stdout",
     "output_type": "stream",
     "text": [
      "1\n",
      "3\n",
      "5\n",
      "7\n",
      "9\n"
     ]
    }
   ],
   "source": [
    "for num in range(1, 11, 2):  # Generating a sequence of numbers from 1 to 10 with a step of 2\n",
    "    print(num)"
   ]
  },
  {
   "cell_type": "code",
   "execution_count": 24,
   "id": "d2564faa-18d8-4960-ad1e-3aa4375b28ee",
   "metadata": {},
   "outputs": [
    {
     "name": "stdout",
     "output_type": "stream",
     "text": [
      "10\n",
      "9\n",
      "8\n",
      "7\n",
      "6\n",
      "5\n",
      "4\n",
      "3\n",
      "2\n",
      "1\n"
     ]
    }
   ],
   "source": [
    "for num in range(10, 0, -1):  # Generating a sequence of numbers from 10 to 1 with a step of -1\n",
    "    print(num)"
   ]
  },
  {
   "cell_type": "markdown",
   "id": "731a0bc3-5043-4895-ae3e-c939faa42500",
   "metadata": {
    "jp-MarkdownHeadingCollapsed": true
   },
   "source": [
    "### Exercises 3.3.1\n",
    "\n",
    "1. Write a program that prints all integers between 500 and 525 (both included) using a `for` loop.\n",
    "2. Write a program that computes the sum of all numbers between 100 and 150 using a `for` loop.\n",
    "3. Write a Python program which iterates the integers from 1 to 50 and prints their value. For multiples of three print `\"Fizz\"` instead of the number and for the multiples of five print `\"Buzz\"` instead of the number. For numbers which are multiples of both three and five print `\"FizzBuzz\"` instead of the number."
   ]
  },
  {
   "cell_type": "markdown",
   "id": "74f60b3e-02a1-44ab-9e94-b154e507bf72",
   "metadata": {},
   "source": [
    "## 3.4 Loop alteration (`break` and `continue` statements)\n",
    "\n",
    "`break` and `continue` are control flow statements that are used within loops to alter their behavior.\n",
    "\n",
    "### 3.4.1. The `break` statement\n",
    "\n",
    "The `break` statement is used to immediately terminate the execution of a loop (such as `for` or `while`) when a certain condition is met.\n",
    "\n",
    "When the `break` statement is encountered within a loop, the loop is exited immediately, and the program continues executing the code that follows the loop.\n",
    "\n",
    "`break` is commonly used to exit a loop prematurely when a specific condition is fulfilled, without iterating through the remaining elements or steps in the loop."
   ]
  },
  {
   "cell_type": "code",
   "execution_count": 25,
   "id": "e601ae17-4b75-4568-a5e5-569a006f8c2f",
   "metadata": {},
   "outputs": [
    {
     "name": "stdout",
     "output_type": "stream",
     "text": [
      "0\n",
      "1\n",
      "2\n"
     ]
    }
   ],
   "source": [
    "for i in range(5):\n",
    "    if i == 3:\n",
    "        break\n",
    "    print(i)"
   ]
  },
  {
   "cell_type": "markdown",
   "id": "4463b46c-eacf-4c7d-8cc8-60308571a820",
   "metadata": {},
   "source": [
    "### Exercises 3.4.1 \n",
    "\n",
    "1. Write a Python program that prompts the user to enter a positive integer and determines whether it is a prime number. Use a `for` loop to check if the number is divisible by numbers between 2 and itself. If the number is divisible by any other number, break out of the loop and conclude that the number is not prime.\n",
    "2. Create a Python program that prompts the user to enter a sentence and checks whether it meets certain criteria. Use a `while` loop to repeatedly prompt the user until a valid sentence is entered. A sentence is valid if it is longer than 5 characters and contains at least one space. If the input meets the criteria, break out of the loop.\n",
    "\n",
    "### 3.4.2. The `continue` statement\n",
    "\n",
    "The `continue` statement is used to skip the current iteration of a loop and continue with the next iteration.\n",
    "\n",
    "When the `continue` statement is encountered within a loop, the remaining code within the loop for the current iteration is skipped, and the loop proceeds with the next iteration.\n",
    "\n",
    "`continue` is commonly used to skip certain iterations of a loop based on a specific condition, without exiting the loop entirely."
   ]
  },
  {
   "cell_type": "code",
   "execution_count": 26,
   "id": "e1f3d4d7-da51-445a-a6f7-06e166acfbc9",
   "metadata": {},
   "outputs": [
    {
     "name": "stdout",
     "output_type": "stream",
     "text": [
      "0\n",
      "1\n",
      "3\n",
      "4\n"
     ]
    }
   ],
   "source": [
    "for i in range(5):\n",
    "    if i == 2:\n",
    "        continue\n",
    "    print(i)"
   ]
  },
  {
   "cell_type": "markdown",
   "id": "350869d9-9af2-45c1-b339-8ef95c5abd32",
   "metadata": {},
   "source": [
    "### Exercises 3.4.2\n",
    "\n",
    "1. Write a Python program that prompts the user to enter a positive integer and prints all odd numbers up to that integer. Use a `for` loop to iterate over the range of numbers and use the `continue` statement to skip even numbers.\n",
    "2. Create a Python program that prompts the user to enter a sentence and displays the non-vowel characters in the sentence. Use a `for` loop to iterate over the characters in the sentence and use the `continue` statement to skip vowels."
   ]
  }
 ],
 "metadata": {
  "kernelspec": {
   "display_name": "Python 3 (ipykernel)",
   "language": "python",
   "name": "python3"
  },
  "language_info": {
   "codemirror_mode": {
    "name": "ipython",
    "version": 3
   },
   "file_extension": ".py",
   "mimetype": "text/x-python",
   "name": "python",
   "nbconvert_exporter": "python",
   "pygments_lexer": "ipython3",
   "version": "3.13.0"
  }
 },
 "nbformat": 4,
 "nbformat_minor": 5
}
