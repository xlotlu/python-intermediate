{
 "cells": [
  {
   "cell_type": "markdown",
   "metadata": {},
   "source": [
    "## 1. Working with the file system (`os`, `os.path`)\n",
    "\n",
    "### `os`\n",
    "\n",
    "The `os` module contains functions to get information on local directories, files, processes, and environment variables.\n",
    "\n",
    "`os.getcwd()` - returns the current working directory"
   ]
  },
  {
   "cell_type": "code",
   "execution_count": 40,
   "metadata": {},
   "outputs": [
    {
     "name": "stdout",
     "output_type": "stream",
     "text": [
      "/Users/iulia/PycharmProjects/python-training-mar2025/docs\n"
     ]
    }
   ],
   "source": [
    "import os\n",
    "current_path = os.getcwd()\n",
    "print(current_path)"
   ]
  },
  {
   "cell_type": "markdown",
   "metadata": {},
   "source": [
    "`os.listdir(path)` - returns a list of all the entries in the directory given by `path`"
   ]
  },
  {
   "cell_type": "code",
   "execution_count": 41,
   "metadata": {},
   "outputs": [
    {
     "data": {
      "text/plain": [
       "['my_module.py',\n",
       " '09. More data structures.ipynb',\n",
       " 'images',\n",
       " '01. Introduction.ipynb',\n",
       " 'output.json',\n",
       " '13. Working with databases.ipynb',\n",
       " 'users.json',\n",
       " '__pycache__',\n",
       " '12. Working with different data formats.ipynb',\n",
       " 'output.csv',\n",
       " 'data.csv',\n",
       " '14. Decorators.ipynb',\n",
       " 'data.json',\n",
       " '07. Modules.ipynb',\n",
       " 'books.csv',\n",
       " 'clients.json',\n",
       " '06. Methods on known data types.ipynb',\n",
       " '15. Object-Oriented Programming.ipynb',\n",
       " '02. Python basics.ipynb',\n",
       " 'file_example_out.txt',\n",
       " '.ipynb_checkpoints',\n",
       " '08. Introduction to File Handling.ipynb',\n",
       " '04. Lists and Tuples.ipynb',\n",
       " 'transactions.csv',\n",
       " '11. Introduction to Object-Oriented Programming.ipynb',\n",
       " 'ceva',\n",
       " '05. Functions.ipynb',\n",
       " '10. Exception Handling.ipynb',\n",
       " '99. Project.ipynb',\n",
       " 'file_example_in.txt',\n",
       " '03. Control Flow.ipynb']"
      ]
     },
     "execution_count": 41,
     "metadata": {},
     "output_type": "execute_result"
    }
   ],
   "source": [
    "os.listdir(current_path)"
   ]
  },
  {
   "cell_type": "markdown",
   "metadata": {},
   "source": [
    "`os.mkdir(path)` - creates a directory\n",
    "\n",
    "`os.makedirs(path)` - creates directory recursively, by adding eventual missing directories "
   ]
  },
  {
   "cell_type": "code",
   "execution_count": 42,
   "metadata": {},
   "outputs": [],
   "source": [
    "os.mkdir('testdir')\n",
    "assert 'testdir' in os.listdir(current_path)"
   ]
  },
  {
   "cell_type": "markdown",
   "metadata": {},
   "source": [
    "`os.chdir()` - changes the current working directory"
   ]
  },
  {
   "cell_type": "code",
   "execution_count": 43,
   "metadata": {},
   "outputs": [
    {
     "name": "stdout",
     "output_type": "stream",
     "text": [
      "Items in testdir: []\n"
     ]
    }
   ],
   "source": [
    "os.chdir('testdir')\n",
    "print('Items in testdir:', os.listdir())\n",
    "os.chdir(current_path)"
   ]
  },
  {
   "cell_type": "markdown",
   "metadata": {},
   "source": [
    "`os.rename(source, dest)` - renames the file or directory "
   ]
  },
  {
   "cell_type": "code",
   "execution_count": 44,
   "metadata": {},
   "outputs": [],
   "source": [
    "os.rename('testdir', 'new_testdir')\n",
    "assert 'testdir' not in os.listdir(current_path)\n",
    "assert 'new_testdir' in os.listdir(current_path)"
   ]
  },
  {
   "cell_type": "markdown",
   "metadata": {},
   "source": [
    "`os.remove(path)` - removes a file\n",
    "\n",
    "`os.rmdir(path)` - removes the directory path\n",
    "\n",
    "`os.removedirs(path)` - Removes directories recursively"
   ]
  },
  {
   "cell_type": "code",
   "execution_count": 45,
   "metadata": {},
   "outputs": [],
   "source": [
    "os.rmdir('new_testdir')\n",
    "assert 'new_testdir' not in os.listdir(current_path)"
   ]
  },
  {
   "cell_type": "markdown",
   "metadata": {},
   "source": [
    "`os.walk(path)` - Directory tree generator. For each directory in the directory tree rooted at top, yields a 3-tuple `dirpath, dirnames, filenames`:\n",
    "    \n",
    "* `dirpath` is a string, the path to the directory.\n",
    "* `dirnames` is a list of the names of the subdirectories in `dirpath` (excluding '.' and '..').\n",
    "* `filenames` is a list of the names of the non-directory files in `dirpath`."
   ]
  },
  {
   "cell_type": "code",
   "execution_count": 46,
   "metadata": {},
   "outputs": [
    {
     "name": "stdout",
     "output_type": "stream",
     "text": [
      ". ['images', '__pycache__', '.ipynb_checkpoints', 'ceva'] ['my_module.py', '09. More data structures.ipynb', '01. Introduction.ipynb', 'output.json', '13. Working with databases.ipynb', 'users.json', '12. Working with different data formats.ipynb', 'output.csv', 'data.csv', '14. Decorators.ipynb', 'data.json', '07. Modules.ipynb', 'books.csv', 'clients.json', '06. Methods on known data types.ipynb', '15. Object-Oriented Programming.ipynb', '02. Python basics.ipynb', 'file_example_out.txt', '08. Introduction to File Handling.ipynb', '04. Lists and Tuples.ipynb', 'transactions.csv', '11. Introduction to Object-Oriented Programming.ipynb', '05. Functions.ipynb', '10. Exception Handling.ipynb', '99. Project.ipynb', 'file_example_in.txt', '03. Control Flow.ipynb']\n",
      "./images ['.ipynb_checkpoints'] ['M-X.png', 'python_installation_windows.png', 'pycharm_installation_mac.png', 'python_installation.png', 'A-L.png', 'pycharm_installation_windows.png', 'Y-Z.png']\n",
      "./images/.ipynb_checkpoints [] ['A-L-checkpoint.png', 'M-X-checkpoint.png']\n",
      "./__pycache__ [] ['my_module.cpython-313.pyc', 'my_module.cpython-312.pyc']\n",
      "./.ipynb_checkpoints [] ['02. Python basics-checkpoint.ipynb', '13. Working with databases-checkpoint.ipynb', '09. More data structures-checkpoint.ipynb', '08. Introduction to File Handling-checkpoint.ipynb', '01. Introduction-checkpoint.ipynb', '06. Methods on known data types-checkpoint.ipynb', '11. Introduction to Object-Oriented Programming-checkpoint.ipynb', '14. Decorators-checkpoint.ipynb', '07. Modules-checkpoint.ipynb', 'file_example_in-checkpoint.txt', 'file_example_out-checkpoint.txt', '10. Exception Handling-checkpoint.ipynb', '05. Functions-checkpoint.ipynb', '15. Object-Oriented Programming-checkpoint.ipynb', '12. Project-checkpoint.ipynb', '12. Working with different data formats-checkpoint.ipynb', '03. Control Flow-checkpoint.ipynb', '04. Lists and Tuples-checkpoint.ipynb']\n",
      "./ceva [] []\n"
     ]
    }
   ],
   "source": [
    "for dirpath, dirnames, filenames in os.walk('.'):\n",
    "    print(dirpath, dirnames, filenames)"
   ]
  },
  {
   "cell_type": "markdown",
   "metadata": {},
   "source": [
    "### `os.path`\n",
    "\n",
    "`os.path` contains functions for manipulating filenames and directory names.\n",
    "\n",
    "`os.path.exists(path)` - test whether a path exists"
   ]
  },
  {
   "cell_type": "code",
   "execution_count": 47,
   "metadata": {},
   "outputs": [
    {
     "data": {
      "text/plain": [
       "True"
      ]
     },
     "execution_count": 47,
     "metadata": {},
     "output_type": "execute_result"
    }
   ],
   "source": [
    "os.path.exists(current_path)"
   ]
  },
  {
   "cell_type": "markdown",
   "metadata": {},
   "source": [
    "`os.path.isfile(path)` - test whether a path is a regular file"
   ]
  },
  {
   "cell_type": "code",
   "execution_count": 48,
   "metadata": {},
   "outputs": [
    {
     "data": {
      "text/plain": [
       "False"
      ]
     },
     "execution_count": 48,
     "metadata": {},
     "output_type": "execute_result"
    }
   ],
   "source": [
    "os.path.isfile(current_path)"
   ]
  },
  {
   "cell_type": "markdown",
   "metadata": {},
   "source": [
    "`os.path.isdir(path)` - return true if the pathname refers to an existing directory"
   ]
  },
  {
   "cell_type": "code",
   "execution_count": 49,
   "metadata": {},
   "outputs": [
    {
     "data": {
      "text/plain": [
       "True"
      ]
     },
     "execution_count": 49,
     "metadata": {},
     "output_type": "execute_result"
    }
   ],
   "source": [
    "os.path.isdir(current_path)"
   ]
  },
  {
   "cell_type": "markdown",
   "metadata": {},
   "source": [
    "`os.path.split(path)` - split a pathname;  returns tuple `(head, tail)` where `tail` is everything after the final slash"
   ]
  },
  {
   "cell_type": "code",
   "execution_count": 50,
   "metadata": {},
   "outputs": [
    {
     "data": {
      "text/plain": [
       "('/Users/iulia/PycharmProjects/python-training-mar2025', 'docs')"
      ]
     },
     "execution_count": 50,
     "metadata": {},
     "output_type": "execute_result"
    }
   ],
   "source": [
    "os.path.split(current_path)"
   ]
  },
  {
   "cell_type": "markdown",
   "metadata": {},
   "source": [
    "`os.path.join(path, \"new_var\")` - join two or more pathname components, inserting `os.sep` as needed."
   ]
  },
  {
   "cell_type": "code",
   "execution_count": 51,
   "metadata": {},
   "outputs": [
    {
     "data": {
      "text/plain": [
       "'/Users/iulia/PycharmProjects/python-training-mar2025/docs/testdir/innerdir'"
      ]
     },
     "execution_count": 51,
     "metadata": {},
     "output_type": "execute_result"
    }
   ],
   "source": [
    "os.path.join(current_path, 'testdir', 'innerdir')"
   ]
  },
  {
   "cell_type": "markdown",
   "metadata": {},
   "source": [
    "## Exercises 1\n",
    "\n",
    "1. Write a Python program that creates a directory `outdir` at the current location and a directory `innerdir` inside `outdir`. Create an empty file inside `innerdir`. Use `os.walk()` to print the directory tree for `outdir`. Remove the directories and the file.\n",
    "   \n",
    "## 2. Working with paths in the file system (`pathlib`)\n",
    "\n",
    "The `pathlib` module provides an object-oriented approach to handling file system paths. It allows you to work with file and directory paths in a more intuitive and Pythonic way than traditional string manipulation.\n",
    "\n",
    "The main class in this module is `Path`, which represents a file or directory path:"
   ]
  },
  {
   "cell_type": "code",
   "execution_count": 52,
   "metadata": {},
   "outputs": [],
   "source": [
    "from pathlib import Path"
   ]
  },
  {
   "cell_type": "markdown",
   "metadata": {},
   "source": [
    "Using this class, we can instantiate it to create paths:"
   ]
  },
  {
   "cell_type": "code",
   "execution_count": 53,
   "metadata": {},
   "outputs": [],
   "source": [
    "current_dir = Path()\n",
    "root_path = Path(\"/\")\n",
    "relative_path = Path(\"images/pycharm_installation_mac.png\")"
   ]
  },
  {
   "cell_type": "markdown",
   "metadata": {},
   "source": [
    "`Path` objects attributes:"
   ]
  },
  {
   "cell_type": "code",
   "execution_count": 54,
   "metadata": {},
   "outputs": [
    {
     "data": {
      "text/plain": [
       "PosixPath('images')"
      ]
     },
     "execution_count": 54,
     "metadata": {},
     "output_type": "execute_result"
    }
   ],
   "source": [
    "relative_path.parent  # parent directory"
   ]
  },
  {
   "cell_type": "code",
   "execution_count": 55,
   "metadata": {},
   "outputs": [
    {
     "data": {
      "text/plain": [
       "'pycharm_installation_mac'"
      ]
     },
     "execution_count": 55,
     "metadata": {},
     "output_type": "execute_result"
    }
   ],
   "source": [
    "relative_path.stem  # final path component, without its suffix"
   ]
  },
  {
   "cell_type": "code",
   "execution_count": 56,
   "metadata": {},
   "outputs": [
    {
     "data": {
      "text/plain": [
       "'.png'"
      ]
     },
     "execution_count": 56,
     "metadata": {},
     "output_type": "execute_result"
    }
   ],
   "source": [
    "relative_path.suffix  # file extension"
   ]
  },
  {
   "cell_type": "markdown",
   "metadata": {},
   "source": [
    "`Path` objects can be used to build new paths:"
   ]
  },
  {
   "cell_type": "code",
   "execution_count": 57,
   "metadata": {},
   "outputs": [
    {
     "data": {
      "text/plain": [
       "PosixPath('/usr/bin/python3')"
      ]
     },
     "execution_count": 57,
     "metadata": {},
     "output_type": "execute_result"
    }
   ],
   "source": [
    "python_path = root_path / \"usr\" / \"bin\" / \"python3\"\n",
    "python_path"
   ]
  },
  {
   "cell_type": "markdown",
   "metadata": {},
   "source": [
    "Methods of `Path` objects to check various properties:"
   ]
  },
  {
   "cell_type": "code",
   "execution_count": 58,
   "metadata": {},
   "outputs": [
    {
     "data": {
      "text/plain": [
       "True"
      ]
     },
     "execution_count": 58,
     "metadata": {},
     "output_type": "execute_result"
    }
   ],
   "source": [
    "python_path.exists()"
   ]
  },
  {
   "cell_type": "code",
   "execution_count": 59,
   "metadata": {},
   "outputs": [
    {
     "data": {
      "text/plain": [
       "True"
      ]
     },
     "execution_count": 59,
     "metadata": {},
     "output_type": "execute_result"
    }
   ],
   "source": [
    "python_path.is_file()"
   ]
  },
  {
   "cell_type": "code",
   "execution_count": 60,
   "metadata": {},
   "outputs": [
    {
     "data": {
      "text/plain": [
       "False"
      ]
     },
     "execution_count": 60,
     "metadata": {},
     "output_type": "execute_result"
    }
   ],
   "source": [
    "python_path.is_dir()"
   ]
  },
  {
   "cell_type": "markdown",
   "metadata": {},
   "source": [
    "The `Path` class also implements functions in `os` module used for directory manipulation, as methods:"
   ]
  },
  {
   "cell_type": "code",
   "execution_count": 61,
   "metadata": {},
   "outputs": [
    {
     "name": "stdout",
     "output_type": "stream",
     "text": [
      "images\n",
      "__pycache__\n",
      "new_dir\n",
      ".ipynb_checkpoints\n",
      "ceva\n"
     ]
    }
   ],
   "source": [
    "new_dir = current_dir / \"new_dir\"\n",
    "new_dir.mkdir(exist_ok=True)\n",
    "\n",
    "for directory in current_dir.iterdir():\n",
    "    if directory.is_dir():\n",
    "        print(directory)"
   ]
  },
  {
   "cell_type": "code",
   "execution_count": 62,
   "metadata": {},
   "outputs": [
    {
     "name": "stdout",
     "output_type": "stream",
     "text": [
      "file_example_out.txt\n",
      "file_example_in.txt\n",
      ".ipynb_checkpoints/file_example_in-checkpoint.txt\n",
      ".ipynb_checkpoints/file_example_out-checkpoint.txt\n"
     ]
    }
   ],
   "source": [
    "for txt_file in current_dir.glob(\"**/*.txt\"):\n",
    "    print(txt_file)"
   ]
  },
  {
   "cell_type": "code",
   "execution_count": 63,
   "metadata": {},
   "outputs": [],
   "source": [
    "new_dir.rmdir()"
   ]
  },
  {
   "cell_type": "code",
   "execution_count": 64,
   "metadata": {},
   "outputs": [
    {
     "name": "stdout",
     "output_type": "stream",
     "text": [
      ". ['images', '__pycache__', '.ipynb_checkpoints', 'ceva'] 27\n",
      "images ['.ipynb_checkpoints'] 7\n",
      "images/.ipynb_checkpoints [] 2\n",
      "__pycache__ [] 2\n",
      ".ipynb_checkpoints [] 18\n",
      "ceva [] 0\n"
     ]
    }
   ],
   "source": [
    "for dirpath, dirnames, filenames in current_dir.walk():\n",
    "    print(dirpath, dirnames, len(filenames))"
   ]
  },
  {
   "cell_type": "markdown",
   "metadata": {},
   "source": [
    "## Exercises 2\n",
    "\n",
    "1. Solve the same exercises above (Exercises 1), but using `pathlib` module.\n",
    "\n",
    "## 3. Working with JSON format\n",
    "\n",
    "### What is JSON?\n",
    "\n",
    "JSON (JavaScript Object Notation) is a lightweight data format used for exchanging data between systems. It is easy for humans to read and write and easy for machines to parse and generate. JSON is based on key-value pairs and supports basic data types such as strings, numbers, arrays, and objects.\n",
    "\n",
    "Example:  \n",
    "```json\n",
    "{\n",
    "  \"name\": \"Alice\",\n",
    "  \"age\": 30,\n",
    "  \"isEmployed\": true,\n",
    "  \"skills\": [\"Python\", \"SQL\", \"JavaScript\"],\n",
    "  \"address\": {\n",
    "    \"city\": \"New York\",\n",
    "    \"zipcode\": \"10001\"\n",
    "  }\n",
    "}\n",
    "```\n",
    "\n",
    "### `json` module\n",
    "\n",
    "The `json` module in Python provides methods to **encode** (convert Python objects to JSON) and **decode** (convert JSON to Python objects).\n",
    "\n",
    "\n",
    "- `json.loads()` - parses a JSON string and converts it into a Python object."
   ]
  },
  {
   "cell_type": "code",
   "execution_count": 65,
   "metadata": {},
   "outputs": [],
   "source": [
    "import json\n",
    "\n",
    "json_string = '{\"name\": \"Alice\", \"age\": 30}'\n",
    "data = json.loads(json_string)"
   ]
  },
  {
   "cell_type": "code",
   "execution_count": 66,
   "metadata": {},
   "outputs": [
    {
     "data": {
      "text/plain": [
       "{'name': 'Alice', 'age': 30}"
      ]
     },
     "execution_count": 66,
     "metadata": {},
     "output_type": "execute_result"
    }
   ],
   "source": [
    "data"
   ]
  },
  {
   "cell_type": "code",
   "execution_count": 67,
   "metadata": {},
   "outputs": [
    {
     "data": {
      "text/plain": [
       "dict"
      ]
     },
     "execution_count": 67,
     "metadata": {},
     "output_type": "execute_result"
    }
   ],
   "source": [
    "type(data)"
   ]
  },
  {
   "cell_type": "markdown",
   "metadata": {},
   "source": [
    "- `json.dumps()` - converts a Python object into a JSON string."
   ]
  },
  {
   "cell_type": "code",
   "execution_count": 68,
   "metadata": {},
   "outputs": [],
   "source": [
    "json_string = json.dumps(data)"
   ]
  },
  {
   "cell_type": "code",
   "execution_count": 69,
   "metadata": {},
   "outputs": [
    {
     "data": {
      "text/plain": [
       "'{\"name\": \"Alice\", \"age\": 30}'"
      ]
     },
     "execution_count": 69,
     "metadata": {},
     "output_type": "execute_result"
    }
   ],
   "source": [
    "json_string"
   ]
  },
  {
   "cell_type": "markdown",
   "metadata": {},
   "source": [
    "- `json.load()` - reads JSON data from a file and converts it into a Python object."
   ]
  },
  {
   "cell_type": "code",
   "execution_count": 70,
   "metadata": {},
   "outputs": [],
   "source": [
    "with open(\"data.json\", \"r\") as f:\n",
    "    data = json.load(f)"
   ]
  },
  {
   "cell_type": "code",
   "execution_count": 71,
   "metadata": {},
   "outputs": [
    {
     "data": {
      "text/plain": [
       "{'name': 'Mia', 'hobbies': ['painting', 'jogging']}"
      ]
     },
     "execution_count": 71,
     "metadata": {},
     "output_type": "execute_result"
    }
   ],
   "source": [
    "data"
   ]
  },
  {
   "cell_type": "code",
   "execution_count": 72,
   "metadata": {},
   "outputs": [
    {
     "data": {
      "text/plain": [
       "{'name': 'Mia', 'hobbies': ['painting', 'jogging', 'cooking'], 'age': 20}"
      ]
     },
     "execution_count": 72,
     "metadata": {},
     "output_type": "execute_result"
    }
   ],
   "source": [
    "data[\"age\"] = 20\n",
    "data[\"hobbies\"].append(\"cooking\")\n",
    "data"
   ]
  },
  {
   "cell_type": "markdown",
   "metadata": {},
   "source": [
    "- `json.dump()` - writes a Python object as JSON data to a file."
   ]
  },
  {
   "cell_type": "code",
   "execution_count": 73,
   "metadata": {},
   "outputs": [],
   "source": [
    "with open(\"output.json\", \"w\") as f:\n",
    "    json.dump(data, f)"
   ]
  },
  {
   "cell_type": "markdown",
   "metadata": {},
   "source": [
    "- Formatting with `indent` and `sort_keys`: both `dump` and `dumps` methods also receive `indent` and `sort_keys` optional parameters to add indentation or sort keys alphabetically."
   ]
  },
  {
   "cell_type": "code",
   "execution_count": 74,
   "metadata": {},
   "outputs": [
    {
     "name": "stdout",
     "output_type": "stream",
     "text": [
      "{\n",
      "    \"age\": 20,\n",
      "    \"hobbies\": [\n",
      "        \"painting\",\n",
      "        \"jogging\",\n",
      "        \"cooking\"\n",
      "    ],\n",
      "    \"name\": \"Mia\"\n",
      "}\n"
     ]
    }
   ],
   "source": [
    "formatted_json = json.dumps(data, indent=4, sort_keys=True)\n",
    "print(formatted_json)"
   ]
  },
  {
   "cell_type": "markdown",
   "metadata": {},
   "source": [
    "## Exercises 3\n",
    "1. Using [`users.json`](users.json) file:\n",
    "   - open it and decode the Python object inside it\n",
    "   - filter users with `\"email\"` key and encode the resulting object in a JSON string; print the string to the console\n",
    "   - filter users with ages between 20 and 40 and encode the resulting object in a JSON file, using `indent` and `sort_keys` parameters.\n",
    "\n",
    "## 4. Working with CSV format\n",
    "\n",
    "### What is CSV?\n",
    " \n",
    "CSV (Comma-Separated Values) is a simple file format used to store tabular data, such as a spreadsheet or database. Each line in a CSV file represents a data record, and each record consists of fields separated by a delimiter (commonly a comma).\n",
    "\n",
    "Example:\n",
    "```csv\n",
    "Name,Age,City\n",
    "Alice,30,New York\n",
    "Bob,25,Los Angeles\n",
    "Charlie,35,Chicago\n",
    "```\n",
    "\n",
    "### `csv` module\n",
    "\n",
    "The `csv` module in Python provides functionality to read, write, and manipulate CSV files easily. It supports different delimiters, quoting styles, and file encoding.\n",
    "\n",
    "* `csv.reader()` - reads a CSV file and returns an iterable object for processing each row as a list."
   ]
  },
  {
   "cell_type": "code",
   "execution_count": 75,
   "metadata": {},
   "outputs": [
    {
     "name": "stdout",
     "output_type": "stream",
     "text": [
      "['Name', 'Age', 'City']\n",
      "['Alice', '30', 'New York']\n",
      "['Bob', '25', 'Los Angeles']\n",
      "['Charlie', '35', 'Chicago']\n"
     ]
    }
   ],
   "source": [
    "import csv\n",
    "\n",
    "with open(\"data.csv\", \"r\") as file:\n",
    "    reader = csv.reader(file)\n",
    "    for row in reader:\n",
    "        print(row)"
   ]
  },
  {
   "cell_type": "markdown",
   "metadata": {},
   "source": [
    "- `csv.writer()` - writes data to a CSV file row by row."
   ]
  },
  {
   "cell_type": "code",
   "execution_count": 76,
   "metadata": {},
   "outputs": [
    {
     "name": "stdout",
     "output_type": "stream",
     "text": [
      "['Name', 'Age', 'City'] written to CSV file.\n",
      "['Alice', 30, 'New York'] written to CSV file.\n",
      "['Bob', 25, 'Los Angeles'] written to CSV file.\n",
      "['Charlie', 35, 'Chicago'] written to CSV file.\n"
     ]
    }
   ],
   "source": [
    "data = [\n",
    "    [\"Name\", \"Age\", \"City\"],\n",
    "    [\"Alice\", 30, \"New York\"],\n",
    "    [\"Bob\", 25, \"Los Angeles\"],\n",
    "    [\"Charlie\", 35, \"Chicago\"]\n",
    "]\n",
    "\n",
    "with open(\"output.csv\", \"w\", newline=\"\") as file:\n",
    "    writer = csv.writer(file)\n",
    "    # writer.writerows(data)\n",
    "    for line in data:\n",
    "        writer.writerow(line)\n",
    "        print(f\"{line} written to CSV file.\")"
   ]
  },
  {
   "cell_type": "markdown",
   "metadata": {},
   "source": [
    "- `csv.DictReader()` - reads a CSV file and converts each row into a dictionary, with column headers as keys."
   ]
  },
  {
   "cell_type": "code",
   "execution_count": 77,
   "metadata": {},
   "outputs": [
    {
     "name": "stdout",
     "output_type": "stream",
     "text": [
      "{'Name': 'Alice', 'Age': '30', 'City': 'New York'}\n",
      "{'Name': 'Bob', 'Age': '25', 'City': 'Los Angeles'}\n",
      "{'Name': 'Charlie', 'Age': '35', 'City': 'Chicago'}\n"
     ]
    }
   ],
   "source": [
    "with open(\"data.csv\", \"r\") as file:\n",
    "    reader = csv.DictReader(file)\n",
    "    for row in reader:\n",
    "        print(row)"
   ]
  },
  {
   "cell_type": "markdown",
   "metadata": {},
   "source": [
    "- `csv.DictWriter()` - writes dictionaries to a CSV file, using specified `fieldnames` as headers."
   ]
  },
  {
   "cell_type": "code",
   "execution_count": 78,
   "metadata": {},
   "outputs": [],
   "source": [
    "data = [\n",
    "    {\"Name\": \"Alice\", \"Age\": 30, \"City\": \"New York\"},\n",
    "    {\"Name\": \"Bob\", \"Age\": 25, \"City\": \"Los Angeles\"},\n",
    "    {\"Name\": \"Charlie\", \"Age\": 35, \"City\": \"Chicago\"}\n",
    "]\n",
    "\n",
    "with open(\"output.csv\", \"w\", newline=\"\") as file:\n",
    "    fieldnames = [\"Name\", \"Age\", \"City\"]\n",
    "    writer = csv.DictWriter(file, fieldnames=fieldnames)\n",
    "    writer.writeheader()\n",
    "    writer.writerows(data)"
   ]
  },
  {
   "cell_type": "markdown",
   "metadata": {},
   "source": [
    "## Exercises 4\n",
    "1. Using [`books.csv`](books.csv), do the following:\n",
    "   - read the CSV file\n",
    "   - create two other CSV files: `mathematics_books.csv` and `computer_science_books.csv`, containing only books in each genre (_Genre_ column should be equal to _mathematics_ or _computer_science_, respectively), with all columns in _books.csv_ except _Genre_"
   ]
  }
 ],
 "metadata": {
  "kernelspec": {
   "display_name": "Python 3 (ipykernel)",
   "language": "python",
   "name": "python3"
  },
  "language_info": {
   "codemirror_mode": {
    "name": "ipython",
    "version": 3
   },
   "file_extension": ".py",
   "mimetype": "text/x-python",
   "name": "python",
   "nbconvert_exporter": "python",
   "pygments_lexer": "ipython3",
   "version": "3.13.0"
  }
 },
 "nbformat": 4,
 "nbformat_minor": 4
}
