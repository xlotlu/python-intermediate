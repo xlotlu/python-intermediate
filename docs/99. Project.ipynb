{
 "cells": [
  {
   "cell_type": "markdown",
   "id": "289b8455-1a5b-4126-a217-d196e7212c1c",
   "metadata": {},
   "source": [
    "# 12. Project: Banking System\n",
    "\n",
    "Create a notification system for the clients of a bank who have almost reached their maximum overdraft. Parse data from the following files:\n",
    "- [clients.json](./clients.json)\n",
    "  - contains client data, a list of objects:\n",
    "      ```json\n",
    "      {\n",
    "        \"name\": \"Martha Foster\",\n",
    "        \"email_address\": \"martha.foster@example.com\",\n",
    "        \"bank_accounts\": [\n",
    "          {\n",
    "            \"id\": 562,\n",
    "            \"overdraft\": 1800\n",
    "          },\n",
    "          {\n",
    "            \"id\": 628,\n",
    "            \"overdraft\": 5000\n",
    "          }\n",
    "        ]\n",
    "      }\n",
    "      ```\n",
    "- [transactions.csv](./transactions.csv)\n",
    "  - contains a transaction log for accounts\n",
    "  - column `account_id` corresponds to `bank_account` -> `id` in the JSON file\n",
    "  - transaction type:\n",
    "      - `credit`: money were added to the account\n",
    "      - `debit`: money were substracted from the account\n",
    "  - column `amount` contains the amount added/substracted\n",
    " \n",
    "The Python program should do the following:\n",
    "- compute final balance for each account, by going through transactions; consider starting balance to be 0 for each account.\n",
    "- identify accounts that have a negative balance and reached 70% or more of their overdraft.\n",
    "- mock sending a notification email to these clients that have these accounts (print a message `\"Notification sent to <email>\"`)."
   ]
  }
 ],
 "metadata": {
  "kernelspec": {
   "display_name": "Python 3 (ipykernel)",
   "language": "python",
   "name": "python3"
  },
  "language_info": {
   "codemirror_mode": {
    "name": "ipython",
    "version": 3
   },
   "file_extension": ".py",
   "mimetype": "text/x-python",
   "name": "python",
   "nbconvert_exporter": "python",
   "pygments_lexer": "ipython3",
   "version": "3.12.4"
  }
 },
 "nbformat": 4,
 "nbformat_minor": 5
}
